{
 "cells": [
  {
   "cell_type": "code",
   "execution_count": 1,
   "metadata": {},
   "outputs": [],
   "source": [
    "import tensorflow as tf\n",
    "import pandas as pd\n",
    "import numpy as np\n",
    "import matplotlib.pyplot as plt\n",
    "from glob import glob\n",
    "\n",
    "\n",
    "%matplotlib inline"
   ]
  },
  {
   "cell_type": "code",
   "execution_count": 2,
   "metadata": {},
   "outputs": [
    {
     "name": "stdout",
     "output_type": "stream",
     "text": [
      "hw:  Tensor(\"add:0\", shape=(), dtype=string)\n",
      "b'HelloWorld' <class 'bytes'> HelloWorld\n"
     ]
    }
   ],
   "source": [
    "h = tf.constant(\"Hello\")\n",
    "w = tf.constant(\"World\")\n",
    "hw = h + w\n",
    "print(\"hw: \", hw)\n",
    "with tf.Session() as session:\n",
    "    ans = session.run(hw)\n",
    "    print(ans, type(ans), ans.decode(\"utf-8\"))"
   ]
  },
  {
   "cell_type": "code",
   "execution_count": 5,
   "metadata": {},
   "outputs": [
    {
     "name": "stdout",
     "output_type": "stream",
     "text": [
      "f:  -3\n",
      "tf.Graph() =  <tensorflow.python.framework.ops.Graph object at 0x62ba3f0d0>\n",
      "tf.get_default_graph() =  <tensorflow.python.framework.ops.Graph object at 0x62b98a350>\n",
      "f.graph =  <tensorflow.python.framework.ops.Graph object at 0x62b98a350>\n"
     ]
    }
   ],
   "source": [
    "tf.reset_default_graph()\n",
    "\n",
    "a = tf.constant(5, name = \"a\")\n",
    "b = tf.constant(4)\n",
    "c = tf.constant(3)\n",
    "\n",
    "d = tf.multiply(a, b)\n",
    "e = tf.add(c, d)\n",
    "f = tf.subtract(d, e)\n",
    "with tf.Session() as session:\n",
    "    print(\"f: \", session.run(f))\n",
    "    print(\"tf.Graph() = \", tf.Graph())\n",
    "    print(\"tf.get_default_graph() = \", tf.get_default_graph())\n",
    "    print(\"f.graph = \", f.graph)"
   ]
  },
  {
   "cell_type": "code",
   "execution_count": 7,
   "metadata": {},
   "outputs": [
    {
     "data": {
      "text/plain": [
       "(<tf.Tensor 'a:0' shape=() dtype=int32>,\n",
       " <tf.Tensor 'Const:0' shape=() dtype=int32>)"
      ]
     },
     "execution_count": 7,
     "metadata": {},
     "output_type": "execute_result"
    }
   ],
   "source": [
    "\n",
    "# The name of the Tensor object is simply the name of its corresponding operation \n",
    "# (concatenated with a colon), followed by the index of that tensor in the outputs of the \n",
    "# operation that produced it —it is possible to have more than one.\n",
    "# Objects residing within the same graph cannot have the same name\n",
    "# As a consequence, it will automatically add an underscore and a number to distinguish the two. \n",
    "# However, both objects can have the same name when they are associated with different graphs\n",
    "\n",
    "a, b "
   ]
  },
  {
   "cell_type": "code",
   "execution_count": 8,
   "metadata": {},
   "outputs": [
    {
     "name": "stdout",
     "output_type": "stream",
     "text": [
      "True\n",
      "False True\n",
      "True\n"
     ]
    }
   ],
   "source": [
    "g1 = tf.get_default_graph()\n",
    "g2 = tf.Graph()\n",
    "print(g1 is tf.get_default_graph())\n",
    "with g2.as_default():\n",
    "    print(g1 is tf.get_default_graph(), g2 is tf.get_default_graph())\n",
    "print(g1 is tf.get_default_graph())"
   ]
  },
  {
   "cell_type": "code",
   "execution_count": 13,
   "metadata": {},
   "outputs": [
    {
     "name": "stdout",
     "output_type": "stream",
     "text": [
      "Expression c1 + c2 is not valid since these two variables belong to different graphs\n"
     ]
    }
   ],
   "source": [
    "tf.reset_default_graph()\n",
    "g1 = tf.Graph()\n",
    "g2 = tf.Graph()\n",
    "with g1.as_default():\n",
    "    c1 = tf.constant(4.0)\n",
    "\n",
    "with g2.as_default():\n",
    "    c2 = tf.constant(2.0)\n",
    "\n",
    "try:\n",
    "    c = c1 + c2\n",
    "    with tf.Session() as session:\n",
    "        session.run(c)\n",
    "except ValueError as ex:\n",
    "    print(\"Expression c1 + c2 is not valid since these two variables belong to different graphs\")\n",
    "    \n"
   ]
  },
  {
   "cell_type": "code",
   "execution_count": 14,
   "metadata": {},
   "outputs": [
    {
     "data": {
      "text/plain": [
       "<tf.Tensor '3/Const:0' shape=() dtype=float32>"
      ]
     },
     "execution_count": 14,
     "metadata": {},
     "output_type": "execute_result"
    }
   ],
   "source": [
    "# Group variable with name scope\n",
    "with tf.name_scope(\"3\"):\n",
    "    c1 = tf.constant(4.0)\n",
    "c1\n",
    "    "
   ]
  },
  {
   "cell_type": "code",
   "execution_count": 19,
   "metadata": {},
   "outputs": [
    {
     "name": "stdout",
     "output_type": "stream",
     "text": [
      "[1.0, 2.0, 3.0, 4.0, 5.0, 6.0]\n"
     ]
    }
   ],
   "source": [
    "a = tf.constant(1.0)\n",
    "b = 1.0 + a\n",
    "c = 1.0 + b\n",
    "d = 1.0 + c\n",
    "e = 1.0 + d\n",
    "f = 1.0 + e\n",
    "\n",
    "fetchers = [a, b, c, d, e, f]\n",
    "\n",
    "with tf.Session() as session:\n",
    "    print(session.run(fetchers))"
   ]
  },
  {
   "cell_type": "markdown",
   "metadata": {},
   "source": [
    "Default data types for tensorflow is int32 and float32 respectively."
   ]
  },
  {
   "cell_type": "code",
   "execution_count": 20,
   "metadata": {},
   "outputs": [
    {
     "data": {
      "text/plain": [
       "<tf.Tensor 'Const_4:0' shape=(2, 3) dtype=int32>"
      ]
     },
     "execution_count": 20,
     "metadata": {},
     "output_type": "execute_result"
    }
   ],
   "source": [
    "c = tf.constant([[1, 2, 3], [4, 5, 6]])\n",
    "c"
   ]
  },
  {
   "cell_type": "code",
   "execution_count": 23,
   "metadata": {},
   "outputs": [
    {
     "data": {
      "text/plain": [
       "<tf.Tensor 'Const_7:0' shape=(2, 3) dtype=int64>"
      ]
     },
     "execution_count": 23,
     "metadata": {},
     "output_type": "execute_result"
    }
   ],
   "source": [
    "a = np.array([[1, 2, 3], [4, 5, 6]])\n",
    "c = tf.constant(a)\n",
    "c"
   ]
  },
  {
   "cell_type": "code",
   "execution_count": 24,
   "metadata": {},
   "outputs": [
    {
     "data": {
      "text/plain": [
       "dtype('int64')"
      ]
     },
     "execution_count": 24,
     "metadata": {},
     "output_type": "execute_result"
    }
   ],
   "source": [
    "a.dtype"
   ]
  },
  {
   "cell_type": "code",
   "execution_count": 17,
   "metadata": {},
   "outputs": [
    {
     "data": {
      "text/plain": [
       "tf.float64"
      ]
     },
     "execution_count": 17,
     "metadata": {},
     "output_type": "execute_result"
    }
   ],
   "source": [
    "c = tf.constant(4, dtype='float64')\n",
    "c.dtype"
   ]
  },
  {
   "cell_type": "markdown",
   "metadata": {},
   "source": [
    "# Primitive Data Types\n",
    "- DT_FLOAT\ttf.float32\t32 bits floating point.\n",
    "- DT_DOUBLE\ttf.float64\t64 bits floating point.\n",
    "- DT_INT8\ttf.int8\t8 bits signed integer.\n",
    "- DT_INT16\ttf.int16\t16 bits signed integer.\n",
    "- DT_INT32\ttf.int32\t32 bits signed integer.\n",
    "- DT_INT64\ttf.int64\t64 bits signed integer.\n",
    "- DT_UINT8\ttf.uint8\t8 bits unsigned integer.\n",
    "- DT_UINT16\ttf.uint16\t16 bits unsigned integer.\n",
    "- DT_STRING\ttf.string\tVariable length byte arrays. Each element of a Tensor is a byte array.\n",
    "- DT_BOOL\ttf.bool\tBoolean.\n",
    "- DT_COMPLEX64\ttf.complex64\tComplex number made of two 32 bits floating points: real and imaginary parts.\n",
    "- DT_COMPLEX128\ttf.complex128\tComplex number made of two 64 bits floating points: real and imaginary parts.\n",
    "- DT_QINT8\ttf.qint8\t8 bits signed integer used in quantized Ops.\n",
    "- DT_QINT32\ttf.qint32\t32 bits signed integer used in quantized Ops.\n",
    "- DT_QUINT8\ttf.quint8\t8 bits unsigned integer used in quantized Ops.\n",
    "\n"
   ]
  },
  {
   "cell_type": "markdown",
   "metadata": {},
   "source": [
    "### TensorFlow operation\tDescription\n",
    "- tf.constant(value)\tCreates a tensor populated with values of as specified by arguments “value”\n",
    "- tf.fill(shape,value)\tCreates a tensor of shape “shape\" and fills it with “value\" \n",
    "- tf.zeros(shape)\tReturns a tensor of shape “shape” and all elements set to zero\n",
    "- tf.zeros_like(tensor)\tReturns a tensor of the same type and shape as “tensor\" with all elements set to zero\n",
    "- tf.ones(shape)\tReturns a tensor of shape “shape\" and all elements set to 1\n",
    "- tf.ones_like(tensor)\tReturns a tensor of the same type and shape as “tensor\" with all elements set to 1"
   ]
  },
  {
   "cell_type": "code",
   "execution_count": 41,
   "metadata": {},
   "outputs": [],
   "source": [
    "session = tf.Session()"
   ]
  },
  {
   "cell_type": "code",
   "execution_count": 42,
   "metadata": {},
   "outputs": [
    {
     "data": {
      "text/plain": [
       "array([[1., 1., 1.],\n",
       "       [1., 1., 1.],\n",
       "       [1., 1., 1.],\n",
       "       [1., 1., 1.]], dtype=float32)"
      ]
     },
     "execution_count": 42,
     "metadata": {},
     "output_type": "execute_result"
    }
   ],
   "source": [
    "c = tf.ones((4, 3))\n",
    "session.run(c)"
   ]
  },
  {
   "cell_type": "code",
   "execution_count": 43,
   "metadata": {},
   "outputs": [
    {
     "data": {
      "text/plain": [
       "array([[1, 1, 1],\n",
       "       [1, 1, 1],\n",
       "       [1, 1, 1],\n",
       "       [1, 1, 1]], dtype=int32)"
      ]
     },
     "execution_count": 43,
     "metadata": {},
     "output_type": "execute_result"
    }
   ],
   "source": [
    "c = tf.fill((4, 3), 1)\n",
    "session.run(c)"
   ]
  },
  {
   "cell_type": "markdown",
   "metadata": {},
   "source": [
    "TensorFlow operation\tDescription\n",
    "- tf.random_normal(shape, mean, stddev)\tOutputs random values from a normal distribution\n",
    "- tf.truncated_normal(shape, mean, stddev)\tOutputs random values from a truncated normal distribution (values whose  magnitude is more than 2 standard deviations from the mean are dropped and re-picked).\n",
    "- tf.random_uniform(shape, minval, maxval)\tGenerated values from a uniform distribution in the range [minval, maxval)\n",
    "- tf.random_shuffle(tensor)\tRandomly shuffles a tensor along its first dimension\n",
    "- tf.random_crop(tensor, shape)\tSlices a shape “shape” portion out of “tensor\" at a uniformly chosen offset\n",
    "- tf.multinomial(logits, n_samples)\tDraws samples from a multinomial distribution\n",
    "- tf.random_gamma(shape,alpha,beta)\tDraws “shape\" samples from each of the given Gamma distribution(s)\n"
   ]
  },
  {
   "cell_type": "code",
   "execution_count": 44,
   "metadata": {},
   "outputs": [
    {
     "data": {
      "text/plain": [
       "array([[0.9617498 , 0.44918132, 0.5127076 ],\n",
       "       [0.8348917 , 0.54734325, 0.8099698 ],\n",
       "       [0.71889913, 0.39656377, 0.9537337 ],\n",
       "       [0.93378425, 0.04777336, 0.07103348]], dtype=float32)"
      ]
     },
     "execution_count": 44,
     "metadata": {},
     "output_type": "execute_result"
    }
   ],
   "source": [
    "c = tf.random_uniform((4, 3), seed=100)\n",
    "session.run(c)"
   ]
  },
  {
   "cell_type": "code",
   "execution_count": 45,
   "metadata": {},
   "outputs": [
    {
     "data": {
      "text/plain": [
       "array([[ 0.026301  , -0.07955144, -0.29859897],\n",
       "       [ 0.1763167 , -0.30626023,  0.12118966],\n",
       "       [ 0.14748672, -0.19404596, -0.03731908],\n",
       "       [ 0.08446319,  0.3193688 ,  0.66740936]], dtype=float32)"
      ]
     },
     "execution_count": 45,
     "metadata": {},
     "output_type": "execute_result"
    }
   ],
   "source": [
    "c = tf.random_normal((4, 3), mean=0, stddev=0.3, seed=100)\n",
    "session.run(c)"
   ]
  },
  {
   "cell_type": "code",
   "execution_count": 46,
   "metadata": {},
   "outputs": [
    {
     "name": "stdout",
     "output_type": "stream",
     "text": [
      "(5,)\n"
     ]
    },
    {
     "data": {
      "text/plain": [
       "(array([0.2       , 0.22500001, 0.25      , 0.275     , 0.3       ],\n",
       "       dtype=float32),)"
      ]
     },
     "execution_count": 46,
     "metadata": {},
     "output_type": "execute_result"
    }
   ],
   "source": [
    "c = tf.linspace(0.2, 0.3, 5)\n",
    "print(c.get_shape())\n",
    "session.run(c), "
   ]
  },
  {
   "cell_type": "code",
   "execution_count": 47,
   "metadata": {},
   "outputs": [
    {
     "name": "stdout",
     "output_type": "stream",
     "text": [
      "(19,)\n"
     ]
    },
    {
     "data": {
      "text/plain": [
       "array([0.4 , 0.65, 0.9 , 1.15, 1.4 , 1.65, 1.9 , 2.15, 2.4 , 2.65, 2.9 ,\n",
       "       3.15, 3.4 , 3.65, 3.9 , 4.15, 4.4 , 4.65, 4.9 ], dtype=float32)"
      ]
     },
     "execution_count": 47,
     "metadata": {},
     "output_type": "execute_result"
    }
   ],
   "source": [
    "c = tf.range(0.4, 5.0, 0.25)\n",
    "print(c.get_shape())\n",
    "session.run(c)"
   ]
  },
  {
   "cell_type": "code",
   "execution_count": 48,
   "metadata": {},
   "outputs": [
    {
     "data": {
      "text/plain": [
       "array([[0.9999913 ],\n",
       "       [0.14483425],\n",
       "       [0.9941877 ],\n",
       "       [0.55156505],\n",
       "       [0.9913591 ]], dtype=float32)"
      ]
     },
     "execution_count": 48,
     "metadata": {},
     "output_type": "execute_result"
    }
   ],
   "source": [
    "X = tf.random_normal((5, 10), mean = 0.0, stddev = 1.0, seed = 0)\n",
    "w = tf.random_normal((10, 1), mean = 0.0, stddev = 1.0, seed = 0)\n",
    "b = tf.fill((5, 1), 1.0) # Create tensors of a given value\n",
    "s = tf.sigmoid(tf.matmul(X, w) - b)\n",
    "session.run(s)"
   ]
  },
  {
   "cell_type": "markdown",
   "metadata": {},
   "source": [
    "TensorFlow operator\tShortcut\tDescription\n",
    "- tf.add()\ta + b\tAdd a and b, element-wise\n",
    "- tf.mul()\ta * b\tMultiply a and b, element-wise\n",
    "- tf.sub()\ta - b\tSubtract a from b, element-wise\n",
    "- tf.div()\ta / b\tWill perform element-wise integer division when given an integer type tensor, and floatingpoint (“true”) division on floating point tensors\n",
    "- tf.pow()\ta ** b\tThe result of raising each element in a to its corresponding element b, element-wise\n",
    "- tf.mod()\ta % b\tElement-wise modulo\n",
    "- tf.logical_and()\ta & b\tReturns the truth table of a & b, element-wise. dtype must be tf.bool\n",
    "- tf.greater()\ta > b\tReturns the truth table of a > b, element-wise\n",
    "- tf.greater_equal()\ta >= b\tReturns the truth table of a >= b, element-wise\n",
    "- tf.less_equal()\ta <= b\tReturns the truth table of a <= b , element-wise\n",
    "- tf.less()\ta < b\tReturns the truth table of a < b, element-wise\n",
    "- tf.neg()\t-a\tReturns the negative value of each element in a\n",
    "- tf.logical_not()\t~a\tReturns the logical NOT of each element in a. Only compatible with Tensor objectswith dtype of - tf.bool\n",
    "- tf.abs()\tabs(a)\tReturns the absolute value of each element in a\n",
    "- tf.logical_or()\ta | b\tReturns the truth table of a | b, element-wise. dtype must be tf.bool"
   ]
  },
  {
   "cell_type": "markdown",
   "metadata": {},
   "source": [
    "# Variable \n",
    "\n",
    "During the optimization process, tuning the weights of the model by iterative updates requires that their current state be maintained. For that purpose, TensorFlow uses special objects called “Variables”. Variables, unlike other Tensor objects that are “refilled” across calls to run(), can maintain a fixed state in the graph. Like other Tensors, Variables can be used as input for other operations in the graph.\n",
    "\n",
    "Using Variables is done in two stages: (1) we call the tf.Variable() function in order to create a Variable, and define what value it will be initialized with and (2) we then have to explicitly perform an initialization operation by running the session with the tf.initialize_all_variables() method, which allocates the memory for the variable and sets the initial value as defined in (1).\n",
    "\n",
    "Like with other Tensor objects, Variables are only computed when the model runs, as we can see in the following example:\n"
   ]
  },
  {
   "cell_type": "code",
   "execution_count": 50,
   "metadata": {},
   "outputs": [
    {
     "data": {
      "text/plain": [
       "75"
      ]
     },
     "execution_count": 50,
     "metadata": {},
     "output_type": "execute_result"
    }
   ],
   "source": [
    "c = tf.constant(15, name = \"c\")\n",
    "x = tf.Variable(c * 5, name = \"x\")\n",
    "init = tf.global_variables_initializer()\n",
    "session.run(init)\n",
    "session.run(x)"
   ]
  },
  {
   "cell_type": "markdown",
   "metadata": {},
   "source": [
    "# Placeholder\n",
    "\n",
    "TensorFlow has designated built-in structures for feeding input values. These structures are called placeholders. Placeholders can be thought of as empty variables that will be filled with data later on. We use them by first constructing our graph and only when it is executed feed them with the input data.\n",
    "\n",
    "Placeholders have three arguments we are already familiarized with: dtype for the type of data that will be inserted to them and two optional arguments — shape and name. If a shape is not fed, then the placeholder can be fed with data of any size. This is also the same as placing ‘None’ for a shape. We can also place ‘None’ for specific dimensions we are not sure about their length —for example, it is very common to use only for the rows dimension of a matrix, corresponding to the number of samples, while having the length of the columns (features) fixed. We feed the input values when running the session, just after stating what outputs we want to evaluate.\n",
    "\n",
    "Whenever we define a placeholder, we must feed it with some input values or else an exception will be thrown. The input data is given as a dictionary, where each key corresponds to a placeholder variable name, and the matching values are the data values given in the form of a list or a numpy array.\n"
   ]
  },
  {
   "cell_type": "code",
   "execution_count": 51,
   "metadata": {},
   "outputs": [
    {
     "data": {
      "text/plain": [
       "array([[0.95023626],\n",
       "       [0.05953365],\n",
       "       [0.9869032 ],\n",
       "       [0.57299566],\n",
       "       [0.16911489]], dtype=float32)"
      ]
     },
     "execution_count": 51,
     "metadata": {},
     "output_type": "execute_result"
    }
   ],
   "source": [
    "X_data = np.random.randn(5, 10)\n",
    "w_data = np.random.randn(10, 1)\n",
    "\n",
    "X = tf.placeholder(\"float32\", shape=(5, 10))\n",
    "w = tf.placeholder(\"float32\", shape=(10, 1))\n",
    "b = tf.fill((5, 1), - 1.0)\n",
    "s = tf.sigmoid(tf.matmul(X, w) + b)\n",
    "\n",
    "session.run(s, feed_dict={X: X_data, w: w_data})"
   ]
  },
  {
   "cell_type": "code",
   "execution_count": 52,
   "metadata": {},
   "outputs": [
    {
     "data": {
      "text/plain": [
       "6.4"
      ]
     },
     "execution_count": 52,
     "metadata": {},
     "output_type": "execute_result"
    }
   ],
   "source": [
    "r = tf.constant([3, 4, 5, 9, 11], dtype=\"float32\")\n",
    "mean = tf.reduce_mean(r)\n",
    "session.run(mean)"
   ]
  },
  {
   "cell_type": "markdown",
   "metadata": {},
   "source": [
    "# Checkpoint a tensorflow session\n",
    "\n",
    "You can use checkpoint to save the model to the disk and reload it later during inferencing. In this way, during inferencing time, you do not need to retrain the model."
   ]
  },
  {
   "cell_type": "code",
   "execution_count": 54,
   "metadata": {},
   "outputs": [
    {
     "name": "stdout",
     "output_type": "stream",
     "text": [
      "4.0\n"
     ]
    }
   ],
   "source": [
    "tf.reset_default_graph()\n",
    "\n",
    "with tf.Session() as sess:\n",
    "    W = tf.Variable(3.0, dtype=tf.float32, name = \"W\")\n",
    "    W = W.assign(W+1)\n",
    "    sess.run(tf.global_variables_initializer())\n",
    "    print(sess.run(W))\n",
    "    saver = tf.train.Saver()\n",
    "    saver.save(sess, \"/tmp/1/model.ckpt\")"
   ]
  },
  {
   "cell_type": "markdown",
   "metadata": {},
   "source": [
    "# Restoring a tensorflow session"
   ]
  },
  {
   "cell_type": "code",
   "execution_count": 57,
   "metadata": {},
   "outputs": [
    {
     "name": "stdout",
     "output_type": "stream",
     "text": [
      "INFO:tensorflow:Restoring parameters from /tmp/1/model.ckpt\n",
      "4.0\n"
     ]
    }
   ],
   "source": [
    "tf.reset_default_graph()\n",
    "W1 = tf.Variable(3.0, dtype=tf.float32, name = \"W\")\n",
    "\n",
    "with tf.Session() as sess:\n",
    "    saver = tf.train.Saver()\n",
    "    saver.restore(sess, \"/tmp/1/model.ckpt\")\n",
    "    print(sess.run(W1))"
   ]
  },
  {
   "cell_type": "markdown",
   "metadata": {},
   "source": [
    "# Gradients"
   ]
  },
  {
   "cell_type": "code",
   "execution_count": 138,
   "metadata": {},
   "outputs": [
    {
     "data": {
      "text/plain": [
       "((30, 2), (30,))"
      ]
     },
     "execution_count": 138,
     "metadata": {},
     "output_type": "execute_result"
    }
   ],
   "source": [
    "X_data = np.random.ranf((10 * 3, 2))\n",
    "X_data = (X_data - X_data.mean(axis = 0)) / X_data.std(axis=0)\n",
    "W_true = np.array([0.1, 5.9])\n",
    "b_true = 1.4\n",
    "y_data = X_data.dot(W_true) + b_true\n",
    "X_data.shape, y_data.shape"
   ]
  },
  {
   "cell_type": "code",
   "execution_count": 163,
   "metadata": {
    "scrolled": false
   },
   "outputs": [
    {
     "name": "stdout",
     "output_type": "stream",
     "text": [
      "y_pred Tensor(\"add:0\", shape=(?, 1), dtype=float32)\n",
      "dW: Tensor(\"gradients/MatMul_grad/MatMul_1:0\", shape=(2, 1), dtype=float32)\n",
      "db Tensor(\"gradients/add_grad/Reshape_1:0\", shape=(), dtype=float32)\n",
      "[[0.10000442]\n",
      " [5.899987  ]] 1.3999972\n"
     ]
    },
    {
     "data": {
      "image/png": "[encoded data removed]",
      "text/plain": [
       "<matplotlib.figure.Figure at 0x1a2fa181d0>"
      ]
     },
     "metadata": {},
     "output_type": "display_data"
    }
   ],
   "source": [
    "tf.reset_default_graph()\n",
    "tf.set_random_seed(1)\n",
    "\n",
    "X = tf.placeholder(\"float32\", (None, 2))\n",
    "y = tf.placeholder(\"float32\", (None, 1))\n",
    "learning_rate = tf.constant(0.01)\n",
    "\n",
    "W = tf.Variable(tf.truncated_normal((2, 1), stddev=0.1))\n",
    "b = tf.Variable(0.0)\n",
    "\n",
    "y_pred = tf.matmul(X, W) + b\n",
    "print(\"y_pred\", y_pred)\n",
    "mse = tf.reduce_mean((y - y_pred) ** 2)\n",
    "\n",
    "dW, db = tf.gradients(mse, [W, b])\n",
    "print(\"dW:\", dW)\n",
    "print(\"db\", db)\n",
    "\n",
    "grad_updates = tf.group([\n",
    "    W.assign_sub(learning_rate * dW),\n",
    "    b.assign_sub(learning_rate * db)\n",
    "])\n",
    "\n",
    "history = {\"mse\": [], \"W\": [], \"b\": []}\n",
    "values = {X: X_data, y: y_data.reshape(-1, 1)}\n",
    "\n",
    "with tf.Session() as sess:\n",
    "    \n",
    "    sess.run(tf.global_variables_initializer())    \n",
    "    for i in range(1000):\n",
    "        mse_, W_, b_, _ = sess.run([mse, W, b, grad_updates], feed_dict= values)\n",
    "        history[\"mse\"].append(mse_)\n",
    "        history[\"W\"].append(W_)\n",
    "        history[\"b\"].append(b_)\n",
    "    pd.DataFrame(np.array(history[\"W\"])[:,:,0]).plot()\n",
    "    print(W_, b_)\n",
    "    "
   ]
  },
  {
   "cell_type": "code",
   "execution_count": 173,
   "metadata": {},
   "outputs": [
    {
     "data": {
      "text/plain": [
       "<matplotlib.collections.PathCollection at 0x1a302c5588>"
      ]
     },
     "execution_count": 173,
     "metadata": {},
     "output_type": "execute_result"
    },
    {
     "data": {
      "image/png": "[encoded data removed]",
      "text/plain": [
       "<matplotlib.figure.Figure at 0x1a308ce9b0>"
      ]
     },
     "metadata": {},
     "output_type": "display_data"
    }
   ],
   "source": [
    "pd.DataFrame(np.array(history[\"W\"])[:,:,0]).plot.scatter(0, 1)\n",
    "plt.scatter(W_true[:1], W_true[1:], color = \"red\")"
   ]
  },
  {
   "cell_type": "code",
   "execution_count": 170,
   "metadata": {},
   "outputs": [
    {
     "data": {
      "text/plain": [
       "array([0.1])"
      ]
     },
     "execution_count": 170,
     "metadata": {},
     "output_type": "execute_result"
    }
   ],
   "source": [
    "W_true[:1]"
   ]
  },
  {
   "cell_type": "code",
   "execution_count": null,
   "metadata": {},
   "outputs": [],
   "source": []
  }
 ],
 "metadata": {
  "kernelspec": {
   "display_name": "Python 3",
   "language": "python",
   "name": "python3"
  },
  "language_info": {
   "codemirror_mode": {
    "name": "ipython",
    "version": 3
   },
   "file_extension": ".py",
   "mimetype": "text/x-python",
   "name": "python",
   "nbconvert_exporter": "python",
   "pygments_lexer": "ipython3",
   "version": "3.7.9"
  }
 },
 "nbformat": 4,
 "nbformat_minor": 2
}
