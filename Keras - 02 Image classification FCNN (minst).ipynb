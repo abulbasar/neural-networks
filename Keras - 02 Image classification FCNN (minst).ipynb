{
 "cells": [
  {
   "cell_type": "code",
   "execution_count": 1,
   "metadata": {},
   "outputs": [
    {
     "name": "stderr",
     "output_type": "stream",
     "text": [
      "/opt/anaconda3/lib/python3.6/site-packages/sklearn/cross_validation.py:41: DeprecationWarning: This module was deprecated in version 0.18 in favor of the model_selection module into which all the refactored classes and functions are moved. Also note that the interface of the new CV iterators are different from that of this module. This module will be removed in 0.20.\n",
      "  \"This module will be removed in 0.20.\", DeprecationWarning)\n",
      "/opt/anaconda3/lib/python3.6/site-packages/sklearn/grid_search.py:42: DeprecationWarning: This module was deprecated in version 0.18 in favor of the model_selection module into which all the refactored classes and functions are moved. This module will be removed in 0.20.\n",
      "  DeprecationWarning)\n",
      "/opt/anaconda3/lib/python3.6/site-packages/sklearn/learning_curve.py:22: DeprecationWarning: This module was deprecated in version 0.18 in favor of the model_selection module into which all the functions are moved. This module will be removed in 0.20\n",
      "  DeprecationWarning)\n",
      "/opt/anaconda3/lib/python3.6/site-packages/h5py/__init__.py:36: FutureWarning: Conversion of the second argument of issubdtype from `float` to `np.floating` is deprecated. In future, it will be treated as `np.float64 == np.dtype(float).type`.\n",
      "  from ._conv import register_converters as _register_converters\n",
      "Using TensorFlow backend.\n"
     ]
    }
   ],
   "source": [
    "import pandas as pd\n",
    "import numpy as np\n",
    "import matplotlib.pyplot as plt\n",
    "from sklearn import * \n",
    "pd.options.display.max_columns = 1000\n",
    "\n",
    "import tensorflow as tf\n",
    "import keras\n",
    "\n",
    "%matplotlib inline"
   ]
  },
  {
   "cell_type": "code",
   "execution_count": 2,
   "metadata": {},
   "outputs": [],
   "source": [
    "df_train = pd.read_csv(\"/data/MNIST/mnist_train.csv\", header=None)\n",
    "df_test = pd.read_csv(\"/data/MNIST/mnist_test.csv\", header=None)\n",
    "\n",
    "X_train = df_train.iloc[:, 1:].values/255\n",
    "X_test = df_test.iloc[:, 1:].values/255\n",
    "y_train = df_train.iloc[:, 0].values\n",
    "y_test = df_test.iloc[:, 0].values"
   ]
  },
  {
   "cell_type": "code",
   "execution_count": 3,
   "metadata": {},
   "outputs": [
    {
     "name": "stdout",
     "output_type": "stream",
     "text": [
      "Epoch 1/10\n",
      "60000/60000 [==============================] - 17s 283us/step - loss: 0.2384 - acc: 0.9318\n",
      "Epoch 2/10\n",
      "60000/60000 [==============================] - 15s 254us/step - loss: 0.0951 - acc: 0.9720\n",
      "Epoch 3/10\n",
      "60000/60000 [==============================] - 16s 260us/step - loss: 0.0619 - acc: 0.9809\n",
      "Epoch 4/10\n",
      "60000/60000 [==============================] - 16s 268us/step - loss: 0.0441 - acc: 0.9867\n",
      "Epoch 5/10\n",
      "60000/60000 [==============================] - 15s 255us/step - loss: 0.0321 - acc: 0.9903\n",
      "Epoch 6/10\n",
      "60000/60000 [==============================] - 16s 259us/step - loss: 0.0243 - acc: 0.9929\n",
      "Epoch 7/10\n",
      "60000/60000 [==============================] - 17s 284us/step - loss: 0.0183 - acc: 0.9947\n",
      "Epoch 8/10\n",
      "60000/60000 [==============================] - 15s 243us/step - loss: 0.0140 - acc: 0.9959\n",
      "Epoch 9/10\n",
      "60000/60000 [==============================] - 16s 267us/step - loss: 0.0127 - acc: 0.9961\n",
      "Epoch 10/10\n",
      "60000/60000 [==============================] - 17s 279us/step - loss: 0.0098 - acc: 0.9973\n"
     ]
    },
    {
     "data": {
      "text/plain": [
       "<keras.callbacks.History at 0x7f8cdcc34400>"
      ]
     },
     "execution_count": 3,
     "metadata": {},
     "output_type": "execute_result"
    }
   ],
   "source": [
    "n_x = 28 * 28\n",
    "n_y = 10\n",
    "\n",
    "from keras.layers import * \n",
    "def build_model():\n",
    "    model = keras.Sequential()\n",
    "    model.add(Dense(activation=\"relu\", units=400, input_shape = (n_x, )))\n",
    "    model.add(Dense(activation=\"softmax\", units=n_y))\n",
    "    \n",
    "    model.compile(loss=keras.losses.categorical_crossentropy\n",
    "                  , optimizer=\"adam\"\n",
    "                  , metrics = [\"accuracy\"])\n",
    "    return model\n",
    "\n",
    "model = build_model()\n",
    "\n",
    "model.fit(x = X_train\n",
    "          , y = keras.utils.to_categorical(y_train)\n",
    "          , verbose = 1\n",
    "          , epochs = 10\n",
    "          , batch_size= 64)\n"
   ]
  },
  {
   "cell_type": "code",
   "execution_count": 4,
   "metadata": {},
   "outputs": [
    {
     "name": "stdout",
     "output_type": "stream",
     "text": [
      "_________________________________________________________________\n",
      "Layer (type)                 Output Shape              Param #   \n",
      "=================================================================\n",
      "dense_1 (Dense)              (None, 400)               314000    \n",
      "_________________________________________________________________\n",
      "dense_2 (Dense)              (None, 10)                4010      \n",
      "=================================================================\n",
      "Total params: 318,010\n",
      "Trainable params: 318,010\n",
      "Non-trainable params: 0\n",
      "_________________________________________________________________\n"
     ]
    }
   ],
   "source": [
    "model.summary()"
   ]
  },
  {
   "cell_type": "code",
   "execution_count": 5,
   "metadata": {},
   "outputs": [
    {
     "name": "stdout",
     "output_type": "stream",
     "text": [
      "10000/10000 [==============================] - 2s 227us/step\n"
     ]
    },
    {
     "data": {
      "text/plain": [
       "[0.07385388396192794, 0.98]"
      ]
     },
     "execution_count": 5,
     "metadata": {},
     "output_type": "execute_result"
    }
   ],
   "source": [
    "model.evaluate(x=X_test, y = keras.utils.to_categorical(y_test))"
   ]
  },
  {
   "cell_type": "code",
   "execution_count": 6,
   "metadata": {},
   "outputs": [
    {
     "data": {
      "text/plain": [
       "(60000, 10)"
      ]
     },
     "execution_count": 6,
     "metadata": {},
     "output_type": "execute_result"
    }
   ],
   "source": [
    "keras.utils.to_categorical(y_train).shape"
   ]
  },
  {
   "cell_type": "code",
   "execution_count": 7,
   "metadata": {},
   "outputs": [
    {
     "data": {
      "text/plain": [
       "'1.6.0'"
      ]
     },
     "execution_count": 7,
     "metadata": {},
     "output_type": "execute_result"
    }
   ],
   "source": [
    "tf.__version__"
   ]
  },
  {
   "cell_type": "code",
   "execution_count": 8,
   "metadata": {},
   "outputs": [],
   "source": [
    "y_test_pred = model.predict(X_test)"
   ]
  },
  {
   "cell_type": "code",
   "execution_count": 9,
   "metadata": {},
   "outputs": [
    {
     "data": {
      "text/plain": [
       "(10000, 10)"
      ]
     },
     "execution_count": 9,
     "metadata": {},
     "output_type": "execute_result"
    }
   ],
   "source": [
    "y_test_pred.shape"
   ]
  },
  {
   "cell_type": "code",
   "execution_count": 10,
   "metadata": {},
   "outputs": [
    {
     "data": {
      "text/html": [
       "<div>\n",
       "<style scoped>\n",
       "    .dataframe tbody tr th:only-of-type {\n",
       "        vertical-align: middle;\n",
       "    }\n",
       "\n",
       "    .dataframe tbody tr th {\n",
       "        vertical-align: top;\n",
       "    }\n",
       "\n",
       "    .dataframe thead th {\n",
       "        text-align: right;\n",
       "    }\n",
       "</style>\n",
       "<table border=\"1\" class=\"dataframe\">\n",
       "  <thead>\n",
       "    <tr style=\"text-align: right;\">\n",
       "      <th></th>\n",
       "      <th>0</th>\n",
       "      <th>1</th>\n",
       "      <th>2</th>\n",
       "      <th>3</th>\n",
       "      <th>4</th>\n",
       "      <th>5</th>\n",
       "      <th>6</th>\n",
       "      <th>7</th>\n",
       "      <th>8</th>\n",
       "      <th>9</th>\n",
       "    </tr>\n",
       "  </thead>\n",
       "  <tbody>\n",
       "    <tr>\n",
       "      <th>0</th>\n",
       "      <td>1.345100e-11</td>\n",
       "      <td>1.031700e-10</td>\n",
       "      <td>6.201505e-11</td>\n",
       "      <td>2.714538e-06</td>\n",
       "      <td>2.450424e-14</td>\n",
       "      <td>2.628199e-10</td>\n",
       "      <td>3.338884e-14</td>\n",
       "      <td>9.999954e-01</td>\n",
       "      <td>1.345454e-10</td>\n",
       "      <td>1.866940e-06</td>\n",
       "    </tr>\n",
       "    <tr>\n",
       "      <th>1</th>\n",
       "      <td>8.203914e-12</td>\n",
       "      <td>8.191892e-06</td>\n",
       "      <td>9.999918e-01</td>\n",
       "      <td>8.248887e-11</td>\n",
       "      <td>4.866448e-19</td>\n",
       "      <td>2.960216e-10</td>\n",
       "      <td>1.561686e-11</td>\n",
       "      <td>5.664379e-18</td>\n",
       "      <td>3.506732e-10</td>\n",
       "      <td>5.459202e-16</td>\n",
       "    </tr>\n",
       "    <tr>\n",
       "      <th>2</th>\n",
       "      <td>3.624192e-09</td>\n",
       "      <td>9.999828e-01</td>\n",
       "      <td>8.959342e-07</td>\n",
       "      <td>1.581672e-08</td>\n",
       "      <td>2.567573e-07</td>\n",
       "      <td>5.312856e-08</td>\n",
       "      <td>1.347306e-06</td>\n",
       "      <td>2.336880e-06</td>\n",
       "      <td>1.228717e-05</td>\n",
       "      <td>7.569400e-09</td>\n",
       "    </tr>\n",
       "    <tr>\n",
       "      <th>3</th>\n",
       "      <td>9.999986e-01</td>\n",
       "      <td>3.973801e-11</td>\n",
       "      <td>5.678210e-07</td>\n",
       "      <td>3.000317e-10</td>\n",
       "      <td>7.537151e-12</td>\n",
       "      <td>1.684417e-08</td>\n",
       "      <td>4.017689e-07</td>\n",
       "      <td>2.780677e-07</td>\n",
       "      <td>3.372880e-12</td>\n",
       "      <td>2.538929e-07</td>\n",
       "    </tr>\n",
       "    <tr>\n",
       "      <th>4</th>\n",
       "      <td>1.273742e-09</td>\n",
       "      <td>6.950255e-12</td>\n",
       "      <td>2.976846e-09</td>\n",
       "      <td>1.184146e-12</td>\n",
       "      <td>9.998197e-01</td>\n",
       "      <td>3.548024e-11</td>\n",
       "      <td>8.458562e-10</td>\n",
       "      <td>2.681968e-06</td>\n",
       "      <td>6.978343e-10</td>\n",
       "      <td>1.775434e-04</td>\n",
       "    </tr>\n",
       "  </tbody>\n",
       "</table>\n",
       "</div>"
      ],
      "text/plain": [
       "              0             1             2             3             4  \\\n",
       "0  1.345100e-11  1.031700e-10  6.201505e-11  2.714538e-06  2.450424e-14   \n",
       "1  8.203914e-12  8.191892e-06  9.999918e-01  8.248887e-11  4.866448e-19   \n",
       "2  3.624192e-09  9.999828e-01  8.959342e-07  1.581672e-08  2.567573e-07   \n",
       "3  9.999986e-01  3.973801e-11  5.678210e-07  3.000317e-10  7.537151e-12   \n",
       "4  1.273742e-09  6.950255e-12  2.976846e-09  1.184146e-12  9.998197e-01   \n",
       "\n",
       "              5             6             7             8             9  \n",
       "0  2.628199e-10  3.338884e-14  9.999954e-01  1.345454e-10  1.866940e-06  \n",
       "1  2.960216e-10  1.561686e-11  5.664379e-18  3.506732e-10  5.459202e-16  \n",
       "2  5.312856e-08  1.347306e-06  2.336880e-06  1.228717e-05  7.569400e-09  \n",
       "3  1.684417e-08  4.017689e-07  2.780677e-07  3.372880e-12  2.538929e-07  \n",
       "4  3.548024e-11  8.458562e-10  2.681968e-06  6.978343e-10  1.775434e-04  "
      ]
     },
     "execution_count": 10,
     "metadata": {},
     "output_type": "execute_result"
    }
   ],
   "source": [
    "pd.DataFrame(y_test_pred).head()"
   ]
  },
  {
   "cell_type": "code",
   "execution_count": 11,
   "metadata": {},
   "outputs": [],
   "source": [
    "model.save(\"mnist.h5\")"
   ]
  },
  {
   "cell_type": "code",
   "execution_count": 12,
   "metadata": {},
   "outputs": [],
   "source": [
    "model = keras.models.load_model(\"mnist.h5\")"
   ]
  },
  {
   "cell_type": "code",
   "execution_count": 13,
   "metadata": {},
   "outputs": [
    {
     "name": "stdout",
     "output_type": "stream",
     "text": [
      "_________________________________________________________________\n",
      "Layer (type)                 Output Shape              Param #   \n",
      "=================================================================\n",
      "dense_1 (Dense)              (None, 400)               314000    \n",
      "_________________________________________________________________\n",
      "dense_2 (Dense)              (None, 10)                4010      \n",
      "=================================================================\n",
      "Total params: 318,010\n",
      "Trainable params: 318,010\n",
      "Non-trainable params: 0\n",
      "_________________________________________________________________\n"
     ]
    }
   ],
   "source": [
    "model.summary()"
   ]
  },
  {
   "cell_type": "code",
   "execution_count": 14,
   "metadata": {},
   "outputs": [
    {
     "data": {
      "text/plain": [
       "array([7, 2, 1, ..., 4, 5, 6])"
      ]
     },
     "execution_count": 14,
     "metadata": {},
     "output_type": "execute_result"
    }
   ],
   "source": [
    "np.argmax(y_test_pred, axis=1)"
   ]
  },
  {
   "cell_type": "code",
   "execution_count": null,
   "metadata": {},
   "outputs": [],
   "source": []
  }
 ],
 "metadata": {
  "kernelspec": {
   "display_name": "Python 3",
   "language": "python",
   "name": "python3"
  },
  "language_info": {
   "codemirror_mode": {
    "name": "ipython",
    "version": 3
   },
   "file_extension": ".py",
   "mimetype": "text/x-python",
   "name": "python",
   "nbconvert_exporter": "python",
   "pygments_lexer": "ipython3",
   "version": "3.6.8"
  }
 },
 "nbformat": 4,
 "nbformat_minor": 2
}
