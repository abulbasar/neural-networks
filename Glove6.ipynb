{
 "cells": [
  {
   "cell_type": "code",
   "execution_count": 4,
   "metadata": {},
   "outputs": [],
   "source": [
    "import numpy as np\n",
    "import scipy as sp\n",
    "import pandas as pd\n",
    "import scipy.spatial\n",
    "import nltk\n",
    "import tensorflow as tf"
   ]
  },
  {
   "cell_type": "markdown",
   "metadata": {},
   "source": [
    "Path of Glove dataset: \n",
    "https://nlp.stanford.edu/projects/glove/\n",
    "\n",
    "Download the dataset for \"Wikipedia 2014\"."
   ]
  },
  {
   "cell_type": "code",
   "execution_count": 5,
   "metadata": {},
   "outputs": [
    {
     "data": {
      "text/plain": [
       "(['the 0.418 0.24968 -0.41242 0.1217 0.34527 -0.044457 -0.49688 -0.17862 -0.00066023 -0.6566 0.27843 -0.14767 -0.55677 0.14658 -0.0095095 0.011658 0.10204 -0.12792 -0.8443 -0.12181 -0.016801 -0.33279 -0.1552 -0.23131 -0.19181 -1.8823 -0.76746 0.099051 -0.42125 -0.19526 4.0071 -0.18594 -0.52287 -0.31681 0.00059213 0.0074449 0.17778 -0.15897 0.012041 -0.054223 -0.29871 -0.15749 -0.34758 -0.045637 -0.44251 0.18785 0.0027849 -0.18411 -0.11514 -0.78581'],\n",
       " 400000)"
      ]
     },
     "execution_count": 5,
     "metadata": {},
     "output_type": "execute_result"
    }
   ],
   "source": [
    "with open(\"/data/glove.6B/glove.6B.50d.txt\", encoding=\"utf-8\") as f:\n",
    "    lines = f.readlines()\n",
    "lines = [line[:-1] for line in lines]\n",
    "lines[:1], len(lines)"
   ]
  },
  {
   "cell_type": "code",
   "execution_count": 6,
   "metadata": {},
   "outputs": [],
   "source": [
    "words = dict((s[:s.index(\" \")], i) for i, s in enumerate(lines))"
   ]
  },
  {
   "cell_type": "code",
   "execution_count": 7,
   "metadata": {},
   "outputs": [],
   "source": [
    "words_by_index = [None] * len(words)"
   ]
  },
  {
   "cell_type": "code",
   "execution_count": 8,
   "metadata": {},
   "outputs": [
    {
     "data": {
      "text/plain": [
       "400000"
      ]
     },
     "execution_count": 8,
     "metadata": {},
     "output_type": "execute_result"
    }
   ],
   "source": [
    "len(words_by_index)"
   ]
  },
  {
   "cell_type": "code",
   "execution_count": 9,
   "metadata": {},
   "outputs": [],
   "source": [
    "for word in words.keys():\n",
    "    words_by_index[words[word]] = word"
   ]
  },
  {
   "cell_type": "code",
   "execution_count": 10,
   "metadata": {
    "scrolled": true
   },
   "outputs": [
    {
     "data": {
      "text/plain": [
       "array([ 4.1800e-01,  2.4968e-01, -4.1242e-01,  1.2170e-01,  3.4527e-01,\n",
       "       -4.4457e-02, -4.9688e-01, -1.7862e-01, -6.6023e-04, -6.5660e-01,\n",
       "        2.7843e-01, -1.4767e-01, -5.5677e-01,  1.4658e-01, -9.5095e-03,\n",
       "        1.1658e-02,  1.0204e-01, -1.2792e-01, -8.4430e-01, -1.2181e-01,\n",
       "       -1.6801e-02, -3.3279e-01, -1.5520e-01, -2.3131e-01, -1.9181e-01,\n",
       "       -1.8823e+00, -7.6746e-01,  9.9051e-02, -4.2125e-01, -1.9526e-01,\n",
       "        4.0071e+00, -1.8594e-01, -5.2287e-01, -3.1681e-01,  5.9213e-04,\n",
       "        7.4449e-03,  1.7778e-01, -1.5897e-01,  1.2041e-02, -5.4223e-02,\n",
       "       -2.9871e-01, -1.5749e-01, -3.4758e-01, -4.5637e-02, -4.4251e-01,\n",
       "        1.8785e-01,  2.7849e-03, -1.8411e-01, -1.1514e-01, -7.8581e-01])"
      ]
     },
     "execution_count": 10,
     "metadata": {},
     "output_type": "execute_result"
    }
   ],
   "source": [
    "embeddings = [np.fromstring(s[s.index(\" \")+1:], sep=\" \", dtype=\"float\") for s in lines]\n",
    "embeddings[0]"
   ]
  },
  {
   "cell_type": "code",
   "execution_count": 11,
   "metadata": {},
   "outputs": [
    {
     "data": {
      "text/plain": [
       "(691, 2060, 300, 266)"
      ]
     },
     "execution_count": 11,
     "metadata": {},
     "output_type": "execute_result"
    }
   ],
   "source": [
    "words[\"king\"], words[\"queen\"], words[\"man\"], words[\"women\"] "
   ]
  },
  {
   "cell_type": "code",
   "execution_count": 12,
   "metadata": {},
   "outputs": [],
   "source": [
    "def cosine_similarity(u,v):\n",
    "    numerator_ = u.dot(v)\n",
    "    denominator_= np.sqrt(np.square(u).sum() * np.square(v).sum())\n",
    "    return numerator_/denominator_"
   ]
  },
  {
   "cell_type": "code",
   "execution_count": 13,
   "metadata": {},
   "outputs": [
    {
     "data": {
      "text/plain": [
       "0.7839043010964117"
      ]
     },
     "execution_count": 13,
     "metadata": {},
     "output_type": "execute_result"
    }
   ],
   "source": [
    "cosine_similarity(embeddings[words[\"king\"]], embeddings[words[\"queen\"]])"
   ]
  },
  {
   "cell_type": "code",
   "execution_count": 14,
   "metadata": {},
   "outputs": [
    {
     "data": {
      "text/plain": [
       "0.5309376939717351"
      ]
     },
     "execution_count": 14,
     "metadata": {},
     "output_type": "execute_result"
    }
   ],
   "source": [
    "cosine_similarity(embeddings[words[\"king\"]], embeddings[words[\"man\"]])"
   ]
  },
  {
   "cell_type": "code",
   "execution_count": 15,
   "metadata": {},
   "outputs": [
    {
     "data": {
      "text/plain": [
       "0.46603987618686227"
      ]
     },
     "execution_count": 15,
     "metadata": {},
     "output_type": "execute_result"
    }
   ],
   "source": [
    "cosine_similarity(embeddings[words[\"queen\"]], embeddings[words[\"women\"]])"
   ]
  },
  {
   "cell_type": "code",
   "execution_count": 16,
   "metadata": {},
   "outputs": [
    {
     "data": {
      "text/plain": [
       "0.5643636155187435"
      ]
     },
     "execution_count": 16,
     "metadata": {},
     "output_type": "execute_result"
    }
   ],
   "source": [
    "cosine_similarity(embeddings[words[\"mother\"]], embeddings[words[\"women\"]])"
   ]
  },
  {
   "cell_type": "code",
   "execution_count": 17,
   "metadata": {},
   "outputs": [
    {
     "data": {
      "text/plain": [
       "0.77952550521825"
      ]
     },
     "execution_count": 17,
     "metadata": {},
     "output_type": "execute_result"
    }
   ],
   "source": [
    "cosine_similarity(embeddings[words[\"father\"]], embeddings[words[\"man\"]])"
   ]
  },
  {
   "cell_type": "code",
   "execution_count": 18,
   "metadata": {},
   "outputs": [],
   "source": [
    "def show_similarity(word1, word2):\n",
    "    e = cosine_similarity(embeddings[words[word1]], embeddings[words[word2]])\n",
    "    print(f\"Similarity between {word1} and {word2} is {e}\")"
   ]
  },
  {
   "cell_type": "code",
   "execution_count": 19,
   "metadata": {},
   "outputs": [
    {
     "name": "stdout",
     "output_type": "stream",
     "text": [
      "Similarity between kind and man is 0.7380652134712935\n"
     ]
    }
   ],
   "source": [
    "show_similarity(\"kind\", \"man\")"
   ]
  },
  {
   "cell_type": "code",
   "execution_count": 20,
   "metadata": {},
   "outputs": [
    {
     "name": "stdout",
     "output_type": "stream",
     "text": [
      "Similarity between kind and women is 0.5259418345182133\n"
     ]
    }
   ],
   "source": [
    "show_similarity(\"kind\", \"women\")"
   ]
  },
  {
   "cell_type": "code",
   "execution_count": 21,
   "metadata": {},
   "outputs": [
    {
     "name": "stdout",
     "output_type": "stream",
     "text": [
      "Similarity between king and man is 0.5309376939717351\n"
     ]
    }
   ],
   "source": [
    "show_similarity(\"king\", \"man\")"
   ]
  },
  {
   "cell_type": "code",
   "execution_count": 22,
   "metadata": {},
   "outputs": [
    {
     "name": "stdout",
     "output_type": "stream",
     "text": [
      "Similarity between king and queen is 0.7839043010964117\n"
     ]
    }
   ],
   "source": [
    "show_similarity(\"king\", \"queen\")"
   ]
  },
  {
   "cell_type": "code",
   "execution_count": 23,
   "metadata": {},
   "outputs": [
    {
     "name": "stdout",
     "output_type": "stream",
     "text": [
      "Similarity between queen and women is 0.46603987618686227\n"
     ]
    }
   ],
   "source": [
    "show_similarity(\"queen\", \"women\")"
   ]
  },
  {
   "cell_type": "code",
   "execution_count": 24,
   "metadata": {},
   "outputs": [
    {
     "name": "stdout",
     "output_type": "stream",
     "text": [
      "Index of geometry is 13780\n"
     ]
    },
    {
     "data": {
      "text/plain": [
       "[(28372, 'analytic', 0.8352219389953423),\n",
       " (9359, 'mathematical', 0.8216470395832008),\n",
       " (22343, 'algebraic', 0.819918063785606),\n",
       " (15230, 'algebra', 0.8046252423618003),\n",
       " (17823, 'geometric', 0.7971758015339234),\n",
       " (9792, 'linear', 0.7965055836658856),\n",
       " (20205, 'computational', 0.7951552660179096),\n",
       " (45242, 'geometrical', 0.7826035245720235),\n",
       " (132819, 'non-euclidean', 0.7747869741178528),\n",
       " (73930, 'trigonometry', 0.7738747259132809),\n",
       " (10340, 'theoretical', 0.7735849051850727),\n",
       " (21174, 'calculus', 0.7684175843191158),\n",
       " (10381, 'dimensions', 0.7655080259275503),\n",
       " (25138, 'topology', 0.7618357098222666),\n",
       " (14041, 'equations', 0.7611914665440903),\n",
       " (27522, 'computation', 0.7507541367631221),\n",
       " (35743, 'generalization', 0.7450724470284033),\n",
       " (13463, 'differential', 0.743709554640126),\n",
       " (22458, 'analogous', 0.7424962175336988),\n",
       " (69534, 'geometries', 0.7419942372904249)]"
      ]
     },
     "execution_count": 24,
     "metadata": {},
     "output_type": "execute_result"
    }
   ],
   "source": [
    "def find_similar_words(word):\n",
    "    index = words[word]\n",
    "    print(f\"Index of {word} is {index}\")\n",
    "    embedding1 = embeddings[index]\n",
    "    similarities = []\n",
    "    for i in range(len(words)):\n",
    "        if not i == index:\n",
    "            embedding2 = embeddings[i]\n",
    "            e = cosine_similarity(embedding1, embedding2)\n",
    "            similarities.append((i, e))\n",
    "    similarities = sorted(similarities, key = lambda t: t[1], reverse=True)[:20]\n",
    "    return [(t[0], words_by_index[t[0]], t[1]) for t in similarities]\n",
    "\n",
    "find_similar_words(\"geometry\")"
   ]
  },
  {
   "cell_type": "code",
   "execution_count": 25,
   "metadata": {},
   "outputs": [
    {
     "name": "stdout",
     "output_type": "stream",
     "text": [
      "Index of mango is 21638\n"
     ]
    },
    {
     "data": {
      "text/plain": [
       "[(22479, 'pineapple', 0.9108650824895758),\n",
       " (64719, 'guava', 0.8952961338881412),\n",
       " (46405, 'papaya', 0.8908727588194489),\n",
       " (24335, 'pear', 0.8544932936902667),\n",
       " (13890, 'coconut', 0.8482268266332461),\n",
       " (18731, 'plum', 0.8423119681403715),\n",
       " (42813, 'pomegranate', 0.8314303266905028),\n",
       " (32708, 'avocado', 0.8304488454385358),\n",
       " (17660, 'peach', 0.8288800248441728),\n",
       " (39310, 'apricot', 0.8190182956753224),\n",
       " (14694, 'citrus', 0.8014976223799536),\n",
       " (12333, 'tomato', 0.8005109007846937),\n",
       " (4138, 'fruit', 0.784726859112506),\n",
       " (56566, 'tamarind', 0.7833972978839273),\n",
       " (64551, 'plantain', 0.7818393857851667),\n",
       " (30514, 'watermelon', 0.7810392439194738),\n",
       " (30238, 'grapefruit', 0.7755802038931493),\n",
       " (28830, 'cranberry', 0.770309036752813),\n",
       " (53832, 'chutney', 0.7691089971575935),\n",
       " (29689, 'cherries', 0.7688873694299496)]"
      ]
     },
     "execution_count": 25,
     "metadata": {},
     "output_type": "execute_result"
    }
   ],
   "source": [
    "find_similar_words(\"mango\")"
   ]
  },
  {
   "cell_type": "code",
   "execution_count": 26,
   "metadata": {},
   "outputs": [
    {
     "name": "stdout",
     "output_type": "stream",
     "text": [
      "Index of india is 474\n"
     ]
    },
    {
     "data": {
      "text/plain": [
       "[(792, 'indian', 0.8648794265470159),\n",
       " (656, 'pakistan', 0.8529723244734597),\n",
       " (1796, 'malaysia', 0.8166509767691612),\n",
       " (2917, 'bangladesh', 0.8154238826959385),\n",
       " (3938, 'delhi', 0.8142766830734144),\n",
       " (1440, 'indonesia', 0.7939143589080899),\n",
       " (1621, 'thailand', 0.7864409773873251),\n",
       " (1761, 'sri', 0.7809487375926684),\n",
       " (2460, 'lanka', 0.7792482617389977),\n",
       " (637, 'africa', 0.7728372648681404),\n",
       " (132, 'china', 0.7469517027514501),\n",
       " (139, 'south', 0.7445129578257967),\n",
       " (3759, 'nepal', 0.7375632943109491),\n",
       " (2306, 'nigeria', 0.7356869102053032),\n",
       " (2414, 'zimbabwe', 0.7319674968661778),\n",
       " (603, 'australia', 0.7293080214932542),\n",
       " (123, 'country', 0.7241701483379187),\n",
       " (2329, 'pakistani', 0.7108411564825831),\n",
       " (20056, 'subcontinent', 0.7107339023060288),\n",
       " (1272, 'zealand', 0.7099516181517668)]"
      ]
     },
     "execution_count": 26,
     "metadata": {},
     "output_type": "execute_result"
    }
   ],
   "source": [
    "find_similar_words(\"india\")"
   ]
  },
  {
   "cell_type": "code",
   "execution_count": 27,
   "metadata": {},
   "outputs": [
    {
     "name": "stdout",
     "output_type": "stream",
     "text": [
      "Index of computer is 951\n"
     ]
    },
    {
     "data": {
      "text/plain": [
       "[(2802, 'computers', 0.9165044765653498),\n",
       " (1516, 'software', 0.8814993634710458),\n",
       " (732, 'technology', 0.8525559133429745),\n",
       " (2505, 'electronic', 0.8125868044629012),\n",
       " (925, 'internet', 0.8060455558122076),\n",
       " (8443, 'computing', 0.8026036233505297),\n",
       " (3461, 'devices', 0.8016185204075194),\n",
       " (2150, 'digital', 0.799179234670277),\n",
       " (3310, 'applications', 0.7912740180594209),\n",
       " (5190, 'pc', 0.788315980246716),\n",
       " (6168, 'hardware', 0.7866967616030025),\n",
       " (1148, 'systems', 0.7800467185509183),\n",
       " (1170, 'web', 0.7793425092853091),\n",
       " (10819, 'laptop', 0.7741158209924888),\n",
       " (10946, 'desktop', 0.7662739944060819),\n",
       " (3746, 'machines', 0.7647873311787954),\n",
       " (933, 'data', 0.7605310955025979),\n",
       " (1292, 'online', 0.7541408267384504),\n",
       " (5199, 'ibm', 0.7517738989403454),\n",
       " (10792, 'pcs', 0.7511048312389397)]"
      ]
     },
     "execution_count": 27,
     "metadata": {},
     "output_type": "execute_result"
    }
   ],
   "source": [
    "find_similar_words(\"computer\")"
   ]
  },
  {
   "cell_type": "code",
   "execution_count": 28,
   "metadata": {},
   "outputs": [
    {
     "name": "stdout",
     "output_type": "stream",
     "text": [
      "Index of dhoni is 24851\n"
     ]
    },
    {
     "data": {
      "text/plain": [
       "[(17795, 'dravid', 0.8680765699264876),\n",
       " (30333, 'yuvraj', 0.8542092466911869),\n",
       " (16258, 'ganguly', 0.8492220054777772),\n",
       " (20484, 'kumble', 0.8360501841112096),\n",
       " (20675, 'rahul', 0.8356800794039745),\n",
       " (20502, 'sehwag', 0.8356416209604601),\n",
       " (26127, 'laxman', 0.8343917854496253),\n",
       " (42226, 'raina', 0.8334249439941509),\n",
       " (25168, 'mahendra', 0.8286128621610982),\n",
       " (44326, 'karthik', 0.8234096284048533),\n",
       " (21955, 'harbhajan', 0.8125606173854878),\n",
       " (31011, 'sourav', 0.8113962237968806),\n",
       " (33894, 'gambhir', 0.7960908270321465),\n",
       " (13882, 'tendulkar', 0.7886322642012816),\n",
       " (73576, 'v.v.s.', 0.7830411310517493),\n",
       " (30574, 'virender', 0.7797722937634359),\n",
       " (39070, 'dinesh', 0.7648670239469937),\n",
       " (45704, 'sreesanth', 0.7541965242969754),\n",
       " (27019, 'zaheer', 0.7496552165636385),\n",
       " (21080, 'sachin', 0.7466525281612992)]"
      ]
     },
     "execution_count": 28,
     "metadata": {},
     "output_type": "execute_result"
    }
   ],
   "source": [
    "find_similar_words(\"dhoni\")"
   ]
  },
  {
   "cell_type": "code",
   "execution_count": 29,
   "metadata": {},
   "outputs": [
    {
     "name": "stdout",
     "output_type": "stream",
     "text": [
      "Index of movie is 1005\n"
     ]
    },
    {
     "data": {
      "text/plain": [
       "[(2459, 'movies', 0.9322480449141354),\n",
       " (319, 'film', 0.9310099489457403),\n",
       " (1588, 'films', 0.8937393696262893),\n",
       " (2841, 'comedy', 0.8902585127943877),\n",
       " (2290, 'hollywood', 0.8718216114428348),\n",
       " (2692, 'drama', 0.8341657200691082),\n",
       " (8439, 'sequel', 0.8222617308897824),\n",
       " (6092, 'animated', 0.8216580966048987),\n",
       " (11168, 'remake', 0.8124958537960634),\n",
       " (273, 'show', 0.8105834256999287),\n",
       " (4249, 'comic', 0.8103810105591652),\n",
       " (5988, 'horror', 0.8031470914141123),\n",
       " (3830, 'documentary', 0.7974430356619984),\n",
       " (13301, 'parody', 0.7847712455515612),\n",
       " (816, 'tv', 0.7779728625552412),\n",
       " (970, 'shows', 0.7778049510988242),\n",
       " (25798, 'spoof', 0.7707062704726838),\n",
       " (1942, 'episode', 0.7691435536310742),\n",
       " (523, 'story', 0.769071736177409),\n",
       " (6497, 'soundtrack', 0.76527280504455)]"
      ]
     },
     "execution_count": 29,
     "metadata": {},
     "output_type": "execute_result"
    }
   ],
   "source": [
    "find_similar_words(\"movie\")"
   ]
  },
  {
   "cell_type": "code",
   "execution_count": 30,
   "metadata": {},
   "outputs": [
    {
     "name": "stdout",
     "output_type": "stream",
     "text": [
      "Index of slap is 12474\n"
     ]
    },
    {
     "data": {
      "text/plain": [
       "[(25153, 'slapping', 0.7579415284992067),\n",
       " (38776, 'slaps', 0.7172328131861563),\n",
       " (13341, 'slapped', 0.7019516265669181),\n",
       " (4403, 'stick', 0.6705033672558111),\n",
       " (20873, 'slamming', 0.6688052659622111),\n",
       " (3375, 'throw', 0.6626981036579477),\n",
       " (28890, 'smacked', 0.6615915058888577),\n",
       " (5564, 'lifting', 0.6519331509802626),\n",
       " (3391, 'lift', 0.6491030108331959),\n",
       " (9389, 'kicks', 0.6429161949786512),\n",
       " (51243, 'smacking', 0.6318126920030628),\n",
       " (53148, 'backhanded', 0.6293158913124202),\n",
       " (7034, 'throws', 0.6287866708930445),\n",
       " (29816, 'shove', 0.6182549995692199),\n",
       " (22346, 'buzzer', 0.6177938321827616),\n",
       " (8620, 'sticking', 0.6163021352684828),\n",
       " (9887, 'puck', 0.6138650349140237),\n",
       " (8459, 'stiff', 0.6118094126223222),\n",
       " (14905, 'deflected', 0.6108363500106105),\n",
       " (7913, 'hook', 0.6107269070407473)]"
      ]
     },
     "execution_count": 30,
     "metadata": {},
     "output_type": "execute_result"
    }
   ],
   "source": [
    "find_similar_words(\"slap\")"
   ]
  },
  {
   "cell_type": "code",
   "execution_count": 31,
   "metadata": {},
   "outputs": [
    {
     "name": "stdout",
     "output_type": "stream",
     "text": [
      "Index of chennai is 14392\n"
     ]
    },
    {
     "data": {
      "text/plain": [
       "[(13032, 'bangalore', 0.9154870663171172),\n",
       " (18439, 'kolkata', 0.8789543896180901),\n",
       " (13927, 'hyderabad', 0.8651337070416851),\n",
       " (22298, 'pune', 0.7996734992818478),\n",
       " (31098, 'jaipur', 0.78178091500562),\n",
       " (27545, 'ahmedabad', 0.7817542112882049),\n",
       " (42148, 'kanpur', 0.7731109969688963),\n",
       " (41551, 'coimbatore', 0.7678182672624816),\n",
       " (151883, 'egmore', 0.7672432534977709),\n",
       " (33235, 'patna', 0.7575079833623493),\n",
       " (47806, 'indore', 0.7354688300641616),\n",
       " (65273, 'vijayawada', 0.7285900229683459),\n",
       " (44868, 'chandigarh', 0.7173030747915935),\n",
       " (75861, 'rajkot', 0.7043200359928916),\n",
       " (17656, 'rajasthan', 0.7040252667458116),\n",
       " (26738, 'lucknow', 0.7038383947054541),\n",
       " (53657, 'trivandrum', 0.7015938689538045),\n",
       " (63065, 'visakhapatnam', 0.7005564236336859),\n",
       " (33185, 'nagpur', 0.6974854311253954),\n",
       " (48448, 'thiruvananthapuram', 0.6934336355258701)]"
      ]
     },
     "execution_count": 31,
     "metadata": {},
     "output_type": "execute_result"
    }
   ],
   "source": [
    "find_similar_words(\"chennai\")"
   ]
  },
  {
   "cell_type": "code",
   "execution_count": 41,
   "metadata": {},
   "outputs": [
    {
     "name": "stdout",
     "output_type": "stream",
     "text": [
      "Index of tesla is 30265\n"
     ]
    },
    {
     "data": {
      "text/plain": [
       "[(28237, 'volt', 0.695642910531159),\n",
       " (17780, 'westinghouse', 0.6782561190918911),\n",
       " (80341, 'ev1', 0.6599545102145766),\n",
       " (76371, 'sandisk', 0.6567678114984613),\n",
       " (45897, 'nvidia', 0.6541667047849599),\n",
       " (15196, 'mazda', 0.6508210604153123),\n",
       " (4658, 'motors', 0.6501598026499329),\n",
       " (41636, 'lamborghini', 0.6456457561297071),\n",
       " (134119, 'rx-7', 0.6363914998051815),\n",
       " (21179, 'prius', 0.6247034957878006),\n",
       " (33300, 'charger', 0.618112340133651),\n",
       " (38020, 'htc', 0.6108831845131693),\n",
       " (24796, 'panasonic', 0.6078143723651754),\n",
       " (70892, 'dabhol', 0.6074850502271154),\n",
       " (36060, 'saic', 0.6066129588216392),\n",
       " (104546, 'azria', 0.6057468283741517),\n",
       " (17283, 'kia', 0.6057327932894642),\n",
       " (135814, 'lumix', 0.6052606612320672),\n",
       " (32517, 'centrifuge', 0.6016672370915298),\n",
       " (67234, '3do', 0.6014593560356122)]"
      ]
     },
     "execution_count": 41,
     "metadata": {},
     "output_type": "execute_result"
    }
   ],
   "source": [
    "find_similar_words(\"tesla\")"
   ]
  },
  {
   "cell_type": "code",
   "execution_count": 43,
   "metadata": {},
   "outputs": [
    {
     "name": "stdout",
     "output_type": "stream",
     "text": [
      "Index of plastic is 3754\n"
     ]
    },
    {
     "data": {
      "text/plain": [
       "[(5149, 'bags', 0.8142927969989485),\n",
       " (4769, 'bag', 0.8084763739063019),\n",
       " (15612, 'coated', 0.7986302291883467),\n",
       " (16035, 'cardboard', 0.798293876956109),\n",
       " (2847, 'glass', 0.7942505471436994),\n",
       " (5563, 'rubber', 0.7820455317774972),\n",
       " (36762, 'sheeting', 0.78001579820638),\n",
       " (5652, 'boxes', 0.7660570933817945),\n",
       " (13347, 'foam', 0.7656456010682777),\n",
       " (2427, 'metal', 0.7613078985687886),\n",
       " (7006, 'leather', 0.7603346904506869),\n",
       " (19598, 'glue', 0.7577167751162339),\n",
       " (9716, 'glasses', 0.7557634126472582),\n",
       " (5309, 'paint', 0.755085232857874),\n",
       " (12780, 'cans', 0.751455762282045),\n",
       " (10718, 'cloth', 0.7484284474979722),\n",
       " (8120, 'sheets', 0.7451469895235739),\n",
       " (6333, 'wrapped', 0.7444728414180456),\n",
       " (31392, 'encased', 0.7440874810595507),\n",
       " (16087, 'ceramic', 0.7437492207408904)]"
      ]
     },
     "execution_count": 43,
     "metadata": {},
     "output_type": "execute_result"
    }
   ],
   "source": [
    "find_similar_words(\"plastic\")"
   ]
  },
  {
   "cell_type": "code",
   "execution_count": 44,
   "metadata": {},
   "outputs": [
    {
     "name": "stdout",
     "output_type": "stream",
     "text": [
      "Index of juice is 6988\n"
     ]
    },
    {
     "data": {
      "text/plain": [
       "[(9311, 'lemon', 0.869236469857383),\n",
       " (14639, 'vinegar', 0.8563042642461451),\n",
       " (15895, 'syrup', 0.8533699404875801),\n",
       " (3191, 'sugar', 0.8330309959963142),\n",
       " (12714, 'soda', 0.8278462119598),\n",
       " (13639, 'vanilla', 0.8276866651564998),\n",
       " (21870, 'juices', 0.8186297786538818),\n",
       " (13056, 'lime', 0.8178273762334181),\n",
       " (34130, 'lemonade', 0.8145016010176127),\n",
       " (12333, 'tomato', 0.8090390642768261),\n",
       " (22479, 'pineapple', 0.8070386863093149),\n",
       " (4177, 'milk', 0.8035723486622034),\n",
       " (6892, 'sauce', 0.80088366320762),\n",
       " (13261, 'ginger', 0.7999350914523957),\n",
       " (15679, 'canned', 0.7970387562043362),\n",
       " (5161, 'cream', 0.7969492571251159),\n",
       " (9005, 'garlic', 0.7934655278047894),\n",
       " (4138, 'fruit', 0.7912484840290775),\n",
       " (17003, 'paste', 0.7881750689598588),\n",
       " (9812, 'honey', 0.7855281821586033)]"
      ]
     },
     "execution_count": 44,
     "metadata": {},
     "output_type": "execute_result"
    }
   ],
   "source": [
    "find_similar_words(\"juice\")"
   ]
  },
  {
   "cell_type": "code",
   "execution_count": 32,
   "metadata": {},
   "outputs": [
    {
     "name": "stdout",
     "output_type": "stream",
     "text": [
      "Index for man is 300\n",
      "Index for woman is 787\n",
      "Index for king is 691\n",
      "Index for queen is 2060\n",
      "Index for microwave is 15181\n",
      "Index for baby is 2232\n",
      "Index for boy is 1606\n",
      "Index for girl is 1749\n",
      "Index for pizza is 9388\n",
      "Index for royal is 1142\n",
      "Index for mother is 808\n",
      "Index for father is 629\n",
      "Index for doctor is 2082\n",
      "Index for cook is 3387\n",
      "Index for throne is 6752\n"
     ]
    }
   ],
   "source": [
    "random_words = ['man','woman','king','queen','microwave','baby','boy'\n",
    "        ,'girl','pizza','royal','mother','father','doctor','cook','throne']\n",
    "\n",
    "\n",
    "random_words_matrix = []\n",
    "for word in random_words:\n",
    "    index = words[word]\n",
    "    print(f\"Index for {word} is {index}\")\n",
    "    random_words_matrix.append(embeddings[index])\n",
    "random_words_matrix = np.array(random_words_matrix)"
   ]
  },
  {
   "cell_type": "code",
   "execution_count": 33,
   "metadata": {},
   "outputs": [],
   "source": [
    "from sklearn.decomposition import PCA\n",
    "import matplotlib.pyplot as plt\n",
    "%matplotlib inline"
   ]
  },
  {
   "cell_type": "code",
   "execution_count": 34,
   "metadata": {},
   "outputs": [],
   "source": [
    "pca = PCA(n_components=2)\n",
    "random_words_matrix_pca = pca.fit_transform(random_words_matrix)"
   ]
  },
  {
   "cell_type": "code",
   "execution_count": 35,
   "metadata": {
    "scrolled": false
   },
   "outputs": [
    {
     "data": {
      "text/plain": [
       "(-5, 6)"
      ]
     },
     "execution_count": 35,
     "metadata": {},
     "output_type": "execute_result"
    },
    {
     "data": {
      "image/png": "[encoded data removed]",
      "text/plain": [
       "<Figure size 720x576 with 1 Axes>"
      ]
     },
     "metadata": {
      "needs_background": "light"
     },
     "output_type": "display_data"
    }
   ],
   "source": [
    "plt.figure(figsize = (10, 8))\n",
    "plt.scatter(random_words_matrix_pca[:,0], random_words_matrix_pca[:,1])\n",
    "for i, label in enumerate(random_words):\n",
    "    x, y = random_words_matrix_pca[i, :]\n",
    "    plt.annotate(\n",
    "            label,\n",
    "            xy=(x,y),\n",
    "            xytext=(-14, 14),\n",
    "            textcoords='offset points',\n",
    "            bbox=dict(boxstyle='round,pad=0.5', fc='red', alpha=0.5),\n",
    "            arrowprops=dict(arrowstyle = '->', connectionstyle='arc3,rad=0'))\n",
    "    \n",
    "plt.xlabel(\"PCA1\")\n",
    "plt.ylabel(\"PCA2\")\n",
    "\n",
    "plt.xlim(-5.0, 7.5)\n",
    "plt.ylim(-5,6)"
   ]
  },
  {
   "cell_type": "code",
   "execution_count": 36,
   "metadata": {},
   "outputs": [
    {
     "name": "stdout",
     "output_type": "stream",
     "text": [
      "[t-SNE] Computing pairwise distances...\n",
      "[t-SNE] Computed conditional probabilities for sample 15 / 15\n",
      "[t-SNE] Mean sigma: 1.360638\n",
      "[t-SNE] KL divergence after 250 iterations with early exaggeration: 54.601317\n",
      "[t-SNE] KL divergence after 1000 iterations: 0.163732\n"
     ]
    }
   ],
   "source": [
    "from sklearn.manifold import TSNE\n",
    "tsne = TSNE(n_components=2, verbose=1,perplexity=3,method='exact')\n",
    "random_words_matrix_pca_tsne = tsne.fit_transform(random_words_matrix)"
   ]
  },
  {
   "cell_type": "code",
   "execution_count": 37,
   "metadata": {},
   "outputs": [
    {
     "data": {
      "text/plain": [
       "Text(0, 0.5, 'tSNE2')"
      ]
     },
     "execution_count": 37,
     "metadata": {},
     "output_type": "execute_result"
    },
    {
     "data": {
      "image/png": "[encoded data removed]",
      "text/plain": [
       "<Figure size 720x576 with 1 Axes>"
      ]
     },
     "metadata": {
      "needs_background": "light"
     },
     "output_type": "display_data"
    }
   ],
   "source": [
    "\n",
    "plt.figure(figsize = (10, 8))\n",
    "plt.scatter(random_words_matrix_pca_tsne[:,0], random_words_matrix_pca_tsne[:,1])\n",
    "\n",
    "\n",
    "for i, label in enumerate(random_words):\n",
    "    x, y = random_words_matrix_pca_tsne[i, :]\n",
    "    plt.annotate(\n",
    "            label,\n",
    "            xy=(x,y),\n",
    "            xytext=(-14, 14),\n",
    "            textcoords='offset points',\n",
    "            bbox=dict(boxstyle='round,pad=0.5', fc='red', alpha=0.5),\n",
    "            arrowprops=dict(arrowstyle = '->', connectionstyle='arc3,rad=0'))\n",
    "    \n",
    "plt.xlabel(\"tSNE1\")\n",
    "plt.ylabel(\"tSNE2\")\n",
    "\n"
   ]
  },
  {
   "cell_type": "code",
   "execution_count": 38,
   "metadata": {},
   "outputs": [
    {
     "data": {
      "text/plain": [
       "array([-5.5560000e-02, -4.8896000e-01,  8.7530000e-02, -4.1301100e-01,\n",
       "        1.7836700e+00,  6.0973000e-01, -3.4580000e-01,  2.1669000e-01,\n",
       "       -2.0562200e-01,  1.9599000e-01, -1.0093600e-01, -2.0930000e-01,\n",
       "       -3.3395900e-01, -1.0627000e-01,  1.2328000e+00, -1.2376000e-01,\n",
       "       -6.5293000e-01,  4.6809000e-02,  1.5740000e-03,  6.8804000e-01,\n",
       "       -9.1863000e-01,  1.2555500e+00, -5.5453000e-02,  1.1439000e-01,\n",
       "        8.2333000e-01, -3.0916000e+00, -8.0155000e-01, -5.4646000e-01,\n",
       "        4.0716000e-01,  3.7126000e-02,  2.7273000e+00, -7.0941000e-01,\n",
       "       -6.9738000e-01,  3.6959286e-01,  2.0717000e-01,  9.6603000e-02,\n",
       "       -2.0481000e-01, -1.5012200e-01,  3.3002000e-01,  3.5923000e-01,\n",
       "       -3.1018000e-01,  1.3367100e+00, -3.4917000e-01,  5.4045500e-01,\n",
       "        6.0630000e-01, -3.0372000e-01, -5.8219000e-01, -6.4050000e-01,\n",
       "       -1.6589530e-01, -1.2250000e-02])"
      ]
     },
     "execution_count": 38,
     "metadata": {},
     "output_type": "execute_result"
    }
   ],
   "source": [
    "vec = embeddings[words[\"king\"]] - embeddings[words[\"queen\"]] + embeddings[words[\"woman\"]]\n",
    "vec"
   ]
  },
  {
   "cell_type": "code",
   "execution_count": 39,
   "metadata": {},
   "outputs": [
    {
     "data": {
      "text/plain": [
       "[(300, 0.8706067438874707, 'man'),\n",
       " (629, 0.8266594834861839, 'father'),\n",
       " (38, 0.8227341408075267, 'who'),\n",
       " (787, 0.8118484846524645, 'woman'),\n",
       " (336, 0.7955310504864248, 'death'),\n",
       " (170, 0.788611803346136, 'another'),\n",
       " (507, 0.7844257998013647, 'whose'),\n",
       " (167, 0.7815860985962402, 'old'),\n",
       " (3122, 0.7748767897317335, 'victim'),\n",
       " (103, 0.7725713988505566, 'him')]"
      ]
     },
     "execution_count": 39,
     "metadata": {},
     "output_type": "execute_result"
    }
   ],
   "source": [
    "similaries = []\n",
    "for i in range(len(embeddings)):\n",
    "    s = cosine_similarity(embeddings[i], vec)\n",
    "    similaries.append((i, s))\n",
    "top_similar_words = sorted(similaries, key=lambda t: t[1], reverse=True)[:10]\n",
    "top_similar_words = [(t[0], t[1], words_by_index[t[0]]) for t in top_similar_words]\n",
    "top_similar_words"
   ]
  },
  {
   "cell_type": "code",
   "execution_count": null,
   "metadata": {},
   "outputs": [],
   "source": []
  },
  {
   "cell_type": "code",
   "execution_count": null,
   "metadata": {},
   "outputs": [],
   "source": []
  },
  {
   "cell_type": "code",
   "execution_count": null,
   "metadata": {},
   "outputs": [],
   "source": []
  },
  {
   "cell_type": "code",
   "execution_count": null,
   "metadata": {},
   "outputs": [],
   "source": []
  },
  {
   "cell_type": "code",
   "execution_count": null,
   "metadata": {},
   "outputs": [],
   "source": []
  },
  {
   "cell_type": "code",
   "execution_count": null,
   "metadata": {},
   "outputs": [],
   "source": []
  },
  {
   "cell_type": "code",
   "execution_count": null,
   "metadata": {},
   "outputs": [],
   "source": []
  },
  {
   "cell_type": "code",
   "execution_count": null,
   "metadata": {},
   "outputs": [],
   "source": []
  },
  {
   "cell_type": "code",
   "execution_count": null,
   "metadata": {},
   "outputs": [],
   "source": []
  },
  {
   "cell_type": "code",
   "execution_count": null,
   "metadata": {},
   "outputs": [],
   "source": []
  },
  {
   "cell_type": "code",
   "execution_count": null,
   "metadata": {},
   "outputs": [],
   "source": []
  },
  {
   "cell_type": "code",
   "execution_count": null,
   "metadata": {},
   "outputs": [],
   "source": []
  },
  {
   "cell_type": "code",
   "execution_count": null,
   "metadata": {},
   "outputs": [],
   "source": []
  },
  {
   "cell_type": "code",
   "execution_count": null,
   "metadata": {},
   "outputs": [],
   "source": []
  },
  {
   "cell_type": "code",
   "execution_count": null,
   "metadata": {},
   "outputs": [],
   "source": []
  }
 ],
 "metadata": {
  "kernelspec": {
   "display_name": "Python 3",
   "language": "python",
   "name": "python3"
  },
  "language_info": {
   "codemirror_mode": {
    "name": "ipython",
    "version": 3
   },
   "file_extension": ".py",
   "mimetype": "text/x-python",
   "name": "python",
   "nbconvert_exporter": "python",
   "pygments_lexer": "ipython3",
   "version": "3.7.4"
  }
 },
 "nbformat": 4,
 "nbformat_minor": 2
}
