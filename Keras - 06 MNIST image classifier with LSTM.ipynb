{
 "cells": [
  {
   "cell_type": "code",
   "execution_count": 2,
   "metadata": {},
   "outputs": [],
   "source": [
    "import pandas as pd\n",
    "import numpy as np\n",
    "import tensorflow as tf\n",
    "import keras"
   ]
  },
  {
   "cell_type": "code",
   "execution_count": 20,
   "metadata": {},
   "outputs": [],
   "source": [
    "def load_mnist_csv(path = \"/data/MNIST/\", one_hot = False, shape = None):\n",
    "    df_train = pd.read_csv(path + \"mnist_train.csv\", header=None)\n",
    "    df_test = pd.read_csv(path + \"mnist_test.csv\", header=None)\n",
    "    \n",
    "    X_train = df_train.iloc[:, 1:].values/255\n",
    "    X_test = df_test.iloc[:, 1:].values/255\n",
    "    y_train = df_train.iloc[:, 0].values\n",
    "    y_test = df_test.iloc[:, 0].values\n",
    "    \n",
    "    if shape == \"2D\":\n",
    "        X_train = X_train.reshape(-1, 28, 28)\n",
    "        X_test = X_test.reshape(-1, 28, 28)\n",
    "        \n",
    "    if shape == \"3D\":\n",
    "        X_train = X_train.reshape(-1, 28, 28, 1)\n",
    "        X_test = X_test.reshape(-1, 28, 28, 1)\n",
    "    \n",
    "    if one_hot:\n",
    "        eye = np.eye(len(np.unique(y_train)))\n",
    "        y_train, y_test = eye[y_train], eye[y_test]\n",
    "        \n",
    "    return X_train, X_test, y_train, y_test\n",
    "\n",
    "X_train, X_test, y_train, y_test = load_mnist_csv(shape=\"2D\", one_hot=True)"
   ]
  },
  {
   "cell_type": "code",
   "execution_count": 21,
   "metadata": {},
   "outputs": [
    {
     "name": "stdout",
     "output_type": "stream",
     "text": [
      "_________________________________________________________________\n",
      "Layer (type)                 Output Shape              Param #   \n",
      "=================================================================\n",
      "lstm_9 (LSTM)                (None, 100)               51600     \n",
      "_________________________________________________________________\n",
      "dense_9 (Dense)              (None, 10)                1010      \n",
      "=================================================================\n",
      "Total params: 52,610\n",
      "Trainable params: 52,610\n",
      "Non-trainable params: 0\n",
      "_________________________________________________________________\n",
      "Epoch 1/10\n",
      "60000/60000 [==============================] - 58s 962us/step - loss: 0.3687 - acc: 0.8833\n",
      "Epoch 2/10\n",
      "60000/60000 [==============================] - 52s 863us/step - loss: 0.1210 - acc: 0.9633\n",
      "Epoch 3/10\n",
      "60000/60000 [==============================] - 53s 881us/step - loss: 0.0830 - acc: 0.9750\n",
      "Epoch 4/10\n",
      "60000/60000 [==============================] - 53s 880us/step - loss: 0.0632 - acc: 0.9811\n",
      "Epoch 5/10\n",
      "60000/60000 [==============================] - 53s 875us/step - loss: 0.0520 - acc: 0.9842\n",
      "Epoch 6/10\n",
      "60000/60000 [==============================] - 52s 870us/step - loss: 0.0425 - acc: 0.9872\n",
      "Epoch 7/10\n",
      "60000/60000 [==============================] - 52s 868us/step - loss: 0.0373 - acc: 0.9889\n",
      "Epoch 8/10\n",
      "60000/60000 [==============================] - 52s 867us/step - loss: 0.0312 - acc: 0.9906\n",
      "Epoch 9/10\n",
      "60000/60000 [==============================] - 53s 881us/step - loss: 0.0275 - acc: 0.9919\n",
      "Epoch 10/10\n",
      "60000/60000 [==============================] - 53s 877us/step - loss: 0.0245 - acc: 0.9922\n"
     ]
    },
    {
     "data": {
      "text/plain": [
       "<keras.callbacks.History at 0x11d50d4a8>"
      ]
     },
     "execution_count": 21,
     "metadata": {},
     "output_type": "execute_result"
    }
   ],
   "source": [
    "from keras.layers import Dense, LSTM\n",
    "from keras.losses import categorical_crossentropy\n",
    "\n",
    "def build_model():\n",
    "    \n",
    "    model = keras.Sequential()\n",
    "    model.add(LSTM(units = 100, activation=\"tanh\", input_shape = (28, 28)))\n",
    "    model.add(Dense(10, activation=\"softmax\"))\n",
    "    model.compile(loss=categorical_crossentropy, metrics=[\"accuracy\"], optimizer=\"adam\")\n",
    "    return model\n",
    "\n",
    "model = build_model()\n",
    "model.summary()\n",
    "model.fit(X_train, y_train,epochs=10)"
   ]
  },
  {
   "cell_type": "code",
   "execution_count": 22,
   "metadata": {},
   "outputs": [
    {
     "name": "stdout",
     "output_type": "stream",
     "text": [
      "10000/10000 [==============================] - 2s 239us/step\n"
     ]
    },
    {
     "data": {
      "text/plain": [
       "[0.044305473281769085, 0.9871]"
      ]
     },
     "execution_count": 22,
     "metadata": {},
     "output_type": "execute_result"
    }
   ],
   "source": [
    "model.evaluate(X_test, y_test)"
   ]
  },
  {
   "cell_type": "code",
   "execution_count": null,
   "metadata": {},
   "outputs": [],
   "source": []
  }
 ],
 "metadata": {
  "kernelspec": {
   "display_name": "Python 3",
   "language": "python",
   "name": "python3"
  },
  "language_info": {
   "codemirror_mode": {
    "name": "ipython",
    "version": 3
   },
   "file_extension": ".py",
   "mimetype": "text/x-python",
   "name": "python",
   "nbconvert_exporter": "python",
   "pygments_lexer": "ipython3",
   "version": "3.7.4"
  }
 },
 "nbformat": 4,
 "nbformat_minor": 2
}
