{
 "cells": [
  {
   "cell_type": "code",
   "execution_count": 1,
   "metadata": {},
   "outputs": [
    {
     "name": "stderr",
     "output_type": "stream",
     "text": [
      "\n",
      "Bad key \"text.kerning_factor\" on line 4 in\n",
      "/Users/abasar/anaconda3/lib/python3.7/site-packages/matplotlib/mpl-data/stylelib/_classic_test_patch.mplstyle.\n",
      "You probably need to get an updated matplotlibrc file from\n",
      "https://github.com/matplotlib/matplotlib/blob/v3.1.3/matplotlibrc.template\n",
      "or from the matplotlib source distribution\n"
     ]
    }
   ],
   "source": [
    "import pandas as pd\n",
    "import numpy as np\n",
    "import matplotlib.pyplot as plt\n",
    "from sklearn import * \n",
    "pd.options.display.max_columns = 1000\n",
    "from time import time\n",
    "import tensorflow as tf\n",
    "from tensorflow import keras\n",
    "from tensorflow.keras.layers import * \n",
    "\n",
    "%matplotlib inline"
   ]
  },
  {
   "cell_type": "code",
   "execution_count": 2,
   "metadata": {},
   "outputs": [],
   "source": [
    "df_train = pd.read_csv(\"/Users/abasar/data/MNIST/mnist_train.csv\", header=None)\n",
    "df_test = pd.read_csv(\"/Users/abasar/data/MNIST/mnist_test.csv\", header=None)\n",
    "\n",
    "X_train = (df_train.iloc[:, 1:].values/255).reshape(-1, 28, 28, 1) # width, height, channel\n",
    "X_test = (df_test.iloc[:, 1:].values/255).reshape(-1, 28, 28, 1)\n",
    "y_train = df_train.iloc[:, 0].values\n",
    "y_test = df_test.iloc[:, 0].values"
   ]
  },
  {
   "cell_type": "code",
   "execution_count": 3,
   "metadata": {},
   "outputs": [
    {
     "data": {
      "text/plain": [
       "((60000, 28, 28, 1), (10000, 28, 28, 1))"
      ]
     },
     "execution_count": 3,
     "metadata": {},
     "output_type": "execute_result"
    }
   ],
   "source": [
    "X_train.shape, X_test.shape"
   ]
  },
  {
   "cell_type": "code",
   "execution_count": 4,
   "metadata": {},
   "outputs": [],
   "source": [
    "Y_train = keras.utils.to_categorical(y_train)\n",
    "Y_test = keras.utils.to_categorical(y_test)"
   ]
  },
  {
   "cell_type": "code",
   "execution_count": 5,
   "metadata": {},
   "outputs": [
    {
     "name": "stdout",
     "output_type": "stream",
     "text": [
      "Model: \"sequential\"\n",
      "_________________________________________________________________\n",
      "Layer (type)                 Output Shape              Param #   \n",
      "=================================================================\n",
      "conv2d (Conv2D)              (None, 24, 24, 32)        832       \n",
      "_________________________________________________________________\n",
      "max_pooling2d (MaxPooling2D) (None, 12, 12, 32)        0         \n",
      "_________________________________________________________________\n",
      "conv2d_1 (Conv2D)            (None, 10, 10, 64)        18496     \n",
      "_________________________________________________________________\n",
      "max_pooling2d_1 (MaxPooling2 (None, 5, 5, 64)          0         \n",
      "_________________________________________________________________\n",
      "flatten (Flatten)            (None, 1600)              0         \n",
      "_________________________________________________________________\n",
      "dropout (Dropout)            (None, 1600)              0         \n",
      "_________________________________________________________________\n",
      "dense (Dense)                (None, 100)               160100    \n",
      "_________________________________________________________________\n",
      "dense_1 (Dense)              (None, 10)                1010      \n",
      "=================================================================\n",
      "Total params: 180,438\n",
      "Trainable params: 180,438\n",
      "Non-trainable params: 0\n",
      "_________________________________________________________________\n",
      "  1/938 [..............................] - ETA: 0s - loss: 2.3050 - accuracy: 0.0781WARNING:tensorflow:From /Users/abasar/anaconda3/lib/python3.7/site-packages/tensorflow/python/ops/summary_ops_v2.py:1277: stop (from tensorflow.python.eager.profiler) is deprecated and will be removed after 2020-07-01.\n",
      "Instructions for updating:\n",
      "use `tf.profiler.experimental.stop` instead.\n",
      "938/938 [==============================] - 18s 19ms/step - loss: 2.6799 - accuracy: 0.1039 - val_loss: 2.3154 - val_accuracy: 0.1135\n",
      "313/313 [==============================] - 1s 2ms/step - loss: 2.3154 - accuracy: 0.1135\n"
     ]
    },
    {
     "data": {
      "text/plain": [
       "[2.31538462638855, 0.11349999904632568]"
      ]
     },
     "execution_count": 5,
     "metadata": {},
     "output_type": "execute_result"
    }
   ],
   "source": [
    "tf.random.set_seed(1)\n",
    "\n",
    "def build_model():\n",
    "    model = keras.Sequential()\n",
    "    model.add(InputLayer(input_shape=(28,28,1)))\n",
    "    model.add(Conv2D(filters=32, activation=\"relu\", kernel_size=(5, 5)))\n",
    "    model.add(MaxPooling2D(pool_size=(2, 2)))\n",
    "    model.add(Conv2D(filters=64, activation=\"relu\", kernel_size=(3, 3)))\n",
    "    model.add(MaxPooling2D(pool_size=(2, 2)))\n",
    "    model.add(Flatten())\n",
    "    model.add(Dropout(rate=0.4))\n",
    "    model.add(Dense(activation=\"relu\", units=100))\n",
    "    model.add(Dense(activation=\"softmax\", units=10))\n",
    "    \n",
    "    opt = tf.keras.optimizers.Adam(learning_rate=0.1)\n",
    "    \n",
    "    model.compile(loss=keras.losses.categorical_crossentropy\n",
    "                  , optimizer=opt\n",
    "                  , metrics = [\"accuracy\"])\n",
    "    return model\n",
    "\n",
    "model = build_model()\n",
    "model.summary()\n",
    "\n",
    "tensorboard = keras.callbacks.TensorBoard(log_dir=f\"/tmp/tf/\" + str(int(time())), \n",
    "                                          histogram_freq=1,\n",
    "                                          write_images=True)\n",
    "\n",
    "model.fit(x = X_train\n",
    "          , y = Y_train\n",
    "          , validation_data = (X_test, Y_test)\n",
    "          , verbose = 1\n",
    "          , epochs = 1\n",
    "          , batch_size= 64\n",
    "          , callbacks = [tensorboard]\n",
    "         )\n",
    "model.evaluate(X_test, Y_test)"
   ]
  },
  {
   "cell_type": "markdown",
   "metadata": {},
   "source": [
    "## Model with learning rate decay"
   ]
  },
  {
   "cell_type": "code",
   "execution_count": 8,
   "metadata": {},
   "outputs": [
    {
     "name": "stdout",
     "output_type": "stream",
     "text": [
      "Model: \"sequential_3\"\n",
      "_________________________________________________________________\n",
      "Layer (type)                 Output Shape              Param #   \n",
      "=================================================================\n",
      "conv2d_6 (Conv2D)            (None, 24, 24, 32)        832       \n",
      "_________________________________________________________________\n",
      "max_pooling2d_6 (MaxPooling2 (None, 12, 12, 32)        0         \n",
      "_________________________________________________________________\n",
      "conv2d_7 (Conv2D)            (None, 10, 10, 64)        18496     \n",
      "_________________________________________________________________\n",
      "max_pooling2d_7 (MaxPooling2 (None, 5, 5, 64)          0         \n",
      "_________________________________________________________________\n",
      "flatten_3 (Flatten)          (None, 1600)              0         \n",
      "_________________________________________________________________\n",
      "dropout_3 (Dropout)          (None, 1600)              0         \n",
      "_________________________________________________________________\n",
      "dense_6 (Dense)              (None, 100)               160100    \n",
      "_________________________________________________________________\n",
      "dense_7 (Dense)              (None, 10)                1010      \n",
      "=================================================================\n",
      "Total params: 180,438\n",
      "Trainable params: 180,438\n",
      "Non-trainable params: 0\n",
      "_________________________________________________________________\n",
      "  2/938 [..............................] - ETA: 25s - loss: 2.3764 - accuracy: 0.1094WARNING:tensorflow:Callbacks method `on_train_batch_end` is slow compared to the batch time (batch time: 0.0171s vs `on_train_batch_end` time: 0.0378s). Check your callbacks.\n",
      "938/938 [==============================] - 18s 19ms/step - loss: 0.3329 - accuracy: 0.8954 - val_loss: 0.0893 - val_accuracy: 0.9732\n",
      "313/313 [==============================] - 1s 2ms/step - loss: 0.0893 - accuracy: 0.9732\n"
     ]
    },
    {
     "data": {
      "text/plain": [
       "[0.08927067369222641, 0.9732000231742859]"
      ]
     },
     "execution_count": 8,
     "metadata": {},
     "output_type": "execute_result"
    }
   ],
   "source": [
    "tf.random.set_seed(1)\n",
    "\n",
    "def build_model():\n",
    "    model = keras.Sequential()\n",
    "    model.add(Conv2D(filters=32, activation=\"relu\", kernel_size=(5, 5), input_shape = (28, 28, 1)))\n",
    "    model.add(MaxPooling2D(pool_size=(2, 2)))\n",
    "    model.add(Conv2D(filters=64, activation=\"relu\", kernel_size=(3, 3)))\n",
    "    model.add(MaxPooling2D(pool_size=(2, 2)))\n",
    "    model.add(Flatten())\n",
    "    model.add(Dropout(rate=0.8))\n",
    "    model.add(Dense(activation=\"relu\", units=100))\n",
    "    model.add(Dense(activation=\"softmax\", units=n_y))\n",
    "    \n",
    "    \n",
    "    # initial_learning_rate * decay_rate ^ (step / decay_steps)\n",
    "    lr_schedule = keras.optimizers.schedules.ExponentialDecay(\n",
    "                                                initial_learning_rate=1e-2,\n",
    "                                                decay_steps=10000,\n",
    "                                                decay_rate=0.9)\n",
    "    \n",
    "    opt = tf.keras.optimizers.Adam(learning_rate=lr_schedule)\n",
    "    \n",
    "    model.compile(loss=keras.losses.categorical_crossentropy\n",
    "                  , optimizer=opt\n",
    "                  , metrics = [\"accuracy\"])\n",
    "    return model\n",
    "\n",
    "model = build_model()\n",
    "model.summary()\n",
    "\n",
    "tensorboard = keras.callbacks.TensorBoard(log_dir=f\"/tmp/tf/\" + str(int(time())), \n",
    "                                          histogram_freq=1,\n",
    "                                          write_images=True)\n",
    "\n",
    "model.fit(x = X_train\n",
    "          , y = Y_train\n",
    "          , validation_data = (X_test, Y_test)\n",
    "          , verbose = 1\n",
    "          , epochs = 1\n",
    "          , batch_size= 64\n",
    "          , callbacks = [tensorboard]\n",
    "         )\n",
    "model.evaluate(X_test, Y_test)"
   ]
  },
  {
   "cell_type": "markdown",
   "metadata": {},
   "source": [
    "## Model using data generator"
   ]
  },
  {
   "cell_type": "code",
   "execution_count": 13,
   "metadata": {},
   "outputs": [
    {
     "name": "stdout",
     "output_type": "stream",
     "text": [
      "Model: \"sequential_7\"\n",
      "_________________________________________________________________\n",
      "Layer (type)                 Output Shape              Param #   \n",
      "=================================================================\n",
      "conv2d_14 (Conv2D)           (None, 24, 24, 32)        832       \n",
      "_________________________________________________________________\n",
      "max_pooling2d_14 (MaxPooling (None, 12, 12, 32)        0         \n",
      "_________________________________________________________________\n",
      "conv2d_15 (Conv2D)           (None, 10, 10, 64)        18496     \n",
      "_________________________________________________________________\n",
      "max_pooling2d_15 (MaxPooling (None, 5, 5, 64)          0         \n",
      "_________________________________________________________________\n",
      "flatten_7 (Flatten)          (None, 1600)              0         \n",
      "_________________________________________________________________\n",
      "dropout_7 (Dropout)          (None, 1600)              0         \n",
      "_________________________________________________________________\n",
      "dense_14 (Dense)             (None, 100)               160100    \n",
      "_________________________________________________________________\n",
      "dense_15 (Dense)             (None, 10)                1010      \n",
      "=================================================================\n",
      "Total params: 180,438\n",
      "Trainable params: 180,438\n",
      "Non-trainable params: 0\n",
      "_________________________________________________________________\n",
      "  2/937 [..............................] - ETA: 25s - loss: 2.3272 - accuracy: 0.0781WARNING:tensorflow:Callbacks method `on_train_batch_end` is slow compared to the batch time (batch time: 0.0190s vs `on_train_batch_end` time: 0.0364s). Check your callbacks.\n",
      "937/937 [==============================] - 21s 23ms/step - loss: 0.4454 - accuracy: 0.8555 - val_loss: 0.0818 - val_accuracy: 0.9746\n",
      "313/313 [==============================] - 1s 2ms/step - loss: 0.0818 - accuracy: 0.9746\n"
     ]
    },
    {
     "data": {
      "text/plain": [
       "[0.08180491626262665, 0.9746000170707703]"
      ]
     },
     "execution_count": 13,
     "metadata": {},
     "output_type": "execute_result"
    }
   ],
   "source": [
    "from tensorflow.keras.preprocessing.image import ImageDataGenerator\n",
    "\n",
    "batch_size = 64\n",
    "drop_out = 0.4\n",
    "\n",
    "tf.random.set_seed(1)\n",
    "\n",
    "def build_model():\n",
    "    model = keras.Sequential()\n",
    "    model.add(Conv2D(filters=32, activation=\"relu\", kernel_size=(5, 5), input_shape = (28, 28, 1)))\n",
    "    model.add(MaxPooling2D(pool_size=(2, 2)))\n",
    "    model.add(Conv2D(filters=64, activation=\"relu\", kernel_size=(3, 3)))\n",
    "    model.add(MaxPooling2D(pool_size=(2, 2)))\n",
    "    model.add(Flatten())\n",
    "    model.add(Dropout(rate=0.4))\n",
    "    model.add(Dense(activation=\"relu\", units=100))\n",
    "    model.add(Dense(activation=\"softmax\", units=n_y))\n",
    "    \n",
    "    # initial_learning_rate * decay_rate ^ (step / decay_steps)\n",
    "    lr_schedule = keras.optimizers.schedules.ExponentialDecay(\n",
    "                                                initial_learning_rate=1e-2,\n",
    "                                                decay_steps=10000,\n",
    "                                                decay_rate=0.9)\n",
    "    \n",
    "    opt = tf.keras.optimizers.Adam(learning_rate=lr_schedule)\n",
    "    \n",
    "    model.compile(loss=keras.losses.categorical_crossentropy\n",
    "                  , optimizer=opt\n",
    "                  , metrics = [\"accuracy\"])\n",
    "    return model\n",
    "\n",
    "model = build_model()\n",
    "model.summary()\n",
    "\n",
    "tensorboard = keras.callbacks.TensorBoard(log_dir=f\"/tmp/tf/\" + str(int(time())), \n",
    "                                          histogram_freq=1,\n",
    "                                          write_images=True)\n",
    "\n",
    "\n",
    "datagen = ImageDataGenerator(\n",
    "    rotation_range=15,\n",
    "    width_shift_range=0.1,\n",
    "    height_shift_range=0.1,\n",
    "    horizontal_flip=True\n",
    "    )\n",
    "\n",
    "model.fit(datagen.flow(X_train, Y_train, batch_size=batch_size)\n",
    "                    , steps_per_epoch=X_train.shape[0] // batch_size\n",
    "                    , epochs=1\n",
    "                    , verbose=1\n",
    "                    , validation_data=(X_test, Y_test)\n",
    "                    , callbacks=[tensorboard])\n",
    "\n",
    "model.evaluate(X_test, Y_test)"
   ]
  },
  {
   "cell_type": "code",
   "execution_count": null,
   "metadata": {},
   "outputs": [],
   "source": []
  }
 ],
 "metadata": {
  "kernelspec": {
   "display_name": "Python 3",
   "language": "python",
   "name": "python3"
  },
  "language_info": {
   "codemirror_mode": {
    "name": "ipython",
    "version": 3
   },
   "file_extension": ".py",
   "mimetype": "text/x-python",
   "name": "python",
   "nbconvert_exporter": "python",
   "pygments_lexer": "ipython3",
   "version": "3.7.9"
  }
 },
 "nbformat": 4,
 "nbformat_minor": 2
}
