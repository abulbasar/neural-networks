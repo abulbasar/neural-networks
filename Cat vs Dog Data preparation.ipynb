{
 "cells": [
  {
   "cell_type": "code",
   "execution_count": 9,
   "metadata": {},
   "outputs": [],
   "source": [
    "import os\n",
    "import numpy as np"
   ]
  },
  {
   "cell_type": "code",
   "execution_count": 5,
   "metadata": {
    "scrolled": false
   },
   "outputs": [
    {
     "name": "stdout",
     "output_type": "stream",
     "text": [
      "total 608504\n",
      "-rw-r--r-- 1 ubuntu ubuntu 12414 Sep 20  2013 cat.0.jpg\n",
      "-rw-r--r-- 1 ubuntu ubuntu 21944 Sep 20  2013 cat.10000.jpg\n",
      "-rw-r--r-- 1 ubuntu ubuntu 27322 Sep 20  2013 cat.10001.jpg\n",
      "-rw-r--r-- 1 ubuntu ubuntu 25723 Sep 20  2013 cat.10002.jpg\n",
      "-rw-r--r-- 1 ubuntu ubuntu 28035 Sep 20  2013 cat.10003.jpg\n",
      "-rw-r--r-- 1 ubuntu ubuntu 12973 Sep 20  2013 cat.10004.jpg\n",
      "-rw-r--r-- 1 ubuntu ubuntu  8245 Sep 20  2013 cat.10005.jpg\n",
      "-rw-r--r-- 1 ubuntu ubuntu 24153 Sep 20  2013 cat.10006.jpg\n",
      "-rw-r--r-- 1 ubuntu ubuntu 10328 Sep 20  2013 cat.10007.jpg\n",
      "ls: write error: Broken pipe\n"
     ]
    }
   ],
   "source": [
    "!ls -l cat-vs-dog/train | head"
   ]
  },
  {
   "cell_type": "code",
   "execution_count": 6,
   "metadata": {},
   "outputs": [],
   "source": [
    "files = os.listdir(\"cat-vs-dog/train\")"
   ]
  },
  {
   "cell_type": "code",
   "execution_count": 7,
   "metadata": {},
   "outputs": [
    {
     "data": {
      "text/plain": [
       "['dog.9220.jpg',\n",
       " 'dog.4153.jpg',\n",
       " 'cat.4113.jpg',\n",
       " 'dog.7547.jpg',\n",
       " 'cat.7459.jpg',\n",
       " 'dog.10028.jpg',\n",
       " 'cat.11954.jpg',\n",
       " 'cat.7368.jpg',\n",
       " 'dog.3505.jpg',\n",
       " 'cat.12057.jpg']"
      ]
     },
     "execution_count": 7,
     "metadata": {},
     "output_type": "execute_result"
    }
   ],
   "source": [
    "files[:10]"
   ]
  },
  {
   "cell_type": "code",
   "execution_count": 10,
   "metadata": {},
   "outputs": [],
   "source": [
    "files = np.array(files)"
   ]
  },
  {
   "cell_type": "code",
   "execution_count": 11,
   "metadata": {},
   "outputs": [],
   "source": [
    "np.random.shuffle(files)"
   ]
  },
  {
   "cell_type": "code",
   "execution_count": 12,
   "metadata": {},
   "outputs": [
    {
     "data": {
      "text/plain": [
       "array(['dog.4152.jpg', 'dog.1304.jpg', 'cat.2229.jpg', 'dog.7877.jpg',\n",
       "       'cat.212.jpg', 'dog.1949.jpg', 'dog.4768.jpg', 'dog.3894.jpg',\n",
       "       'cat.722.jpg', 'dog.10029.jpg'], dtype='<U13')"
      ]
     },
     "execution_count": 12,
     "metadata": {},
     "output_type": "execute_result"
    }
   ],
   "source": [
    "files[:10]"
   ]
  },
  {
   "cell_type": "code",
   "execution_count": 17,
   "metadata": {},
   "outputs": [],
   "source": [
    "test_size = int(len(files) * 0.3)"
   ]
  },
  {
   "cell_type": "code",
   "execution_count": 18,
   "metadata": {},
   "outputs": [
    {
     "data": {
      "text/plain": [
       "7500"
      ]
     },
     "execution_count": 18,
     "metadata": {},
     "output_type": "execute_result"
    }
   ],
   "source": [
    "test_size"
   ]
  },
  {
   "cell_type": "code",
   "execution_count": 20,
   "metadata": {},
   "outputs": [],
   "source": [
    "import shutil"
   ]
  },
  {
   "cell_type": "code",
   "execution_count": 23,
   "metadata": {},
   "outputs": [],
   "source": [
    "for fname in files[10:test_size]:\n",
    "    if \"cat\" in fname: \n",
    "        shutil.move(\"cat-vs-dog/train/\" + fname, \"cat-vs-dog/validation/cat\")\n",
    "    else:\n",
    "        shutil.move(\"cat-vs-dog/train/\" + fname, \"cat-vs-dog/validation/dog\")\n",
    "    "
   ]
  },
  {
   "cell_type": "code",
   "execution_count": 24,
   "metadata": {},
   "outputs": [
    {
     "data": {
      "text/plain": [
       "3794"
      ]
     },
     "execution_count": 24,
     "metadata": {},
     "output_type": "execute_result"
    }
   ],
   "source": [
    "len(os.listdir(\"cat-vs-dog/validation/cat\"))"
   ]
  },
  {
   "cell_type": "code",
   "execution_count": 26,
   "metadata": {},
   "outputs": [
    {
     "data": {
      "text/plain": [
       "3706"
      ]
     },
     "execution_count": 26,
     "metadata": {},
     "output_type": "execute_result"
    }
   ],
   "source": [
    "len(os.listdir(\"cat-vs-dog/validation/dog\"))"
   ]
  },
  {
   "cell_type": "code",
   "execution_count": 27,
   "metadata": {},
   "outputs": [
    {
     "data": {
      "text/plain": [
       "17502"
      ]
     },
     "execution_count": 27,
     "metadata": {},
     "output_type": "execute_result"
    }
   ],
   "source": [
    "len(os.listdir(\"cat-vs-dog/train\"))"
   ]
  },
  {
   "cell_type": "code",
   "execution_count": 28,
   "metadata": {},
   "outputs": [],
   "source": [
    "for fname in os.listdir(\"cat-vs-dog/train\"):\n",
    "    if \"cat\" in fname: \n",
    "        shutil.move(\"cat-vs-dog/train/\" + fname, \"cat-vs-dog/train/cat\")\n",
    "    else:\n",
    "        shutil.move(\"cat-vs-dog/train/\" + fname, \"cat-vs-dog/train/dog\")\n",
    "    "
   ]
  },
  {
   "cell_type": "code",
   "execution_count": 30,
   "metadata": {},
   "outputs": [
    {
     "data": {
      "text/plain": [
       "8794"
      ]
     },
     "execution_count": 30,
     "metadata": {},
     "output_type": "execute_result"
    }
   ],
   "source": [
    "len(os.listdir(\"cat-vs-dog/train/dog\"))"
   ]
  },
  {
   "cell_type": "code",
   "execution_count": 31,
   "metadata": {},
   "outputs": [
    {
     "data": {
      "text/plain": [
       "8706"
      ]
     },
     "execution_count": 31,
     "metadata": {},
     "output_type": "execute_result"
    }
   ],
   "source": [
    "len(os.listdir(\"cat-vs-dog/train/cat\"))"
   ]
  },
  {
   "cell_type": "code",
   "execution_count": null,
   "metadata": {},
   "outputs": [],
   "source": []
  }
 ],
 "metadata": {
  "kernelspec": {
   "display_name": "Python 3",
   "language": "python",
   "name": "python3"
  },
  "language_info": {
   "codemirror_mode": {
    "name": "ipython",
    "version": 3
   },
   "file_extension": ".py",
   "mimetype": "text/x-python",
   "name": "python",
   "nbconvert_exporter": "python",
   "pygments_lexer": "ipython3",
   "version": "3.7.4"
  }
 },
 "nbformat": 4,
 "nbformat_minor": 2
}
