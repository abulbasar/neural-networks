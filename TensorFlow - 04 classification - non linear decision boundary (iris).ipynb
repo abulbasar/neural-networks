{
 "cells": [
  {
   "cell_type": "code",
   "execution_count": 1,
   "metadata": {},
   "outputs": [
    {
     "name": "stderr",
     "output_type": "stream",
     "text": [
      "/Users/abulbasar/anaconda/lib/python3.6/importlib/_bootstrap.py:219: RuntimeWarning: compiletime version 3.5 of module 'tensorflow.python.framework.fast_tensor_util' does not match runtime version 3.6\n",
      "  return f(*args, **kwds)\n"
     ]
    }
   ],
   "source": [
    "import pandas as pd\n",
    "import numpy as np\n",
    "import matplotlib.pyplot as plt\n",
    "from sklearn import preprocessing, linear_model, metrics, model_selection\n",
    "\n",
    "from mlxtend.plotting import plot_decision_regions \n",
    "import tensorflow as tf\n",
    "\n",
    "%matplotlib inline"
   ]
  },
  {
   "cell_type": "code",
   "execution_count": 2,
   "metadata": {},
   "outputs": [],
   "source": [
    "import requests\n",
    "url = \"https://raw.githubusercontent.com/abulbasar/machine-learning/master/Utils.py\"\n",
    "exec(requests.get(url).text)"
   ]
  },
  {
   "cell_type": "code",
   "execution_count": 3,
   "metadata": {},
   "outputs": [
    {
     "data": {
      "text/html": [
       "<div>\n",
       "<style scoped>\n",
       "    .dataframe tbody tr th:only-of-type {\n",
       "        vertical-align: middle;\n",
       "    }\n",
       "\n",
       "    .dataframe tbody tr th {\n",
       "        vertical-align: top;\n",
       "    }\n",
       "\n",
       "    .dataframe thead th {\n",
       "        text-align: right;\n",
       "    }\n",
       "</style>\n",
       "<table border=\"1\" class=\"dataframe\">\n",
       "  <thead>\n",
       "    <tr style=\"text-align: right;\">\n",
       "      <th></th>\n",
       "      <th>Id</th>\n",
       "      <th>SepalLengthCm</th>\n",
       "      <th>SepalWidthCm</th>\n",
       "      <th>PetalLengthCm</th>\n",
       "      <th>PetalWidthCm</th>\n",
       "      <th>Species</th>\n",
       "    </tr>\n",
       "  </thead>\n",
       "  <tbody>\n",
       "    <tr>\n",
       "      <th>0</th>\n",
       "      <td>1</td>\n",
       "      <td>5.1</td>\n",
       "      <td>3.5</td>\n",
       "      <td>1.4</td>\n",
       "      <td>0.2</td>\n",
       "      <td>Iris-setosa</td>\n",
       "    </tr>\n",
       "    <tr>\n",
       "      <th>1</th>\n",
       "      <td>2</td>\n",
       "      <td>4.9</td>\n",
       "      <td>3.0</td>\n",
       "      <td>1.4</td>\n",
       "      <td>0.2</td>\n",
       "      <td>Iris-setosa</td>\n",
       "    </tr>\n",
       "    <tr>\n",
       "      <th>2</th>\n",
       "      <td>3</td>\n",
       "      <td>4.7</td>\n",
       "      <td>3.2</td>\n",
       "      <td>1.3</td>\n",
       "      <td>0.2</td>\n",
       "      <td>Iris-setosa</td>\n",
       "    </tr>\n",
       "    <tr>\n",
       "      <th>3</th>\n",
       "      <td>4</td>\n",
       "      <td>4.6</td>\n",
       "      <td>3.1</td>\n",
       "      <td>1.5</td>\n",
       "      <td>0.2</td>\n",
       "      <td>Iris-setosa</td>\n",
       "    </tr>\n",
       "    <tr>\n",
       "      <th>4</th>\n",
       "      <td>5</td>\n",
       "      <td>5.0</td>\n",
       "      <td>3.6</td>\n",
       "      <td>1.4</td>\n",
       "      <td>0.2</td>\n",
       "      <td>Iris-setosa</td>\n",
       "    </tr>\n",
       "  </tbody>\n",
       "</table>\n",
       "</div>"
      ],
      "text/plain": [
       "   Id  SepalLengthCm  SepalWidthCm  PetalLengthCm  PetalWidthCm      Species\n",
       "0   1            5.1           3.5            1.4           0.2  Iris-setosa\n",
       "1   2            4.9           3.0            1.4           0.2  Iris-setosa\n",
       "2   3            4.7           3.2            1.3           0.2  Iris-setosa\n",
       "3   4            4.6           3.1            1.5           0.2  Iris-setosa\n",
       "4   5            5.0           3.6            1.4           0.2  Iris-setosa"
      ]
     },
     "execution_count": 3,
     "metadata": {},
     "output_type": "execute_result"
    }
   ],
   "source": [
    "df = pd.read_csv(\"https://raw.githubusercontent.com/abulbasar/data/master/iris.csv\")\n",
    "df.head()"
   ]
  },
  {
   "cell_type": "code",
   "execution_count": 4,
   "metadata": {},
   "outputs": [
    {
     "name": "stdout",
     "output_type": "stream",
     "text": [
      "['Iris-setosa' 'Iris-versicolor' 'Iris-virginica']\n"
     ]
    },
    {
     "data": {
      "image/png": "[encoded data removed]",
      "text/plain": [
       "<matplotlib.figure.Figure at 0x1a1d374390>"
      ]
     },
     "metadata": {},
     "output_type": "display_data"
    }
   ],
   "source": [
    "features = [\"SepalLengthCm\", \"PetalLengthCm\"]\n",
    "print(np.unique(df.Species))\n",
    "\n",
    "y = np.where(df.Species == \"Iris-setosa\", 1, 0).astype(np.int32)\n",
    "X = df[features]\n",
    "\n",
    "X_train, X_test, y_train, y_test = model_selection.train_test_split(X.values, y,\n",
    "                                    test_size = 0.3, random_state = 1)\n",
    "\n",
    "colors = [\"red\", \"green\", \"blue\"]\n",
    "fig, ax = plt.subplots()\n",
    "for i, v in enumerate(np.unique(y)):\n",
    "    df[y == v].plot.scatter(features[0], \n",
    "                    features[1], color = colors[i], ax = ax, label = v)\n",
    "plt.legend()\n",
    "\n",
    "scaler = preprocessing.StandardScaler()\n",
    "X_train_std = scaler.fit_transform(X_train)\n",
    "X_test_std = scaler.transform(X_test)"
   ]
  },
  {
   "cell_type": "code",
   "execution_count": 5,
   "metadata": {
    "scrolled": false
   },
   "outputs": [
    {
     "name": "stdout",
     "output_type": "stream",
     "text": [
      "X Tensor(\"X:0\", shape=(?, 2), dtype=float32)\n",
      "y Tensor(\"y:0\", shape=(?,), dtype=int32)\n",
      "W <tf.Variable 'Variable:0' shape=(2, 2) dtype=float32_ref>\n",
      "b <tf.Variable 'Variable_1:0' shape=(2,) dtype=float32_ref>\n",
      "Z Tensor(\"add:0\", shape=(?, 2), dtype=float32)\n",
      "y_prob Tensor(\"Softmax:0\", shape=(?, 2), dtype=float32)\n",
      "y_pred Tensor(\"ArgMax:0\", shape=(?,), dtype=int32)\n",
      "accuracy Tensor(\"Mean:0\", shape=(), dtype=float32)\n",
      "0.693147\n",
      "0.272615\n",
      "0.191557\n",
      "0.153168\n",
      "0.129597\n",
      "0.11324\n",
      "0.101049\n",
      "0.0915257\n",
      "0.0838322\n",
      "0.0774592\n",
      "0.0613716\n",
      "test accuracy 0.977778\n"
     ]
    },
    {
     "data": {
      "image/png": "[encoded data removed]",
      "text/plain": [
       "<matplotlib.figure.Figure at 0x1a1de41ac8>"
      ]
     },
     "metadata": {},
     "output_type": "display_data"
    }
   ],
   "source": [
    "tf.reset_default_graph()\n",
    "n_x = X_train_std.shape[1]\n",
    "n_y = 2\n",
    "max_iters = 200\n",
    "\n",
    "X = tf.placeholder(dtype=tf.float32, shape=[None, n_x], name=\"X\")\n",
    "y = tf.placeholder(dtype=tf.int32, shape=[None], name=\"y\")\n",
    "\n",
    "y_oh = tf.one_hot(indices=y, depth=2)\n",
    "\n",
    "print(\"X\", X)\n",
    "print(\"y\", y)\n",
    "\n",
    "W = tf.Variable(tf.zeros(dtype=tf.float32, shape=[n_x, n_y]))\n",
    "print(\"W\", W)\n",
    "\n",
    "b = tf.Variable(tf.constant(0.0, shape=[n_y]))\n",
    "print(\"b\", b)\n",
    "\n",
    "Z = tf.matmul(X, W) + b\n",
    "print(\"Z\", Z)\n",
    "\n",
    "y_prob = tf.nn.softmax(Z)\n",
    "print(\"y_prob\", y_prob)\n",
    "\n",
    "y_pred = tf.argmax(Z, axis=1, output_type=tf.int32)\n",
    "print(\"y_pred\", y_pred)\n",
    "\n",
    "\n",
    "accuracy = tf.reduce_mean(tf.cast(tf.equal(y_pred, y), tf.float32))\n",
    "\n",
    "print(\"accuracy\", accuracy)\n",
    "\n",
    "cost = tf.reduce_mean(tf.nn.softmax_cross_entropy_with_logits(labels=y_oh, \n",
    "                                            logits=Z))\n",
    "\n",
    "optimization = tf.train\\\n",
    "            .GradientDescentOptimizer(learning_rate=0.1).minimize(cost)\n",
    "\n",
    "with tf.Session() as sess:\n",
    "    scores = {}\n",
    "    sess.run(tf.global_variables_initializer())\n",
    "    batchable = Batchable(X_train_std, y_train, batch_size=64)\n",
    "    for i in range(max_iters):\n",
    "        X_batch, y_batch = batchable.next()\n",
    "        cost_, _ = sess.run([cost, optimization], \n",
    "                feed_dict={X: X_batch, y:y_batch})\n",
    "        scores[i] = cost_\n",
    "        if i % (max_iters // 10) == 0 or i == max_iters-1:\n",
    "            print(cost_)\n",
    "    plot_scores(scores) \n",
    "    accuracy_ = sess.run(accuracy, feed_dict={X: X_test_std, y: y_test})\n",
    "    print(\"test accuracy\", accuracy_)\n"
   ]
  },
  {
   "cell_type": "code",
   "execution_count": 6,
   "metadata": {},
   "outputs": [
    {
     "name": "stdout",
     "output_type": "stream",
     "text": [
      "['Iris-setosa' 'Iris-versicolor' 'Iris-virginica']\n"
     ]
    },
    {
     "data": {
      "image/png": "[encoded data removed]",
      "text/plain": [
       "<matplotlib.figure.Figure at 0x1a1dc532e8>"
      ]
     },
     "metadata": {},
     "output_type": "display_data"
    }
   ],
   "source": [
    "features = [\"SepalLengthCm\", \"PetalLengthCm\"]\n",
    "print(np.unique(df.Species))\n",
    "\n",
    "y = np.where(df.Species == 'Iris-versicolor', 1, 0).astype(np.int32)\n",
    "X = df[features]\n",
    "\n",
    "X_train, X_test, y_train, y_test = model_selection.train_test_split(X.values, y,\n",
    "                                    test_size = 0.3, random_state = 1)\n",
    "\n",
    "colors = [\"red\", \"green\", \"blue\"]\n",
    "fig, ax = plt.subplots()\n",
    "for i, v in enumerate(np.unique(y)):\n",
    "    df[y == v].plot.scatter(features[0], \n",
    "                    features[1], color = colors[i],\n",
    "                    ax = ax, label = v)\n",
    "plt.legend()\n",
    "\n",
    "scaler = preprocessing.StandardScaler()\n",
    "X_train_std = scaler.fit_transform(X_train)\n",
    "X_test_std = scaler.transform(X_test)"
   ]
  },
  {
   "cell_type": "code",
   "execution_count": 7,
   "metadata": {},
   "outputs": [
    {
     "name": "stdout",
     "output_type": "stream",
     "text": [
      "X Tensor(\"X:0\", shape=(?, 2), dtype=float32)\n",
      "y Tensor(\"y:0\", shape=(?,), dtype=int32)\n",
      "y_prob Tensor(\"Softmax:0\", shape=(?, 2), dtype=float32)\n",
      "y_pred Tensor(\"ArgMax:0\", shape=(?,), dtype=int32)\n",
      "accuracy Tensor(\"Mean:0\", shape=(), dtype=float32)\n",
      "0.697267\n",
      "0.609025\n",
      "0.420443\n",
      "0.184505\n",
      "0.138788\n",
      "0.129461\n",
      "0.126277\n",
      "0.124889\n",
      "0.124158\n",
      "0.123693\n",
      "0.0425411\n",
      "test accuracy 0.977778\n"
     ]
    },
    {
     "data": {
      "image/png": "[encoded data removed]",
      "text/plain": [
       "<matplotlib.figure.Figure at 0x1a1e1024e0>"
      ]
     },
     "metadata": {},
     "output_type": "display_data"
    }
   ],
   "source": [
    "tf.reset_default_graph()\n",
    "tf.set_random_seed(1)\n",
    "n_x = X_train_std.shape[1]\n",
    "n_y = 2\n",
    "max_iters = 1000\n",
    "\n",
    "X = tf.placeholder(dtype=tf.float32, shape=[None, n_x], name=\"X\")\n",
    "y = tf.placeholder(dtype=tf.int32, shape=[None], name=\"y\")\n",
    "\n",
    "y_oh = tf.one_hot(indices=y, depth=2)\n",
    "\n",
    "print(\"X\", X)\n",
    "print(\"y\", y)\n",
    "\n",
    "\n",
    "def full_layer(input, size, activation = None):\n",
    "    input_size = int(input.get_shape()[1])\n",
    "    W = tf.Variable(tf.truncated_normal(stddev=0.1, shape=[input_size, size]))\n",
    "    b = tf.Variable(tf.constant(0.1, shape=[size]))\n",
    "    Z = tf.matmul(input, W) + b\n",
    "    if not activation is None:\n",
    "        Z = activation(Z)\n",
    "    return Z\n",
    "    \n",
    "\n",
    "layer1 = full_layer(X, 3, tf.nn.tanh)\n",
    "Z_out = full_layer(layer1, 2)\n",
    "\n",
    "y_prob = tf.nn.softmax(Z_out)\n",
    "print(\"y_prob\", y_prob)\n",
    "\n",
    "y_pred = tf.argmax(Z_out, axis=1, output_type=tf.int32)\n",
    "print(\"y_pred\", y_pred)\n",
    "\n",
    "\n",
    "accuracy = tf.reduce_mean(tf.cast(tf.equal(y_pred, y), tf.float32))\n",
    "\n",
    "print(\"accuracy\", accuracy)\n",
    "\n",
    "loss = tf.nn.softmax_cross_entropy_with_logits(labels=y_oh, \n",
    "                                            logits=Z_out)\n",
    "cost = tf.reduce_mean(loss)\n",
    "\n",
    "optimization = tf.train\\\n",
    "            .AdamOptimizer(learning_rate=0.01)\\\n",
    "            .minimize(cost)\n",
    "\n",
    "with tf.Session() as sess:\n",
    "    scores = {}\n",
    "    sess.run(tf.global_variables_initializer())\n",
    "    batchable = Batchable(X_train_std, y_train, batch_size=64)\n",
    "    for i in range(max_iters):\n",
    "        X_batch, y_batch = batchable.next()\n",
    "        cost_, _ = sess.run([cost, optimization], \n",
    "                feed_dict={X: X_batch, y:y_batch})\n",
    "        scores[i] = cost_\n",
    "        if i % (max_iters // 10) == 0 or i == max_iters-1:\n",
    "            print(cost_)\n",
    "    plot_scores(scores) \n",
    "    accuracy_ = sess.run(accuracy, feed_dict={X: X_test_std, y: y_test})\n",
    "    print(\"test accuracy\", accuracy_)"
   ]
  }
 ],
 "metadata": {
  "kernelspec": {
   "display_name": "Python 3",
   "language": "python",
   "name": "python3"
  },
  "language_info": {
   "codemirror_mode": {
    "name": "ipython",
    "version": 3
   },
   "file_extension": ".py",
   "mimetype": "text/x-python",
   "name": "python",
   "nbconvert_exporter": "python",
   "pygments_lexer": "ipython3",
   "version": "3.7.4"
  }
 },
 "nbformat": 4,
 "nbformat_minor": 2
}
