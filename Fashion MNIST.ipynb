{
 "cells": [
  {
   "cell_type": "code",
   "execution_count": 8,
   "metadata": {},
   "outputs": [],
   "source": [
    "import tensorflow as tf\n",
    "from tensorflow import keras\n",
    "from datetime import datetime"
   ]
  },
  {
   "cell_type": "code",
   "execution_count": 16,
   "metadata": {},
   "outputs": [
    {
     "data": {
      "text/plain": [
       "((60000, 28, 28), (60000, 10), (10000, 28, 28), (10000, 10))"
      ]
     },
     "execution_count": 16,
     "metadata": {},
     "output_type": "execute_result"
    }
   ],
   "source": [
    "# https://keras.io/api/datasets/fashion_mnist/#load_data-function\n",
    "\n",
    "(x_train, y_train), (x_test, y_test) = tf.keras.datasets.fashion_mnist.load_data()\n",
    "y_train =  keras.utils.to_categorical(y_train)\n",
    "y_test = keras.utils.to_categorical(y_test)\n",
    "x_train.shape, y_train.shape, x_test.shape, y_test.shape"
   ]
  },
  {
   "cell_type": "code",
   "execution_count": 24,
   "metadata": {},
   "outputs": [
    {
     "name": "stdout",
     "output_type": "stream",
     "text": [
      "Model: \"sequential_11\"\n",
      "_________________________________________________________________\n",
      "Layer (type)                 Output Shape              Param #   \n",
      "=================================================================\n",
      "dense_23 (Dense)             (None, 10)                7850      \n",
      "=================================================================\n",
      "Total params: 7,850\n",
      "Trainable params: 7,850\n",
      "Non-trainable params: 0\n",
      "_________________________________________________________________\n",
      "Epoch 1/10\n",
      "  2/938 [..............................] - ETA: 25s - loss: 4249.2881 - accuracy: 0.1094 - recall_11: 0.1094WARNING:tensorflow:Callbacks method `on_train_batch_end` is slow compared to the batch time (batch time: 0.0007s vs `on_train_batch_end` time: 0.0545s). Check your callbacks.\n",
      "938/938 [==============================] - 1s 966us/step - loss: 1907.1847 - accuracy: 0.7261 - recall_11: 0.7261 - val_loss: 1167.6221 - val_accuracy: 0.7330 - val_recall_11: 0.7330\n",
      "Epoch 2/10\n",
      "938/938 [==============================] - 1s 724us/step - loss: 1349.9464 - accuracy: 0.7732 - recall_11: 0.7732 - val_loss: 1371.7032 - val_accuracy: 0.7571 - val_recall_11: 0.7571\n",
      "Epoch 3/10\n",
      "938/938 [==============================] - 1s 727us/step - loss: 1258.0537 - accuracy: 0.7810 - recall_11: 0.7810 - val_loss: 780.0987 - val_accuracy: 0.8117 - val_recall_11: 0.8117\n",
      "Epoch 4/10\n",
      "938/938 [==============================] - 1s 739us/step - loss: 1187.2216 - accuracy: 0.7885 - recall_11: 0.7885 - val_loss: 1318.4171 - val_accuracy: 0.7636 - val_recall_11: 0.7636\n",
      "Epoch 5/10\n",
      "938/938 [==============================] - 1s 735us/step - loss: 1216.2714 - accuracy: 0.7871 - recall_11: 0.7871 - val_loss: 1425.6392 - val_accuracy: 0.7401 - val_recall_11: 0.7401\n",
      "Epoch 6/10\n",
      "938/938 [==============================] - 1s 741us/step - loss: 1244.1693 - accuracy: 0.7908 - recall_11: 0.7908 - val_loss: 2745.4695 - val_accuracy: 0.6245 - val_recall_11: 0.6245\n",
      "Epoch 7/10\n",
      "938/938 [==============================] - 1s 745us/step - loss: 1201.1936 - accuracy: 0.7935 - recall_11: 0.7935 - val_loss: 1300.2155 - val_accuracy: 0.7514 - val_recall_11: 0.7514\n",
      "Epoch 8/10\n",
      "938/938 [==============================] - 1s 736us/step - loss: 1156.8376 - accuracy: 0.7973 - recall_11: 0.7973 - val_loss: 939.6800 - val_accuracy: 0.7684 - val_recall_11: 0.7684\n",
      "Epoch 9/10\n",
      "938/938 [==============================] - 1s 740us/step - loss: 1138.4480 - accuracy: 0.7963 - recall_11: 0.7963 - val_loss: 1144.4409 - val_accuracy: 0.7573 - val_recall_11: 0.7573\n",
      "Epoch 10/10\n",
      "938/938 [==============================] - 1s 737us/step - loss: 1151.4277 - accuracy: 0.7974 - recall_11: 0.7974 - val_loss: 1148.2227 - val_accuracy: 0.7639 - val_recall_11: 0.7639\n"
     ]
    },
    {
     "data": {
      "text/plain": [
       "<tensorflow.python.keras.callbacks.History at 0x7ff4e8a53190>"
      ]
     },
     "execution_count": 24,
     "metadata": {},
     "output_type": "execute_result"
    }
   ],
   "source": [
    "d = datetime.now().isoformat()[:19]\n",
    "\n",
    "tensorboard = keras.callbacks.TensorBoard(log_dir= \"/tmp/tf/\" + d)\n",
    "\n",
    "model = keras.Sequential()\n",
    "model.add(keras.layers.InputLayer(input_shape = (784,)))\n",
    "#model.add(keras.layers.Dense(units = 400, activation = \"relu\")),\n",
    "#model.add(keras.layers.Dense(units = 100, activation = \"relu\")),\n",
    "model.add(keras.layers.Dense(units = 10, activation = \"softmax\"))\n",
    "\n",
    "\n",
    "model.summary()\n",
    "\n",
    "model.compile(optimizer = \"sgd\", loss = keras.losses.categorical_crossentropy\n",
    "              , metrics = [\"accuracy\", keras.metrics.Recall()])\n",
    "\n",
    "model.fit(x_train.reshape((-1, 784)), y_train\n",
    "          , validation_data = (x_test.reshape((-1, 784)), y_test)\n",
    "          , batch_size = 64\n",
    "          , epochs = 10\n",
    "          , callbacks=[tensorboard])"
   ]
  },
  {
   "cell_type": "code",
   "execution_count": null,
   "metadata": {},
   "outputs": [],
   "source": []
  }
 ],
 "metadata": {
  "kernelspec": {
   "display_name": "Python 3",
   "language": "python",
   "name": "python3"
  },
  "language_info": {
   "codemirror_mode": {
    "name": "ipython",
    "version": 3
   },
   "file_extension": ".py",
   "mimetype": "text/x-python",
   "name": "python",
   "nbconvert_exporter": "python",
   "pygments_lexer": "ipython3",
   "version": "3.7.9"
  }
 },
 "nbformat": 4,
 "nbformat_minor": 4
}
