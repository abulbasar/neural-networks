{
 "cells": [
  {
   "cell_type": "code",
   "execution_count": 1,
   "metadata": {},
   "outputs": [
    {
     "name": "stderr",
     "output_type": "stream",
     "text": [
      "Using TensorFlow backend.\n"
     ]
    }
   ],
   "source": [
    "import keras\n",
    "from keras.layers import LSTM, Dropout, Dense\n",
    "import tensorflow as tf\n",
    "import numpy as np\n",
    "import pandas as pd"
   ]
  },
  {
   "cell_type": "code",
   "execution_count": 3,
   "metadata": {},
   "outputs": [],
   "source": [
    "data = pd.read_csv(\"/data/creditcard-fraud.csv.gz\")"
   ]
  },
  {
   "cell_type": "code",
   "execution_count": 4,
   "metadata": {},
   "outputs": [
    {
     "name": "stdout",
     "output_type": "stream",
     "text": [
      "<class 'pandas.core.frame.DataFrame'>\n",
      "RangeIndex: 284807 entries, 0 to 284806\n",
      "Data columns (total 31 columns):\n",
      "Time      284807 non-null float64\n",
      "V1        284807 non-null float64\n",
      "V2        284807 non-null float64\n",
      "V3        284807 non-null float64\n",
      "V4        284807 non-null float64\n",
      "V5        284807 non-null float64\n",
      "V6        284807 non-null float64\n",
      "V7        284807 non-null float64\n",
      "V8        284807 non-null float64\n",
      "V9        284807 non-null float64\n",
      "V10       284807 non-null float64\n",
      "V11       284807 non-null float64\n",
      "V12       284807 non-null float64\n",
      "V13       284807 non-null float64\n",
      "V14       284807 non-null float64\n",
      "V15       284807 non-null float64\n",
      "V16       284807 non-null float64\n",
      "V17       284807 non-null float64\n",
      "V18       284807 non-null float64\n",
      "V19       284807 non-null float64\n",
      "V20       284807 non-null float64\n",
      "V21       284807 non-null float64\n",
      "V22       284807 non-null float64\n",
      "V23       284807 non-null float64\n",
      "V24       284807 non-null float64\n",
      "V25       284807 non-null float64\n",
      "V26       284807 non-null float64\n",
      "V27       284807 non-null float64\n",
      "V28       284807 non-null float64\n",
      "Amount    284807 non-null float64\n",
      "Class     284807 non-null int64\n",
      "dtypes: float64(30), int64(1)\n",
      "memory usage: 67.4 MB\n"
     ]
    }
   ],
   "source": [
    "data.info()"
   ]
  },
  {
   "cell_type": "code",
   "execution_count": 5,
   "metadata": {},
   "outputs": [
    {
     "data": {
      "text/html": [
       "<div>\n",
       "<style scoped>\n",
       "    .dataframe tbody tr th:only-of-type {\n",
       "        vertical-align: middle;\n",
       "    }\n",
       "\n",
       "    .dataframe tbody tr th {\n",
       "        vertical-align: top;\n",
       "    }\n",
       "\n",
       "    .dataframe thead th {\n",
       "        text-align: right;\n",
       "    }\n",
       "</style>\n",
       "<table border=\"1\" class=\"dataframe\">\n",
       "  <thead>\n",
       "    <tr style=\"text-align: right;\">\n",
       "      <th></th>\n",
       "      <th>Time</th>\n",
       "      <th>V1</th>\n",
       "      <th>V2</th>\n",
       "      <th>V3</th>\n",
       "      <th>V4</th>\n",
       "      <th>V5</th>\n",
       "      <th>V6</th>\n",
       "      <th>V7</th>\n",
       "      <th>V8</th>\n",
       "      <th>V9</th>\n",
       "      <th>...</th>\n",
       "      <th>V21</th>\n",
       "      <th>V22</th>\n",
       "      <th>V23</th>\n",
       "      <th>V24</th>\n",
       "      <th>V25</th>\n",
       "      <th>V26</th>\n",
       "      <th>V27</th>\n",
       "      <th>V28</th>\n",
       "      <th>Amount</th>\n",
       "      <th>Class</th>\n",
       "    </tr>\n",
       "  </thead>\n",
       "  <tbody>\n",
       "    <tr>\n",
       "      <th>0</th>\n",
       "      <td>0.0</td>\n",
       "      <td>-1.359807</td>\n",
       "      <td>-0.072781</td>\n",
       "      <td>2.536347</td>\n",
       "      <td>1.378155</td>\n",
       "      <td>-0.338321</td>\n",
       "      <td>0.462388</td>\n",
       "      <td>0.239599</td>\n",
       "      <td>0.098698</td>\n",
       "      <td>0.363787</td>\n",
       "      <td>...</td>\n",
       "      <td>-0.018307</td>\n",
       "      <td>0.277838</td>\n",
       "      <td>-0.110474</td>\n",
       "      <td>0.066928</td>\n",
       "      <td>0.128539</td>\n",
       "      <td>-0.189115</td>\n",
       "      <td>0.133558</td>\n",
       "      <td>-0.021053</td>\n",
       "      <td>149.62</td>\n",
       "      <td>0</td>\n",
       "    </tr>\n",
       "    <tr>\n",
       "      <th>1</th>\n",
       "      <td>0.0</td>\n",
       "      <td>1.191857</td>\n",
       "      <td>0.266151</td>\n",
       "      <td>0.166480</td>\n",
       "      <td>0.448154</td>\n",
       "      <td>0.060018</td>\n",
       "      <td>-0.082361</td>\n",
       "      <td>-0.078803</td>\n",
       "      <td>0.085102</td>\n",
       "      <td>-0.255425</td>\n",
       "      <td>...</td>\n",
       "      <td>-0.225775</td>\n",
       "      <td>-0.638672</td>\n",
       "      <td>0.101288</td>\n",
       "      <td>-0.339846</td>\n",
       "      <td>0.167170</td>\n",
       "      <td>0.125895</td>\n",
       "      <td>-0.008983</td>\n",
       "      <td>0.014724</td>\n",
       "      <td>2.69</td>\n",
       "      <td>0</td>\n",
       "    </tr>\n",
       "    <tr>\n",
       "      <th>2</th>\n",
       "      <td>1.0</td>\n",
       "      <td>-1.358354</td>\n",
       "      <td>-1.340163</td>\n",
       "      <td>1.773209</td>\n",
       "      <td>0.379780</td>\n",
       "      <td>-0.503198</td>\n",
       "      <td>1.800499</td>\n",
       "      <td>0.791461</td>\n",
       "      <td>0.247676</td>\n",
       "      <td>-1.514654</td>\n",
       "      <td>...</td>\n",
       "      <td>0.247998</td>\n",
       "      <td>0.771679</td>\n",
       "      <td>0.909412</td>\n",
       "      <td>-0.689281</td>\n",
       "      <td>-0.327642</td>\n",
       "      <td>-0.139097</td>\n",
       "      <td>-0.055353</td>\n",
       "      <td>-0.059752</td>\n",
       "      <td>378.66</td>\n",
       "      <td>0</td>\n",
       "    </tr>\n",
       "    <tr>\n",
       "      <th>3</th>\n",
       "      <td>1.0</td>\n",
       "      <td>-0.966272</td>\n",
       "      <td>-0.185226</td>\n",
       "      <td>1.792993</td>\n",
       "      <td>-0.863291</td>\n",
       "      <td>-0.010309</td>\n",
       "      <td>1.247203</td>\n",
       "      <td>0.237609</td>\n",
       "      <td>0.377436</td>\n",
       "      <td>-1.387024</td>\n",
       "      <td>...</td>\n",
       "      <td>-0.108300</td>\n",
       "      <td>0.005274</td>\n",
       "      <td>-0.190321</td>\n",
       "      <td>-1.175575</td>\n",
       "      <td>0.647376</td>\n",
       "      <td>-0.221929</td>\n",
       "      <td>0.062723</td>\n",
       "      <td>0.061458</td>\n",
       "      <td>123.50</td>\n",
       "      <td>0</td>\n",
       "    </tr>\n",
       "    <tr>\n",
       "      <th>4</th>\n",
       "      <td>2.0</td>\n",
       "      <td>-1.158233</td>\n",
       "      <td>0.877737</td>\n",
       "      <td>1.548718</td>\n",
       "      <td>0.403034</td>\n",
       "      <td>-0.407193</td>\n",
       "      <td>0.095921</td>\n",
       "      <td>0.592941</td>\n",
       "      <td>-0.270533</td>\n",
       "      <td>0.817739</td>\n",
       "      <td>...</td>\n",
       "      <td>-0.009431</td>\n",
       "      <td>0.798278</td>\n",
       "      <td>-0.137458</td>\n",
       "      <td>0.141267</td>\n",
       "      <td>-0.206010</td>\n",
       "      <td>0.502292</td>\n",
       "      <td>0.219422</td>\n",
       "      <td>0.215153</td>\n",
       "      <td>69.99</td>\n",
       "      <td>0</td>\n",
       "    </tr>\n",
       "  </tbody>\n",
       "</table>\n",
       "<p>5 rows × 31 columns</p>\n",
       "</div>"
      ],
      "text/plain": [
       "   Time        V1        V2        V3        V4        V5        V6        V7  \\\n",
       "0   0.0 -1.359807 -0.072781  2.536347  1.378155 -0.338321  0.462388  0.239599   \n",
       "1   0.0  1.191857  0.266151  0.166480  0.448154  0.060018 -0.082361 -0.078803   \n",
       "2   1.0 -1.358354 -1.340163  1.773209  0.379780 -0.503198  1.800499  0.791461   \n",
       "3   1.0 -0.966272 -0.185226  1.792993 -0.863291 -0.010309  1.247203  0.237609   \n",
       "4   2.0 -1.158233  0.877737  1.548718  0.403034 -0.407193  0.095921  0.592941   \n",
       "\n",
       "         V8        V9  ...       V21       V22       V23       V24       V25  \\\n",
       "0  0.098698  0.363787  ... -0.018307  0.277838 -0.110474  0.066928  0.128539   \n",
       "1  0.085102 -0.255425  ... -0.225775 -0.638672  0.101288 -0.339846  0.167170   \n",
       "2  0.247676 -1.514654  ...  0.247998  0.771679  0.909412 -0.689281 -0.327642   \n",
       "3  0.377436 -1.387024  ... -0.108300  0.005274 -0.190321 -1.175575  0.647376   \n",
       "4 -0.270533  0.817739  ... -0.009431  0.798278 -0.137458  0.141267 -0.206010   \n",
       "\n",
       "        V26       V27       V28  Amount  Class  \n",
       "0 -0.189115  0.133558 -0.021053  149.62      0  \n",
       "1  0.125895 -0.008983  0.014724    2.69      0  \n",
       "2 -0.139097 -0.055353 -0.059752  378.66      0  \n",
       "3 -0.221929  0.062723  0.061458  123.50      0  \n",
       "4  0.502292  0.219422  0.215153   69.99      0  \n",
       "\n",
       "[5 rows x 31 columns]"
      ]
     },
     "execution_count": 5,
     "metadata": {},
     "output_type": "execute_result"
    }
   ],
   "source": [
    "data.head()"
   ]
  },
  {
   "cell_type": "code",
   "execution_count": 6,
   "metadata": {},
   "outputs": [
    {
     "data": {
      "text/plain": [
       "284807"
      ]
     },
     "execution_count": 6,
     "metadata": {},
     "output_type": "execute_result"
    }
   ],
   "source": [
    "rec_count = len(data)\n",
    "rec_count"
   ]
  },
  {
   "cell_type": "code",
   "execution_count": 7,
   "metadata": {},
   "outputs": [],
   "source": [
    "sequence_length = 10"
   ]
  },
  {
   "cell_type": "code",
   "execution_count": 8,
   "metadata": {},
   "outputs": [],
   "source": [
    "def generate_data(X, y, sequence_length = 10, step = 1):\n",
    "    X_local = []\n",
    "    y_local = []\n",
    "    for start in range(0, len(data) - sequence_length, step):\n",
    "        end = start + sequence_length\n",
    "        X_local.append(X[start:end])\n",
    "        y_local.append(y[end-1])\n",
    "    return np.array(X_local), np.array(y_local)\n",
    "\n",
    "X_sequence, y = generate_data(data.loc[:, \"V1\":\"V28\"].values, data.Class)"
   ]
  },
  {
   "cell_type": "code",
   "execution_count": 9,
   "metadata": {},
   "outputs": [
    {
     "data": {
      "text/plain": [
       "((284797, 10, 28), (284797,))"
      ]
     },
     "execution_count": 9,
     "metadata": {},
     "output_type": "execute_result"
    }
   ],
   "source": [
    "X_sequence.shape, y.shape"
   ]
  },
  {
   "cell_type": "code",
   "execution_count": 14,
   "metadata": {},
   "outputs": [
    {
     "name": "stdout",
     "output_type": "stream",
     "text": [
      "_________________________________________________________________\n",
      "Layer (type)                 Output Shape              Param #   \n",
      "=================================================================\n",
      "lstm_2 (LSTM)                (None, 100)               51600     \n",
      "_________________________________________________________________\n",
      "dropout_2 (Dropout)          (None, 100)               0         \n",
      "_________________________________________________________________\n",
      "dense_2 (Dense)              (None, 1)                 101       \n",
      "=================================================================\n",
      "Total params: 51,701\n",
      "Trainable params: 51,701\n",
      "Non-trainable params: 0\n",
      "_________________________________________________________________\n"
     ]
    }
   ],
   "source": [
    "model = keras.Sequential()\n",
    "model.add(LSTM(100, input_shape = (10, 28)))\n",
    "model.add(Dropout(0.5))\n",
    "model.add(Dense(1, activation=\"sigmoid\"))\n",
    "model.compile(loss=\"binary_crossentropy\"\n",
    "              , metrics=[keras.metrics.binary_accuracy]\n",
    "              , optimizer=\"adam\")\n",
    "\n",
    "model.summary()"
   ]
  },
  {
   "cell_type": "code",
   "execution_count": 15,
   "metadata": {},
   "outputs": [],
   "source": [
    "training_size = int(len(X_sequence) * 0.7)"
   ]
  },
  {
   "cell_type": "code",
   "execution_count": 16,
   "metadata": {},
   "outputs": [],
   "source": [
    "X_train, y_train = X_sequence[:training_size], y[:training_size]\n",
    "X_test, y_test = X_sequence[training_size:], y[training_size:]"
   ]
  },
  {
   "cell_type": "code",
   "execution_count": 18,
   "metadata": {},
   "outputs": [
    {
     "name": "stdout",
     "output_type": "stream",
     "text": [
      "Epoch 1/50\n",
      "199357/199357 [==============================] - 30s 149us/step - loss: 0.0037 - binary_accuracy: 0.9993\n",
      "Epoch 2/50\n",
      "199357/199357 [==============================] - 32s 161us/step - loss: 0.0036 - binary_accuracy: 0.9993\n",
      "Epoch 3/50\n",
      "199357/199357 [==============================] - 31s 155us/step - loss: 0.0034 - binary_accuracy: 0.9993\n",
      "Epoch 4/50\n",
      "199357/199357 [==============================] - 31s 156us/step - loss: 0.0034 - binary_accuracy: 0.9993\n",
      "Epoch 5/50\n",
      "199357/199357 [==============================] - 33s 166us/step - loss: 0.0032 - binary_accuracy: 0.9994\n",
      "Epoch 6/50\n",
      "199357/199357 [==============================] - 42s 213us/step - loss: 0.0030 - binary_accuracy: 0.9993\n",
      "Epoch 7/50\n",
      "199357/199357 [==============================] - 32s 162us/step - loss: 0.0029 - binary_accuracy: 0.9993\n",
      "Epoch 8/50\n",
      "199357/199357 [==============================] - 38s 188us/step - loss: 0.0026 - binary_accuracy: 0.9994\n",
      "Epoch 9/50\n",
      "199357/199357 [==============================] - 37s 186us/step - loss: 0.0024 - binary_accuracy: 0.9994\n",
      "Epoch 10/50\n",
      "199357/199357 [==============================] - 33s 164us/step - loss: 0.0021 - binary_accuracy: 0.9995\n",
      "Epoch 11/50\n",
      "199357/199357 [==============================] - 40s 199us/step - loss: 0.0018 - binary_accuracy: 0.9995\n",
      "Epoch 12/50\n",
      "199357/199357 [==============================] - 36s 183us/step - loss: 0.0014 - binary_accuracy: 0.9995\n",
      "Epoch 13/50\n",
      "199357/199357 [==============================] - 33s 164us/step - loss: 0.0012 - binary_accuracy: 0.9996\n",
      "Epoch 14/50\n",
      "199357/199357 [==============================] - 44s 219us/step - loss: 9.2159e-04 - binary_accuracy: 0.9997\n",
      "Epoch 15/50\n",
      "199357/199357 [==============================] - 45s 225us/step - loss: 8.0687e-04 - binary_accuracy: 0.9997\n",
      "Epoch 16/50\n",
      "199357/199357 [==============================] - 32s 161us/step - loss: 5.9595e-04 - binary_accuracy: 0.9998\n",
      "Epoch 17/50\n",
      "199357/199357 [==============================] - 38s 189us/step - loss: 6.8365e-04 - binary_accuracy: 0.9997\n",
      "Epoch 18/50\n",
      "199357/199357 [==============================] - 42s 211us/step - loss: 4.5185e-04 - binary_accuracy: 0.9998\n",
      "Epoch 19/50\n",
      "199357/199357 [==============================] - 35s 175us/step - loss: 3.9125e-04 - binary_accuracy: 0.9998\n",
      "Epoch 20/50\n",
      "199357/199357 [==============================] - 39s 196us/step - loss: 4.0597e-04 - binary_accuracy: 0.9999\n",
      "Epoch 21/50\n",
      "199357/199357 [==============================] - 43s 216us/step - loss: 2.7718e-04 - binary_accuracy: 0.9999\n",
      "Epoch 22/50\n",
      "199357/199357 [==============================] - 34s 172us/step - loss: 2.7663e-04 - binary_accuracy: 0.9999\n",
      "Epoch 23/50\n",
      "199357/199357 [==============================] - 43s 214us/step - loss: 2.4597e-04 - binary_accuracy: 0.9999\n",
      "Epoch 24/50\n",
      "199357/199357 [==============================] - 38s 193us/step - loss: 1.6732e-04 - binary_accuracy: 1.0000\n",
      "Epoch 25/50\n",
      "199357/199357 [==============================] - 33s 165us/step - loss: 4.1719e-04 - binary_accuracy: 0.9999\n",
      "Epoch 26/50\n",
      "199357/199357 [==============================] - 41s 204us/step - loss: 1.4827e-04 - binary_accuracy: 0.9999\n",
      "Epoch 27/50\n",
      "199357/199357 [==============================] - 41s 207us/step - loss: 2.3199e-04 - binary_accuracy: 0.9999\n",
      "Epoch 28/50\n",
      "199357/199357 [==============================] - 33s 165us/step - loss: 2.0402e-04 - binary_accuracy: 0.9999\n",
      "Epoch 29/50\n",
      "199357/199357 [==============================] - 42s 209us/step - loss: 1.4378e-04 - binary_accuracy: 0.9999\n",
      "Epoch 30/50\n",
      "199357/199357 [==============================] - 41s 208us/step - loss: 1.1287e-04 - binary_accuracy: 1.0000\n",
      "Epoch 31/50\n",
      "199357/199357 [==============================] - 33s 166us/step - loss: 1.4160e-04 - binary_accuracy: 1.0000\n",
      "Epoch 32/50\n",
      "199357/199357 [==============================] - 42s 211us/step - loss: 2.0022e-04 - binary_accuracy: 0.9999\n",
      "Epoch 33/50\n",
      "199357/199357 [==============================] - 41s 207us/step - loss: 1.2528e-04 - binary_accuracy: 0.9999\n",
      "Epoch 34/50\n",
      "199357/199357 [==============================] - 33s 166us/step - loss: 9.8605e-05 - binary_accuracy: 1.0000\n",
      "Epoch 35/50\n",
      "199357/199357 [==============================] - 42s 213us/step - loss: 1.1711e-04 - binary_accuracy: 1.0000\n",
      "Epoch 36/50\n",
      "199357/199357 [==============================] - 40s 199us/step - loss: 3.0271e-05 - binary_accuracy: 1.0000\n",
      "Epoch 37/50\n",
      "199357/199357 [==============================] - 33s 166us/step - loss: 1.0864e-04 - binary_accuracy: 1.0000\n",
      "Epoch 38/50\n",
      "199357/199357 [==============================] - 48s 242us/step - loss: 2.5390e-04 - binary_accuracy: 0.9999\n",
      "Epoch 39/50\n",
      "199357/199357 [==============================] - 45s 226us/step - loss: 1.7684e-04 - binary_accuracy: 0.9999\n",
      "Epoch 40/50\n",
      "199357/199357 [==============================] - 37s 188us/step - loss: 8.1204e-05 - binary_accuracy: 1.0000\n",
      "Epoch 41/50\n",
      "199357/199357 [==============================] - 112s 563us/step - loss: 1.7897e-04 - binary_accuracy: 0.9999\n",
      "Epoch 42/50\n",
      "199357/199357 [==============================] - 84s 420us/step - loss: 1.2062e-04 - binary_accuracy: 1.0000\n",
      "Epoch 43/50\n",
      "199357/199357 [==============================] - 46s 229us/step - loss: 9.4326e-05 - binary_accuracy: 1.0000\n",
      "Epoch 44/50\n",
      "199357/199357 [==============================] - 78s 392us/step - loss: 7.1586e-05 - binary_accuracy: 1.0000\n",
      "Epoch 45/50\n",
      "199357/199357 [==============================] - 61s 306us/step - loss: 1.1931e-04 - binary_accuracy: 1.0000\n",
      "Epoch 46/50\n",
      "199357/199357 [==============================] - 57s 285us/step - loss: 2.2473e-05 - binary_accuracy: 1.0000\n",
      "Epoch 47/50\n",
      "199357/199357 [==============================] - 59s 294us/step - loss: 1.0307e-04 - binary_accuracy: 1.0000\n",
      "Epoch 48/50\n",
      "199357/199357 [==============================] - 48s 243us/step - loss: 1.5526e-04 - binary_accuracy: 1.0000\n",
      "Epoch 49/50\n",
      "199357/199357 [==============================] - 45s 225us/step - loss: 5.9818e-05 - binary_accuracy: 1.0000\n",
      "Epoch 50/50\n",
      "199357/199357 [==============================] - 57s 285us/step - loss: 8.1028e-05 - binary_accuracy: 1.0000\n"
     ]
    },
    {
     "data": {
      "text/plain": [
       "<keras.callbacks.History at 0xb31f034e0>"
      ]
     },
     "execution_count": 18,
     "metadata": {},
     "output_type": "execute_result"
    }
   ],
   "source": [
    "model.fit(X_train, y_train, batch_size=64, epochs=50)"
   ]
  },
  {
   "cell_type": "code",
   "execution_count": 19,
   "metadata": {},
   "outputs": [
    {
     "name": "stdout",
     "output_type": "stream",
     "text": [
      "85440/85440 [==============================] - 4s 50us/step\n"
     ]
    },
    {
     "data": {
      "text/plain": [
       "[0.005906340044841124, 0.9995435393258427]"
      ]
     },
     "execution_count": 19,
     "metadata": {},
     "output_type": "execute_result"
    }
   ],
   "source": [
    "model.evaluate(X_test, y_test)"
   ]
  },
  {
   "cell_type": "code",
   "execution_count": 20,
   "metadata": {},
   "outputs": [
    {
     "name": "stdout",
     "output_type": "stream",
     "text": [
      "85440/85440 [==============================] - 4s 48us/step\n"
     ]
    }
   ],
   "source": [
    "y_test_prob = model.predict(X_test, verbose=1)"
   ]
  },
  {
   "cell_type": "code",
   "execution_count": 21,
   "metadata": {},
   "outputs": [],
   "source": [
    "y_test_pred = np.where(y_test_prob > 0.5, 1, 0)"
   ]
  },
  {
   "cell_type": "code",
   "execution_count": 22,
   "metadata": {},
   "outputs": [],
   "source": [
    "from sklearn.metrics import confusion_matrix"
   ]
  },
  {
   "cell_type": "code",
   "execution_count": 23,
   "metadata": {},
   "outputs": [
    {
     "data": {
      "text/plain": [
       "array([[85328,     4],\n",
       "       [   35,    73]])"
      ]
     },
     "execution_count": 23,
     "metadata": {},
     "output_type": "execute_result"
    }
   ],
   "source": [
    "confusion_matrix(y_test, y_test_pred)"
   ]
  },
  {
   "cell_type": "code",
   "execution_count": null,
   "metadata": {},
   "outputs": [],
   "source": []
  }
 ],
 "metadata": {
  "kernelspec": {
   "display_name": "Python 3",
   "language": "python",
   "name": "python3"
  },
  "language_info": {
   "codemirror_mode": {
    "name": "ipython",
    "version": 3
   },
   "file_extension": ".py",
   "mimetype": "text/x-python",
   "name": "python",
   "nbconvert_exporter": "python",
   "pygments_lexer": "ipython3",
   "version": "3.7.3"
  }
 },
 "nbformat": 4,
 "nbformat_minor": 2
}
