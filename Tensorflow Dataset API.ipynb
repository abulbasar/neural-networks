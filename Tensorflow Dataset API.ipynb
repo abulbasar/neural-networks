{
 "cells": [
  {
   "cell_type": "code",
   "execution_count": 1,
   "metadata": {},
   "outputs": [
    {
     "name": "stdout",
     "output_type": "stream",
     "text": [
      "1.11.0\n"
     ]
    }
   ],
   "source": [
    "import pandas as pd\n",
    "import tensorflow as tf\n",
    "from time import time\n",
    "print(tf.__version__)"
   ]
  },
  {
   "cell_type": "code",
   "execution_count": 2,
   "metadata": {},
   "outputs": [],
   "source": [
    "df_train = pd.read_csv(\"/data/MNIST/mnist_train.csv\", header=None)\n",
    "df_test = pd.read_csv(\"/data/MNIST/mnist_test.csv\", header=None)"
   ]
  },
  {
   "cell_type": "code",
   "execution_count": 3,
   "metadata": {},
   "outputs": [],
   "source": [
    "X_train = df_train.iloc[:, 1:].values/255\n",
    "X_test = df_test.iloc[:, 1:].values/255\n",
    "\n",
    "y_train = df_train.iloc[:, 0].values\n",
    "y_test = df_test.iloc[:, 0].values"
   ]
  },
  {
   "cell_type": "code",
   "execution_count": 4,
   "metadata": {
    "scrolled": false
   },
   "outputs": [],
   "source": [
    "def batching(X_data, y_data, session, epochs = 10, batch_size = 128):\n",
    "\n",
    "    X_placeholder = tf.placeholder(X_data.dtype, X_data.shape)\n",
    "    y_placeholder = tf.placeholder(y_data.dtype, y_data.shape)\n",
    "\n",
    "    dataset = tf.data.Dataset.from_tensor_slices((X_placeholder, y_placeholder))\n",
    "    dataset = dataset.shuffle(X_data.shape[0])\n",
    "    dataset = dataset.repeat(epochs)\n",
    "    dataset = dataset.batch(batch_size)\n",
    "    dataset = dataset.prefetch(batch_size * 100)\n",
    "\n",
    "    iterator = dataset.make_initializable_iterator()\n",
    "    next_batch = iterator.get_next()\n",
    "\n",
    "    sess.run(iterator.initializer\n",
    "             , feed_dict={X_placeholder: X_data, y_placeholder: y_data})\n",
    "\n",
    "    while True:\n",
    "        try:\n",
    "            yield sess.run(next_batch)\n",
    "        except tf.errors.OutOfRangeError:\n",
    "            break"
   ]
  },
  {
   "cell_type": "code",
   "execution_count": 5,
   "metadata": {
    "scrolled": false
   },
   "outputs": [
    {
     "name": "stdout",
     "output_type": "stream",
     "text": [
      "Test accuracy: 0.9826\n"
     ]
    }
   ],
   "source": [
    "tf.reset_default_graph()\n",
    "\n",
    "\n",
    "X = tf.placeholder(\"float32\", (None, 784))\n",
    "y = tf.placeholder(\"int32\", (None))\n",
    "\n",
    "y_oh = tf.one_hot(y, depth=10)\n",
    "\n",
    "Z = X\n",
    "Z = tf.layers.Dense(400, activation=\"relu\", kernel_initializer=\"he_normal\")(Z)\n",
    "Z = tf.layers.Dropout(rate = 0.5)(Z)\n",
    "Z = tf.layers.Dense(100, activation=\"relu\", kernel_initializer=\"he_normal\")(Z)\n",
    "Z = tf.layers.Dropout(rate = 0.5)(Z)\n",
    "Z = tf.layers.Dense(10)(Z)\n",
    "\n",
    "y_prob = tf.nn.softmax(Z)\n",
    "y_pred = tf.argmax(Z, axis=1, output_type=\"int32\")\n",
    "\n",
    "match = tf.equal(y, y_pred)\n",
    "accuracy = tf.reduce_mean(tf.cast(match, \"float32\"))\n",
    "\n",
    "loss = tf.nn.softmax_cross_entropy_with_logits_v2(labels=y_oh, logits=Z)\n",
    "cost = tf.reduce_mean(loss)\n",
    "\n",
    "opt = tf.train.AdamOptimizer(1e-3).minimize(cost)\n",
    "\n",
    "saver = tf.train.Saver()\n",
    "init = tf.global_variables_initializer()\n",
    "tf.summary.scalar(\"cost\", cost)\n",
    "tf.summary.scalar(\"accuracy\", accuracy)\n",
    "\n",
    "summaries = tf.summary.merge_all()\n",
    "file_writer = tf.summary.FileWriter(\"/tmp/tf/\" + str(time()))\n",
    "\n",
    "config = tf.ConfigProto(intra_op_parallelism_threads=12\n",
    "                        , inter_op_parallelism_threads=12)\n",
    "\n",
    "with tf.Session(config=config) as sess:\n",
    "    sess.run(init)\n",
    "    \n",
    "    i = 0\n",
    "    for X_batch, y_batch in batching(X_train, y_train, sess, epochs=10, batch_size=32):\n",
    "        cost_, accuracy_, op_, summaries_ = sess.run([cost, accuracy, opt, summaries]\n",
    "                    , feed_dict={X:X_batch, y: y_batch})\n",
    "        if i % 100 == 0:\n",
    "            file_writer.add_summary(summaries_)\n",
    "            print(\"%d %.4f\" % (i, accuracy_), end=\"\\r\")\n",
    "        i += 1\n",
    "    print(\"Test accuracy:\", sess.run(accuracy, feed_dict={X:X_test, y:y_test}))"
   ]
  },
  {
   "cell_type": "code",
   "execution_count": 6,
   "metadata": {},
   "outputs": [
    {
     "data": {
      "text/plain": [
       "57600"
      ]
     },
     "execution_count": 6,
     "metadata": {},
     "output_type": "execute_result"
    }
   ],
   "source": [
    "32 * 1800"
   ]
  },
  {
   "cell_type": "code",
   "execution_count": 7,
   "metadata": {},
   "outputs": [],
   "source": [
    "X_train_img = X_train.reshape(-1, 28,28,1)\n",
    "X_test_img = X_test.reshape(-1, 28,28,1)"
   ]
  },
  {
   "cell_type": "code",
   "execution_count": 9,
   "metadata": {},
   "outputs": [
    {
     "name": "stdout",
     "output_type": "stream",
     "text": [
      "Test accuracy: 0.9862\n"
     ]
    }
   ],
   "source": [
    "tf.reset_default_graph()\n",
    "\n",
    "\n",
    "X = tf.placeholder(\"float32\", (None, 28, 28, 1))\n",
    "y = tf.placeholder(\"int32\", (None))\n",
    "\n",
    "y_oh = tf.one_hot(y, depth=10)\n",
    "\n",
    "Z = X\n",
    "Z = tf.layers.Conv2D(32, (3, 3), activation=\"relu\", kernel_initializer=\"he_normal\")(Z)\n",
    "Z = tf.layers.MaxPooling2D((2,2), (1,1))(Z)\n",
    "Z = tf.layers.Dropout(rate = 0.5)(Z)\n",
    "Z = tf.layers.Conv2D(64, (5, 5), activation=\"relu\", kernel_initializer=\"he_normal\")(Z)\n",
    "Z = tf.layers.MaxPooling2D((2,2), (1,1))(Z)\n",
    "Z = tf.layers.Dropout(rate = 0.5, )(Z)\n",
    "Z = tf.layers.Flatten()(Z)\n",
    "Z = tf.layers.Dense(400, activation=\"relu\", kernel_initializer=\"he_normal\")(Z)\n",
    "Z = tf.layers.Dense(100, activation=\"relu\", kernel_initializer=\"he_normal\")(Z)\n",
    "Z = tf.layers.Dense(10)(Z)\n",
    "\n",
    "y_prob = tf.nn.softmax(Z)\n",
    "y_pred = tf.argmax(Z, axis=1, output_type=\"int32\")\n",
    "\n",
    "match = tf.equal(y, y_pred)\n",
    "accuracy = tf.reduce_mean(tf.cast(match, \"float32\"))\n",
    "\n",
    "loss = tf.nn.softmax_cross_entropy_with_logits_v2(labels=y_oh, logits=Z)\n",
    "cost = tf.reduce_mean(loss)\n",
    "\n",
    "opt = tf.train.AdamOptimizer(1e-3).minimize(cost)\n",
    "\n",
    "saver = tf.train.Saver()\n",
    "init = tf.global_variables_initializer()\n",
    "tf.summary.scalar(\"cost\", cost)\n",
    "tf.summary.scalar(\"accuracy\", accuracy)\n",
    "\n",
    "summaries = tf.summary.merge_all()\n",
    "file_writer = tf.summary.FileWriter(\"/tmp/tf/\" + str(int(time())))\n",
    "\n",
    "config = tf.ConfigProto(intra_op_parallelism_threads=12\n",
    "                        , inter_op_parallelism_threads=12)\n",
    "\n",
    "with tf.Session(config=config) as sess:\n",
    "    sess.run(init)\n",
    "    \n",
    "    i = 0\n",
    "    for X_batch, y_batch in batching(X_train_img, y_train, sess, epochs=3, batch_size=32):\n",
    "        cost_, accuracy_, op_, summaries_ = sess.run([cost, accuracy, opt, summaries]\n",
    "                    , feed_dict={X:X_batch, y: y_batch})\n",
    "        if i % 100 == 0:\n",
    "            #file_writer.add_summary(summaries_)\n",
    "            print(\"%d %.4f\" % (i, accuracy_), end=\"\\r\")\n",
    "        i += 1\n",
    "    print(\"Test accuracy:\", sess.run(accuracy, feed_dict={X:X_test_img, y:y_test}))"
   ]
  },
  {
   "cell_type": "code",
   "execution_count": null,
   "metadata": {},
   "outputs": [],
   "source": []
  }
 ],
 "metadata": {
  "kernelspec": {
   "display_name": "Python 3",
   "language": "python",
   "name": "python3"
  },
  "language_info": {
   "codemirror_mode": {
    "name": "ipython",
    "version": 3
   },
   "file_extension": ".py",
   "mimetype": "text/x-python",
   "name": "python",
   "nbconvert_exporter": "python",
   "pygments_lexer": "ipython3",
   "version": "3.6.7"
  }
 },
 "nbformat": 4,
 "nbformat_minor": 2
}
