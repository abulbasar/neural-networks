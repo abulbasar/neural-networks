{
 "cells": [
  {
   "cell_type": "code",
   "execution_count": 45,
   "metadata": {},
   "outputs": [],
   "source": [
    "import pandas as pd\n",
    "import numpy as np\n",
    "import keras\n",
    "from keras.layers import Dense, Dropout, Conv1D, MaxPooling1D, Flatten\n",
    "from sklearn import model_selection, preprocessing, metrics, ensemble\n",
    "from mlxtend.plotting import plot_confusion_matrix"
   ]
  },
  {
   "cell_type": "code",
   "execution_count": 3,
   "metadata": {},
   "outputs": [
    {
     "data": {
      "text/html": [
       "<div>\n",
       "<style scoped>\n",
       "    .dataframe tbody tr th:only-of-type {\n",
       "        vertical-align: middle;\n",
       "    }\n",
       "\n",
       "    .dataframe tbody tr th {\n",
       "        vertical-align: top;\n",
       "    }\n",
       "\n",
       "    .dataframe thead th {\n",
       "        text-align: right;\n",
       "    }\n",
       "</style>\n",
       "<table border=\"1\" class=\"dataframe\">\n",
       "  <thead>\n",
       "    <tr style=\"text-align: right;\">\n",
       "      <th></th>\n",
       "      <th>Time</th>\n",
       "      <th>V1</th>\n",
       "      <th>V2</th>\n",
       "      <th>V3</th>\n",
       "      <th>V4</th>\n",
       "      <th>V5</th>\n",
       "      <th>V6</th>\n",
       "      <th>V7</th>\n",
       "      <th>V8</th>\n",
       "      <th>V9</th>\n",
       "      <th>...</th>\n",
       "      <th>V21</th>\n",
       "      <th>V22</th>\n",
       "      <th>V23</th>\n",
       "      <th>V24</th>\n",
       "      <th>V25</th>\n",
       "      <th>V26</th>\n",
       "      <th>V27</th>\n",
       "      <th>V28</th>\n",
       "      <th>Amount</th>\n",
       "      <th>Class</th>\n",
       "    </tr>\n",
       "  </thead>\n",
       "  <tbody>\n",
       "    <tr>\n",
       "      <th>0</th>\n",
       "      <td>0.0</td>\n",
       "      <td>-1.359807</td>\n",
       "      <td>-0.072781</td>\n",
       "      <td>2.536347</td>\n",
       "      <td>1.378155</td>\n",
       "      <td>-0.338321</td>\n",
       "      <td>0.462388</td>\n",
       "      <td>0.239599</td>\n",
       "      <td>0.098698</td>\n",
       "      <td>0.363787</td>\n",
       "      <td>...</td>\n",
       "      <td>-0.018307</td>\n",
       "      <td>0.277838</td>\n",
       "      <td>-0.110474</td>\n",
       "      <td>0.066928</td>\n",
       "      <td>0.128539</td>\n",
       "      <td>-0.189115</td>\n",
       "      <td>0.133558</td>\n",
       "      <td>-0.021053</td>\n",
       "      <td>149.62</td>\n",
       "      <td>0</td>\n",
       "    </tr>\n",
       "    <tr>\n",
       "      <th>1</th>\n",
       "      <td>0.0</td>\n",
       "      <td>1.191857</td>\n",
       "      <td>0.266151</td>\n",
       "      <td>0.166480</td>\n",
       "      <td>0.448154</td>\n",
       "      <td>0.060018</td>\n",
       "      <td>-0.082361</td>\n",
       "      <td>-0.078803</td>\n",
       "      <td>0.085102</td>\n",
       "      <td>-0.255425</td>\n",
       "      <td>...</td>\n",
       "      <td>-0.225775</td>\n",
       "      <td>-0.638672</td>\n",
       "      <td>0.101288</td>\n",
       "      <td>-0.339846</td>\n",
       "      <td>0.167170</td>\n",
       "      <td>0.125895</td>\n",
       "      <td>-0.008983</td>\n",
       "      <td>0.014724</td>\n",
       "      <td>2.69</td>\n",
       "      <td>0</td>\n",
       "    </tr>\n",
       "    <tr>\n",
       "      <th>2</th>\n",
       "      <td>1.0</td>\n",
       "      <td>-1.358354</td>\n",
       "      <td>-1.340163</td>\n",
       "      <td>1.773209</td>\n",
       "      <td>0.379780</td>\n",
       "      <td>-0.503198</td>\n",
       "      <td>1.800499</td>\n",
       "      <td>0.791461</td>\n",
       "      <td>0.247676</td>\n",
       "      <td>-1.514654</td>\n",
       "      <td>...</td>\n",
       "      <td>0.247998</td>\n",
       "      <td>0.771679</td>\n",
       "      <td>0.909412</td>\n",
       "      <td>-0.689281</td>\n",
       "      <td>-0.327642</td>\n",
       "      <td>-0.139097</td>\n",
       "      <td>-0.055353</td>\n",
       "      <td>-0.059752</td>\n",
       "      <td>378.66</td>\n",
       "      <td>0</td>\n",
       "    </tr>\n",
       "    <tr>\n",
       "      <th>3</th>\n",
       "      <td>1.0</td>\n",
       "      <td>-0.966272</td>\n",
       "      <td>-0.185226</td>\n",
       "      <td>1.792993</td>\n",
       "      <td>-0.863291</td>\n",
       "      <td>-0.010309</td>\n",
       "      <td>1.247203</td>\n",
       "      <td>0.237609</td>\n",
       "      <td>0.377436</td>\n",
       "      <td>-1.387024</td>\n",
       "      <td>...</td>\n",
       "      <td>-0.108300</td>\n",
       "      <td>0.005274</td>\n",
       "      <td>-0.190321</td>\n",
       "      <td>-1.175575</td>\n",
       "      <td>0.647376</td>\n",
       "      <td>-0.221929</td>\n",
       "      <td>0.062723</td>\n",
       "      <td>0.061458</td>\n",
       "      <td>123.50</td>\n",
       "      <td>0</td>\n",
       "    </tr>\n",
       "    <tr>\n",
       "      <th>4</th>\n",
       "      <td>2.0</td>\n",
       "      <td>-1.158233</td>\n",
       "      <td>0.877737</td>\n",
       "      <td>1.548718</td>\n",
       "      <td>0.403034</td>\n",
       "      <td>-0.407193</td>\n",
       "      <td>0.095921</td>\n",
       "      <td>0.592941</td>\n",
       "      <td>-0.270533</td>\n",
       "      <td>0.817739</td>\n",
       "      <td>...</td>\n",
       "      <td>-0.009431</td>\n",
       "      <td>0.798278</td>\n",
       "      <td>-0.137458</td>\n",
       "      <td>0.141267</td>\n",
       "      <td>-0.206010</td>\n",
       "      <td>0.502292</td>\n",
       "      <td>0.219422</td>\n",
       "      <td>0.215153</td>\n",
       "      <td>69.99</td>\n",
       "      <td>0</td>\n",
       "    </tr>\n",
       "  </tbody>\n",
       "</table>\n",
       "<p>5 rows × 31 columns</p>\n",
       "</div>"
      ],
      "text/plain": [
       "   Time        V1        V2        V3        V4        V5        V6        V7  \\\n",
       "0   0.0 -1.359807 -0.072781  2.536347  1.378155 -0.338321  0.462388  0.239599   \n",
       "1   0.0  1.191857  0.266151  0.166480  0.448154  0.060018 -0.082361 -0.078803   \n",
       "2   1.0 -1.358354 -1.340163  1.773209  0.379780 -0.503198  1.800499  0.791461   \n",
       "3   1.0 -0.966272 -0.185226  1.792993 -0.863291 -0.010309  1.247203  0.237609   \n",
       "4   2.0 -1.158233  0.877737  1.548718  0.403034 -0.407193  0.095921  0.592941   \n",
       "\n",
       "         V8        V9  ...         V21       V22       V23       V24  \\\n",
       "0  0.098698  0.363787  ...   -0.018307  0.277838 -0.110474  0.066928   \n",
       "1  0.085102 -0.255425  ...   -0.225775 -0.638672  0.101288 -0.339846   \n",
       "2  0.247676 -1.514654  ...    0.247998  0.771679  0.909412 -0.689281   \n",
       "3  0.377436 -1.387024  ...   -0.108300  0.005274 -0.190321 -1.175575   \n",
       "4 -0.270533  0.817739  ...   -0.009431  0.798278 -0.137458  0.141267   \n",
       "\n",
       "        V25       V26       V27       V28  Amount  Class  \n",
       "0  0.128539 -0.189115  0.133558 -0.021053  149.62      0  \n",
       "1  0.167170  0.125895 -0.008983  0.014724    2.69      0  \n",
       "2 -0.327642 -0.139097 -0.055353 -0.059752  378.66      0  \n",
       "3  0.647376 -0.221929  0.062723  0.061458  123.50      0  \n",
       "4 -0.206010  0.502292  0.219422  0.215153   69.99      0  \n",
       "\n",
       "[5 rows x 31 columns]"
      ]
     },
     "execution_count": 3,
     "metadata": {},
     "output_type": "execute_result"
    }
   ],
   "source": [
    "df = pd.read_csv(\"/data/creditcard-fraud.csv\")\n",
    "df.head()"
   ]
  },
  {
   "cell_type": "code",
   "execution_count": 57,
   "metadata": {},
   "outputs": [],
   "source": [
    "def get_data():\n",
    "    X = df.loc[:, \"V1\":\"V28\"]\n",
    "    y = df.Class\n",
    "    X_train, X_test, y_train, y_test = model_selection.train_test_split(X.values, y, test_size = 0.3, random_state = 1)\n",
    "    scaler = pre\n",
    "    return X_train, X_test, y_train, y_test\n",
    "\n",
    "X_train, X_test, y_train, y_test = get_data()\n",
    "n_x = X_train.shape[1]"
   ]
  },
  {
   "cell_type": "markdown",
   "metadata": {},
   "source": [
    "Applying convolutional layers"
   ]
  },
  {
   "cell_type": "code",
   "execution_count": 65,
   "metadata": {},
   "outputs": [
    {
     "name": "stdout",
     "output_type": "stream",
     "text": [
      "Train on 199364 samples, validate on 85443 samples\n",
      "Epoch 1/10\n",
      "199364/199364 [==============================] - 31s 153us/step - loss: 0.0134 - acc: 0.9988 - val_loss: 0.0042 - val_acc: 0.9994\n",
      "Epoch 2/10\n",
      "199364/199364 [==============================] - 28s 140us/step - loss: 0.0043 - acc: 0.9993 - val_loss: 0.0037 - val_acc: 0.9993\n",
      "Epoch 3/10\n",
      "199364/199364 [==============================] - 27s 136us/step - loss: 0.0044 - acc: 0.9992 - val_loss: 0.0040 - val_acc: 0.9993\n",
      "Epoch 4/10\n",
      "199364/199364 [==============================] - 27s 136us/step - loss: 0.0042 - acc: 0.9992 - val_loss: 0.0044 - val_acc: 0.9992\n",
      "Epoch 5/10\n",
      "199364/199364 [==============================] - 26s 130us/step - loss: 0.0040 - acc: 0.9993 - val_loss: 0.0047 - val_acc: 0.9994\n",
      "Epoch 6/10\n",
      "199364/199364 [==============================] - 25s 127us/step - loss: 0.0039 - acc: 0.9993 - val_loss: 0.0053 - val_acc: 0.9992\n",
      "Epoch 7/10\n",
      "199364/199364 [==============================] - 29s 143us/step - loss: 0.0042 - acc: 0.9993 - val_loss: 0.0038 - val_acc: 0.9992\n",
      "Epoch 8/10\n",
      "199364/199364 [==============================] - 29s 147us/step - loss: 0.0039 - acc: 0.9993 - val_loss: 0.0039 - val_acc: 0.9994\n",
      "Epoch 9/10\n",
      "199364/199364 [==============================] - 30s 148us/step - loss: 0.0037 - acc: 0.9994 - val_loss: 0.0039 - val_acc: 0.9993\n",
      "Epoch 10/10\n",
      "199364/199364 [==============================] - 31s 155us/step - loss: 0.0041 - acc: 0.9993 - val_loss: 0.0036 - val_acc: 0.9994\n",
      "Recall:  0.7703703703703704 \n",
      "Precision 0.832\n"
     ]
    },
    {
     "data": {
      "text/plain": [
       "(<matplotlib.figure.Figure at 0x130f60fd0>,\n",
       " <matplotlib.axes._subplots.AxesSubplot at 0x11b59eb38>)"
      ]
     },
     "execution_count": 65,
     "metadata": {},
     "output_type": "execute_result"
    },
    {
     "data": {
      "image/png": "[encoded data removed]",
      "text/plain": [
       "<matplotlib.figure.Figure at 0x130f60fd0>"
      ]
     },
     "metadata": {},
     "output_type": "display_data"
    }
   ],
   "source": [
    "def get_model(n_x):\n",
    "    model = keras.Sequential()\n",
    "    model.add(Conv1D(50, kernel_size=(5,), activation=\"relu\", input_shape = (n_x,1)))\n",
    "    model.add(MaxPooling1D(pool_size=(3,)))\n",
    "    model.add(Conv1D(50, kernel_size=(5,), activation=\"relu\"))\n",
    "    model.add(MaxPooling1D(pool_size=(3,)))\n",
    "    model.add(Flatten())\n",
    "    model.add(Dense(100, activation=\"relu\"))\n",
    "    model.add(Dropout(0.5))\n",
    "    model.add(Dense(1, activation=\"sigmoid\"))\n",
    "    model.compile(loss=\"binary_crossentropy\", metrics=[\"accuracy\"], optimizer=\"adam\")\n",
    "    return model\n",
    "\n",
    "model = get_model(n_x)\n",
    "model.fit(batch_size=32\n",
    "          , x=X_train.reshape(-1, n_x, 1)\n",
    "          , y=y_train\n",
    "          , epochs=10\n",
    "          , validation_data=(X_test.reshape(-1, n_x, 1), y_test))\n",
    "\n",
    "y_test_prob = model.predict(X_test.reshape(-1, n_x, 1))\n",
    "y_test_pred = np.where(y_test_prob > 0.5, 1, 0)\n",
    "print(\"Recall: \", metrics.recall_score(y_test, y_test_pred),\n",
    "      \"\\nPrecision\", metrics.precision_score(y_test, y_test_pred))\n",
    "plot_confusion_matrix(metrics.confusion_matrix(y_test, y_test_pred))"
   ]
  },
  {
   "cell_type": "markdown",
   "metadata": {},
   "source": [
    "Fully connected neural network with one hidden layer with size 200"
   ]
  },
  {
   "cell_type": "code",
   "execution_count": 66,
   "metadata": {},
   "outputs": [
    {
     "name": "stdout",
     "output_type": "stream",
     "text": [
      "Train on 199364 samples, validate on 85443 samples\n",
      "Epoch 1/10\n",
      "199364/199364 [==============================] - 14s 69us/step - loss: 0.0078 - acc: 0.9987 - val_loss: 0.0035 - val_acc: 0.9994\n",
      "Epoch 2/10\n",
      "199364/199364 [==============================] - 14s 68us/step - loss: 0.0031 - acc: 0.9994 - val_loss: 0.0029 - val_acc: 0.9994\n",
      "Epoch 3/10\n",
      "199364/199364 [==============================] - 14s 68us/step - loss: 0.0028 - acc: 0.9994 - val_loss: 0.0031 - val_acc: 0.9995\n",
      "Epoch 4/10\n",
      "199364/199364 [==============================] - 16s 82us/step - loss: 0.0025 - acc: 0.9994 - val_loss: 0.0029 - val_acc: 0.9994\n",
      "Epoch 5/10\n",
      "199364/199364 [==============================] - 17s 84us/step - loss: 0.0024 - acc: 0.9995 - val_loss: 0.0033 - val_acc: 0.9995\n",
      "Epoch 6/10\n",
      "199364/199364 [==============================] - 14s 70us/step - loss: 0.0022 - acc: 0.9995 - val_loss: 0.0032 - val_acc: 0.9995\n",
      "Epoch 7/10\n",
      "199364/199364 [==============================] - 18s 88us/step - loss: 0.0022 - acc: 0.9995 - val_loss: 0.0032 - val_acc: 0.9994\n",
      "Epoch 8/10\n",
      "199364/199364 [==============================] - 17s 86us/step - loss: 0.0020 - acc: 0.9995 - val_loss: 0.0031 - val_acc: 0.9995\n",
      "Epoch 9/10\n",
      "199364/199364 [==============================] - 17s 83us/step - loss: 0.0018 - acc: 0.9995 - val_loss: 0.0039 - val_acc: 0.9994\n",
      "Epoch 10/10\n",
      "199364/199364 [==============================] - 15s 73us/step - loss: 0.0018 - acc: 0.9995 - val_loss: 0.0034 - val_acc: 0.9995\n",
      "Recall:  0.7333333333333333 \n",
      "Precision 0.9611650485436893\n"
     ]
    },
    {
     "data": {
      "text/plain": [
       "(<matplotlib.figure.Figure at 0x10f7546d8>,\n",
       " <matplotlib.axes._subplots.AxesSubplot at 0x11b099dd8>)"
      ]
     },
     "execution_count": 66,
     "metadata": {},
     "output_type": "execute_result"
    },
    {
     "data": {
      "image/png": "[encoded data removed]",
      "text/plain": [
       "<matplotlib.figure.Figure at 0x10f7546d8>"
      ]
     },
     "metadata": {},
     "output_type": "display_data"
    }
   ],
   "source": [
    "def get_model(n_x):\n",
    "    model = keras.Sequential()\n",
    "    model.add(Dense(200, activation=\"relu\", input_shape = (n_x,)))\n",
    "    model.add(Dense(1, activation=\"sigmoid\"))\n",
    "    model.compile(loss=\"binary_crossentropy\", metrics=[\"accuracy\"], optimizer=\"adam\")\n",
    "    return model\n",
    "\n",
    "model = get_model(n_x)\n",
    "model.fit(batch_size=32\n",
    "          , x=X_train\n",
    "          , y=y_train\n",
    "          , epochs=10\n",
    "          , validation_data=(X_test, y_test))\n",
    "\n",
    "y_test_prob = model.predict(X_test)\n",
    "y_test_pred = np.where(y_test_prob > 0.5, 1, 0)\n",
    "print(\"Recall: \", metrics.recall_score(y_test, y_test_pred),\n",
    "      \"\\nPrecision\", metrics.precision_score(y_test, y_test_pred))\n",
    "plot_confusion_matrix(metrics.confusion_matrix(y_test, y_test_pred))"
   ]
  },
  {
   "cell_type": "markdown",
   "metadata": {},
   "source": [
    "Let's compare the result with the RandomForest model in Scikit Learn"
   ]
  },
  {
   "cell_type": "code",
   "execution_count": 39,
   "metadata": {
    "scrolled": true
   },
   "outputs": [
    {
     "name": "stdout",
     "output_type": "stream",
     "text": [
      "Recall:  0.7333333333333333 \n",
      "Precision 0.9519230769230769\n"
     ]
    },
    {
     "data": {
      "text/plain": [
       "(<matplotlib.figure.Figure at 0x132157080>,\n",
       " <matplotlib.axes._subplots.AxesSubplot at 0x1106025f8>)"
      ]
     },
     "execution_count": 39,
     "metadata": {},
     "output_type": "execute_result"
    },
    {
     "data": {
      "image/png": "[encoded data removed]",
      "text/plain": [
       "<matplotlib.figure.Figure at 0x132157080>"
      ]
     },
     "metadata": {},
     "output_type": "display_data"
    }
   ],
   "source": [
    "est = ensemble.RandomForestClassifier(random_state=1)\n",
    "est.fit(X_train, y_train)\n",
    "y_train_pred = est.predict(X_train)\n",
    "y_test_pred = est.predict(X_test)\n",
    "print(\"Recall: \", metrics.recall_score(y_test, y_test_pred),\n",
    "      \"\\nPrecision\", metrics.precision_score(y_test, y_test_pred))\n",
    "plot_confusion_matrix(metrics.confusion_matrix(y_test, y_test_pred))"
   ]
  },
  {
   "cell_type": "code",
   "execution_count": null,
   "metadata": {},
   "outputs": [],
   "source": []
  }
 ],
 "metadata": {
  "kernelspec": {
   "display_name": "Python 3",
   "language": "python",
   "name": "python3"
  },
  "language_info": {
   "codemirror_mode": {
    "name": "ipython",
    "version": 3
   },
   "file_extension": ".py",
   "mimetype": "text/x-python",
   "name": "python",
   "nbconvert_exporter": "python",
   "pygments_lexer": "ipython3",
   "version": "3.6.6"
  }
 },
 "nbformat": 4,
 "nbformat_minor": 2
}
