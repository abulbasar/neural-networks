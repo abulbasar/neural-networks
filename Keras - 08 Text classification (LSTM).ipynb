{
 "cells": [
  {
   "cell_type": "code",
   "execution_count": 1,
   "metadata": {},
   "outputs": [
    {
     "name": "stderr",
     "output_type": "stream",
     "text": [
      "Using TensorFlow backend.\n"
     ]
    }
   ],
   "source": [
    "import keras\n",
    "import pandas as pd\n",
    "from keras import Sequential\n",
    "from keras.layers import LSTM,Dense,Dropout, Embedding, Conv1D, MaxPooling1D, Flatten\n",
    "import numpy as np\n",
    "import tensorflow as tf\n",
    "from keras.preprocessing.text import Tokenizer\n",
    "from keras.preprocessing.sequence import pad_sequences\n",
    "\n",
    "%matplotlib inline"
   ]
  },
  {
   "cell_type": "code",
   "execution_count": 2,
   "metadata": {},
   "outputs": [
    {
     "data": {
      "text/html": [
       "<div>\n",
       "<style scoped>\n",
       "    .dataframe tbody tr th:only-of-type {\n",
       "        vertical-align: middle;\n",
       "    }\n",
       "\n",
       "    .dataframe tbody tr th {\n",
       "        vertical-align: top;\n",
       "    }\n",
       "\n",
       "    .dataframe thead th {\n",
       "        text-align: right;\n",
       "    }\n",
       "</style>\n",
       "<table border=\"1\" class=\"dataframe\">\n",
       "  <thead>\n",
       "    <tr style=\"text-align: right;\">\n",
       "      <th></th>\n",
       "      <th>content</th>\n",
       "      <th>label</th>\n",
       "      <th>name</th>\n",
       "      <th>sentiment</th>\n",
       "    </tr>\n",
       "  </thead>\n",
       "  <tbody>\n",
       "    <tr>\n",
       "      <th>0</th>\n",
       "      <td>i went and saw this movie last night after bei...</td>\n",
       "      <td>test</td>\n",
       "      <td>0_10.txt</td>\n",
       "      <td>pos</td>\n",
       "    </tr>\n",
       "    <tr>\n",
       "      <th>1</th>\n",
       "      <td>actor turned director bill paxton follows up h...</td>\n",
       "      <td>test</td>\n",
       "      <td>10000_7.txt</td>\n",
       "      <td>pos</td>\n",
       "    </tr>\n",
       "    <tr>\n",
       "      <th>2</th>\n",
       "      <td>as a recreational golfer with some knowledge o...</td>\n",
       "      <td>test</td>\n",
       "      <td>10001_9.txt</td>\n",
       "      <td>pos</td>\n",
       "    </tr>\n",
       "    <tr>\n",
       "      <th>3</th>\n",
       "      <td>i saw this film in a sneak preview and it is d...</td>\n",
       "      <td>test</td>\n",
       "      <td>10002_8.txt</td>\n",
       "      <td>pos</td>\n",
       "    </tr>\n",
       "    <tr>\n",
       "      <th>4</th>\n",
       "      <td>bill paxton has taken the true story of the 19...</td>\n",
       "      <td>test</td>\n",
       "      <td>10003_8.txt</td>\n",
       "      <td>pos</td>\n",
       "    </tr>\n",
       "  </tbody>\n",
       "</table>\n",
       "</div>"
      ],
      "text/plain": [
       "                                             content label         name  \\\n",
       "0  i went and saw this movie last night after bei...  test     0_10.txt   \n",
       "1  actor turned director bill paxton follows up h...  test  10000_7.txt   \n",
       "2  as a recreational golfer with some knowledge o...  test  10001_9.txt   \n",
       "3  i saw this film in a sneak preview and it is d...  test  10002_8.txt   \n",
       "4  bill paxton has taken the true story of the 19...  test  10003_8.txt   \n",
       "\n",
       "  sentiment  \n",
       "0       pos  \n",
       "1       pos  \n",
       "2       pos  \n",
       "3       pos  \n",
       "4       pos  "
      ]
     },
     "execution_count": 2,
     "metadata": {},
     "output_type": "execute_result"
    }
   ],
   "source": [
    "def load_imdb(path):\n",
    "    from bs4 import BeautifulSoup\n",
    "    import re, json\n",
    "    import pandas as pd\n",
    "    \n",
    "    def preprocess(text):\n",
    "        text = BeautifulSoup(text.lower(), \"html5lib\").text #removed html tags\n",
    "        text = re.sub(r\"[\\W]+\", \" \", text)\n",
    "        return text\n",
    "    \n",
    "    with open(path, \"r\", encoding=\"utf8\") as f:\n",
    "        comments = pd.DataFrame.from_dict([json.loads(l) for l in f])\n",
    "        comments[\"content\"] = comments[\"content\"].apply(preprocess)\n",
    "        return comments\n",
    "        \n",
    "comments = load_imdb(\"/data/imdb-comments.json\")\n",
    "comments.head()"
   ]
  },
  {
   "cell_type": "code",
   "execution_count": 3,
   "metadata": {},
   "outputs": [
    {
     "data": {
      "text/html": [
       "<div>\n",
       "<style scoped>\n",
       "    .dataframe tbody tr th:only-of-type {\n",
       "        vertical-align: middle;\n",
       "    }\n",
       "\n",
       "    .dataframe tbody tr th {\n",
       "        vertical-align: top;\n",
       "    }\n",
       "\n",
       "    .dataframe thead th {\n",
       "        text-align: right;\n",
       "    }\n",
       "</style>\n",
       "<table border=\"1\" class=\"dataframe\">\n",
       "  <thead>\n",
       "    <tr style=\"text-align: right;\">\n",
       "      <th></th>\n",
       "      <th>content</th>\n",
       "      <th>label</th>\n",
       "      <th>name</th>\n",
       "      <th>sentiment</th>\n",
       "    </tr>\n",
       "  </thead>\n",
       "  <tbody>\n",
       "    <tr>\n",
       "      <th>26829</th>\n",
       "      <td>i can give you four reasons to see this movie ...</td>\n",
       "      <td>train</td>\n",
       "      <td>11647_8.txt</td>\n",
       "      <td>pos</td>\n",
       "    </tr>\n",
       "    <tr>\n",
       "      <th>47053</th>\n",
       "      <td>polyester was the very first john water s film...</td>\n",
       "      <td>train</td>\n",
       "      <td>7349_1.txt</td>\n",
       "      <td>neg</td>\n",
       "    </tr>\n",
       "    <tr>\n",
       "      <th>28994</th>\n",
       "      <td>i really enjoyed the first episode and am look...</td>\n",
       "      <td>train</td>\n",
       "      <td>2345_9.txt</td>\n",
       "      <td>pos</td>\n",
       "    </tr>\n",
       "    <tr>\n",
       "      <th>41945</th>\n",
       "      <td>i hate to even waste the time it takes to writ...</td>\n",
       "      <td>train</td>\n",
       "      <td>2751_1.txt</td>\n",
       "      <td>neg</td>\n",
       "    </tr>\n",
       "    <tr>\n",
       "      <th>33300</th>\n",
       "      <td>throughly enjoy all the musical numbers each t...</td>\n",
       "      <td>train</td>\n",
       "      <td>6220_8.txt</td>\n",
       "      <td>pos</td>\n",
       "    </tr>\n",
       "    <tr>\n",
       "      <th>40100</th>\n",
       "      <td>transylvania 6 5000 is an insignificant but o...</td>\n",
       "      <td>train</td>\n",
       "      <td>12340_4.txt</td>\n",
       "      <td>neg</td>\n",
       "    </tr>\n",
       "    <tr>\n",
       "      <th>8860</th>\n",
       "      <td>flowers if it s one thing you ll take away fro...</td>\n",
       "      <td>test</td>\n",
       "      <td>6725_8.txt</td>\n",
       "      <td>pos</td>\n",
       "    </tr>\n",
       "    <tr>\n",
       "      <th>47551</th>\n",
       "      <td>this review is based on the dubbed shock o ram...</td>\n",
       "      <td>train</td>\n",
       "      <td>7798_1.txt</td>\n",
       "      <td>neg</td>\n",
       "    </tr>\n",
       "    <tr>\n",
       "      <th>31818</th>\n",
       "      <td>this has just been broadcast on bbc and i am a...</td>\n",
       "      <td>train</td>\n",
       "      <td>4888_8.txt</td>\n",
       "      <td>pos</td>\n",
       "    </tr>\n",
       "    <tr>\n",
       "      <th>11625</th>\n",
       "      <td>wow this was a great movie i just got it from ...</td>\n",
       "      <td>test</td>\n",
       "      <td>9213_10.txt</td>\n",
       "      <td>pos</td>\n",
       "    </tr>\n",
       "  </tbody>\n",
       "</table>\n",
       "</div>"
      ],
      "text/plain": [
       "                                                 content  label         name  \\\n",
       "26829  i can give you four reasons to see this movie ...  train  11647_8.txt   \n",
       "47053  polyester was the very first john water s film...  train   7349_1.txt   \n",
       "28994  i really enjoyed the first episode and am look...  train   2345_9.txt   \n",
       "41945  i hate to even waste the time it takes to writ...  train   2751_1.txt   \n",
       "33300  throughly enjoy all the musical numbers each t...  train   6220_8.txt   \n",
       "40100   transylvania 6 5000 is an insignificant but o...  train  12340_4.txt   \n",
       "8860   flowers if it s one thing you ll take away fro...   test   6725_8.txt   \n",
       "47551  this review is based on the dubbed shock o ram...  train   7798_1.txt   \n",
       "31818  this has just been broadcast on bbc and i am a...  train   4888_8.txt   \n",
       "11625  wow this was a great movie i just got it from ...   test  9213_10.txt   \n",
       "\n",
       "      sentiment  \n",
       "26829       pos  \n",
       "47053       neg  \n",
       "28994       pos  \n",
       "41945       neg  \n",
       "33300       pos  \n",
       "40100       neg  \n",
       "8860        pos  \n",
       "47551       neg  \n",
       "31818       pos  \n",
       "11625       pos  "
      ]
     },
     "execution_count": 3,
     "metadata": {},
     "output_type": "execute_result"
    }
   ],
   "source": [
    "comments.sample(10)"
   ]
  },
  {
   "cell_type": "code",
   "execution_count": 4,
   "metadata": {},
   "outputs": [],
   "source": [
    "y = np.where(comments.sentiment == \"pos\", 1, 0)\n",
    "is_training = comments.label == \"train\""
   ]
  },
  {
   "cell_type": "code",
   "execution_count": 5,
   "metadata": {},
   "outputs": [
    {
     "data": {
      "text/plain": [
       "50000"
      ]
     },
     "execution_count": 5,
     "metadata": {},
     "output_type": "execute_result"
    }
   ],
   "source": [
    "tokenizer = Tokenizer()\n",
    "tokenizer.fit_on_texts(comments.content)\n",
    "doc_terms = tokenizer.texts_to_sequences(comments.content)\n",
    "len(doc_terms)"
   ]
  },
  {
   "cell_type": "code",
   "execution_count": 6,
   "metadata": {},
   "outputs": [
    {
     "data": {
      "text/plain": [
       "'i went and saw this movie last night after being coaxed to by a few friends of mine i ll admit that i was reluctant to see it because from what i knew of ashton kutcher he was only able to do comedy i was wrong kutcher played the character of jake fischer very well and kevin costner played ben randall with such professionalism the sign of a good movie is that it can toy with our emotions this one did exactly that the entire theater which was sold out was overcome by laughter during the first half of the movie and were moved to tears during the second half while exiting the theater i not only saw many women in tears but many full grown men as well trying desperately not to let anyone see them crying this movie was great and i suggest that you go see it before you judge '"
      ]
     },
     "execution_count": 6,
     "metadata": {},
     "output_type": "execute_result"
    }
   ],
   "source": [
    "comments.content[0]"
   ]
  },
  {
   "cell_type": "code",
   "execution_count": 7,
   "metadata": {},
   "outputs": [
    {
     "name": "stdout",
     "output_type": "stream",
     "text": [
      "[9, 416, 2, 210, 10, 15, 238, 311, 100, 109, 28203, 5, 33, 3, 173, 352, 4, 1758, 9, 232, 975, 11, 9, 13, 5735, 5, 65, 7, 84, 37, 47, 9, 672, 4, 9942, 9315, 24, 13, 62, 477, 5, 78, 201, 9, 13, 356, 9315, 254, 1, 104, 4, 3373, 15901, 53, 69, 2, 1621, 7132, 254, 1155, 8399, 17, 139, 11306, 1, 2016, 4, 3, 49, 15, 6, 11, 7, 50, 2970, 17, 258, 1334, 10, 28, 117, 619, 11, 1, 442, 764, 61, 13, 2986, 43, 13, 3232, 33, 2142, 303, 1, 88, 304, 4, 1, 15, 2, 71, 1649, 5, 1716, 303, 1, 338, 304, 136, 11778, 1, 764, 9, 23, 62, 210, 107, 362, 8, 1716, 18, 107, 364, 2061, 339, 14, 69, 264, 2816, 23, 5, 276, 246, 65, 92, 2488, 10, 15, 13, 80, 2, 9, 1466, 11, 20, 141, 65, 7, 161, 20, 1671]\n"
     ]
    }
   ],
   "source": [
    "print(doc_terms[0])"
   ]
  },
  {
   "cell_type": "code",
   "execution_count": 12,
   "metadata": {
    "scrolled": false
   },
   "outputs": [
    {
     "data": {
      "text/plain": [
       "\"defaultdict(<class 'int'>, {'can': 19081, 'exactly': 1811, 'judge': 516, 'ashton': 49, 'character': 9551, 'night': 3415, 'see': 16263, 'in': 44006, 'after': 11359, 'what': 19837, 'but': 35787, 'anyone': 4749, 'not': 29780, 'and': 48298, 'jake': 158, 'only': 16467, 'from': 23240, 'laughter': 437, 'last': 4836, 'was': 32181, 'you': 27390, 'movie': 30562, 'women': 2531, 'second': 3352, 'moved': 619, 'saw': 5469, 'emotions': 749, 'before': 7146, 'entire': 2543, 'fischer': 21, 'costner': 58, 'many': \""
      ]
     },
     "execution_count": 12,
     "metadata": {},
     "output_type": "execute_result"
    }
   ],
   "source": [
    "str(tokenizer.word_docs)[:500]"
   ]
  },
  {
   "cell_type": "code",
   "execution_count": 13,
   "metadata": {
    "scrolled": false
   },
   "outputs": [],
   "source": [
    "words_by_index = dict([(i, word) for word, i in tokenizer.word_index.items()])"
   ]
  },
  {
   "cell_type": "code",
   "execution_count": 14,
   "metadata": {},
   "outputs": [
    {
     "name": "stdout",
     "output_type": "stream",
     "text": [
      "['i', 'went', 'and', 'saw', 'this', 'movie', 'last', 'night', 'after', 'being', 'coaxed', 'to', 'by', 'a', 'few', 'friends', 'of', 'mine', 'i', 'll', 'admit', 'that', 'i', 'was', 'reluctant', 'to', 'see', 'it', 'because', 'from', 'what', 'i', 'knew', 'of', 'ashton', 'kutcher', 'he', 'was', 'only', 'able', 'to', 'do', 'comedy', 'i', 'was', 'wrong', 'kutcher', 'played', 'the', 'character', 'of', 'jake', 'fischer', 'very', 'well', 'and', 'kevin', 'costner', 'played', 'ben', 'randall', 'with', 'such', 'professionalism', 'the', 'sign', 'of', 'a', 'good', 'movie', 'is', 'that', 'it', 'can', 'toy', 'with', 'our', 'emotions', 'this', 'one', 'did', 'exactly', 'that', 'the', 'entire', 'theater', 'which', 'was', 'sold', 'out', 'was', 'overcome', 'by', 'laughter', 'during', 'the', 'first', 'half', 'of', 'the', 'movie', 'and', 'were', 'moved', 'to', 'tears', 'during', 'the', 'second', 'half', 'while', 'exiting', 'the', 'theater', 'i', 'not', 'only', 'saw', 'many', 'women', 'in', 'tears', 'but', 'many', 'full', 'grown', 'men', 'as', 'well', 'trying', 'desperately', 'not', 'to', 'let', 'anyone', 'see', 'them', 'crying', 'this', 'movie', 'was', 'great', 'and', 'i', 'suggest', 'that', 'you', 'go', 'see', 'it', 'before', 'you', 'judge']\n"
     ]
    }
   ],
   "source": [
    "print([words_by_index[t] for t in doc_terms[0]])"
   ]
  },
  {
   "cell_type": "code",
   "execution_count": 15,
   "metadata": {},
   "outputs": [
    {
     "data": {
      "text/plain": [
       "103890"
      ]
     },
     "execution_count": 15,
     "metadata": {},
     "output_type": "execute_result"
    }
   ],
   "source": [
    "vocab_size = len(tokenizer.word_index)\n",
    "vocab_size"
   ]
  },
  {
   "cell_type": "code",
   "execution_count": 18,
   "metadata": {
    "scrolled": false
   },
   "outputs": [
    {
     "data": {
      "text/plain": [
       "<matplotlib.axes._subplots.AxesSubplot at 0xb2a11c7f0>"
      ]
     },
     "execution_count": 18,
     "metadata": {},
     "output_type": "execute_result"
    },
    {
     "data": {
      "image/png": "[encoded data removed]",
      "text/plain": [
       "<Figure size 432x288 with 1 Axes>"
      ]
     },
     "metadata": {
      "needs_background": "light"
     },
     "output_type": "display_data"
    }
   ],
   "source": [
    "pd.Series([len(r) for r in doc_terms]).plot.kde()"
   ]
  },
  {
   "cell_type": "code",
   "execution_count": 24,
   "metadata": {
    "scrolled": false
   },
   "outputs": [
    {
     "data": {
      "text/plain": [
       "array([    0,     0,     0,     0,     0,     0,     0,     0,     0,\n",
       "           0,     0,     0,     0,     0,     0,     0,     0,     0,\n",
       "           0,     0,     0,     0,     0,     0,     0,     0,     0,\n",
       "           0,     0,     0,     0,     0,     0,     0,     0,     0,\n",
       "           0,     0,     0,     0,     0,     0,     0,     0,     0,\n",
       "           0,     0,     0,     0,     0,     0,     0,     0,     0,\n",
       "           0,     0,     0,     0,     0,     0,     0,     0,     0,\n",
       "           0,     0,     0,     0,     0,     0,     0,     0,     0,\n",
       "           0,     0,     0,     0,     0,     0,     0,     0,     0,\n",
       "           0,     0,     0,     0,     0,     0,     0,     0,     0,\n",
       "           0,     0,     0,     0,     0,     0,     0,     9,   416,\n",
       "           2,   210,    10,    15,   238,   311,   100,   109, 28203,\n",
       "           5,    33,     3,   173,   352,     4,  1758,     9,   232,\n",
       "         975,    11,     9,    13,  5735,     5,    65,     7,    84,\n",
       "          37,    47,     9,   672,     4,  9942,  9315,    24,    13,\n",
       "          62,   477,     5,    78,   201,     9,    13,   356,  9315,\n",
       "         254,     1,   104,     4,  3373, 15901,    53,    69,     2,\n",
       "        1621,  7132,   254,  1155,  8399,    17,   139, 11306,     1,\n",
       "        2016,     4,     3,    49,    15,     6,    11,     7,    50,\n",
       "        2970,    17,   258,  1334,    10,    28,   117,   619,    11,\n",
       "           1,   442,   764,    61,    13,  2986,    43,    13,  3232,\n",
       "          33,  2142,   303,     1,    88,   304,     4,     1,    15,\n",
       "           2,    71,  1649,     5,  1716,   303,     1,   338,   304,\n",
       "         136, 11778,     1,   764,     9,    23,    62,   210,   107,\n",
       "         362,     8,  1716,    18,   107,   364,  2061,   339,    14,\n",
       "          69,   264,  2816,    23,     5,   276,   246,    65,    92,\n",
       "        2488,    10,    15,    13,    80,     2,     9,  1466,    11,\n",
       "          20,   141,    65,     7,   161,    20,  1671], dtype=int32)"
      ]
     },
     "execution_count": 24,
     "metadata": {},
     "output_type": "execute_result"
    }
   ],
   "source": [
    "maxlen = 250\n",
    "doc_terms_padded = pad_sequences(doc_terms, padding=\"pre\", maxlen=maxlen)\n",
    "doc_terms_padded[0]"
   ]
  },
  {
   "cell_type": "code",
   "execution_count": null,
   "metadata": {
    "scrolled": false
   },
   "outputs": [
    {
     "name": "stdout",
     "output_type": "stream",
     "text": [
      "_________________________________________________________________\n",
      "Layer (type)                 Output Shape              Param #   \n",
      "=================================================================\n",
      "embedding_16 (Embedding)     (None, 1000, 10)          10010     \n",
      "_________________________________________________________________\n",
      "dropout_13 (Dropout)         (None, 1000, 10)          0         \n",
      "_________________________________________________________________\n",
      "conv1d_17 (Conv1D)           (None, 996, 64)           3264      \n",
      "_________________________________________________________________\n",
      "max_pooling1d_17 (MaxPooling (None, 249, 64)           0         \n",
      "_________________________________________________________________\n",
      "conv1d_18 (Conv1D)           (None, 247, 128)          24704     \n",
      "_________________________________________________________________\n",
      "max_pooling1d_18 (MaxPooling (None, 61, 128)           0         \n",
      "_________________________________________________________________\n",
      "lstm_13 (LSTM)               (None, 128)               131584    \n",
      "_________________________________________________________________\n",
      "dense_23 (Dense)             (None, 400)               51600     \n",
      "_________________________________________________________________\n",
      "dense_24 (Dense)             (None, 1)                 401       \n",
      "=================================================================\n",
      "Total params: 221,563\n",
      "Trainable params: 221,563\n",
      "Non-trainable params: 0\n",
      "_________________________________________________________________\n",
      "Train on 25000 samples, validate on 25000 samples\n",
      "Epoch 1/100\n",
      "25000/25000 [==============================] - 45s 2ms/step - loss: 0.5383 - acc: 0.7220 - val_loss: 0.5674 - val_acc: 0.7222\n",
      "Epoch 2/100\n",
      "25000/25000 [==============================] - 44s 2ms/step - loss: 0.4357 - acc: 0.7989 - val_loss: 0.4417 - val_acc: 0.7952\n",
      "Epoch 3/100\n",
      "25000/25000 [==============================] - 44s 2ms/step - loss: 0.3981 - acc: 0.8207 - val_loss: 0.3798 - val_acc: 0.8375\n",
      "Epoch 4/100\n",
      "25000/25000 [==============================] - 44s 2ms/step - loss: 0.3766 - acc: 0.8332 - val_loss: 0.3682 - val_acc: 0.8369\n",
      "Epoch 5/100\n",
      "25000/25000 [==============================] - 44s 2ms/step - loss: 0.3637 - acc: 0.8396 - val_loss: 0.3776 - val_acc: 0.8393\n",
      "Epoch 6/100\n",
      "25000/25000 [==============================] - 44s 2ms/step - loss: 0.3559 - acc: 0.8432 - val_loss: 0.3841 - val_acc: 0.8258\n",
      "Epoch 7/100\n",
      "25000/25000 [==============================] - 44s 2ms/step - loss: 0.3455 - acc: 0.8490 - val_loss: 0.3552 - val_acc: 0.8407\n",
      "Epoch 8/100\n",
      "25000/25000 [==============================] - 44s 2ms/step - loss: 0.3398 - acc: 0.8520 - val_loss: 0.4306 - val_acc: 0.8106\n",
      "Epoch 9/100\n",
      "25000/25000 [==============================] - 44s 2ms/step - loss: 0.3353 - acc: 0.8551 - val_loss: 0.3669 - val_acc: 0.8364\n",
      "Epoch 10/100\n",
      "25000/25000 [==============================] - 44s 2ms/step - loss: 0.3323 - acc: 0.8545 - val_loss: 0.4023 - val_acc: 0.8282\n",
      "Epoch 11/100\n",
      "25000/25000 [==============================] - 44s 2ms/step - loss: 0.3283 - acc: 0.8571 - val_loss: 0.3530 - val_acc: 0.8473\n",
      "Epoch 12/100\n",
      "25000/25000 [==============================] - 44s 2ms/step - loss: 0.3239 - acc: 0.8601 - val_loss: 0.3463 - val_acc: 0.8484\n",
      "Epoch 13/100\n",
      "25000/25000 [==============================] - 44s 2ms/step - loss: 0.3229 - acc: 0.8619 - val_loss: 0.3553 - val_acc: 0.8474\n",
      "Epoch 14/100\n",
      "25000/25000 [==============================] - 44s 2ms/step - loss: 0.3170 - acc: 0.8643 - val_loss: 0.3347 - val_acc: 0.8551\n",
      "Epoch 15/100\n",
      "25000/25000 [==============================] - 44s 2ms/step - loss: 0.3180 - acc: 0.8626 - val_loss: 0.3354 - val_acc: 0.8542\n",
      "Epoch 16/100\n",
      "25000/25000 [==============================] - 44s 2ms/step - loss: 0.3144 - acc: 0.8654 - val_loss: 0.3456 - val_acc: 0.8520\n",
      "Epoch 17/100\n",
      "25000/25000 [==============================] - 44s 2ms/step - loss: 0.3126 - acc: 0.8654 - val_loss: 0.3317 - val_acc: 0.8542\n",
      "Epoch 18/100\n",
      "25000/25000 [==============================] - 44s 2ms/step - loss: 0.3098 - acc: 0.8664 - val_loss: 0.3471 - val_acc: 0.8492\n",
      "Epoch 19/100\n",
      "25000/25000 [==============================] - 44s 2ms/step - loss: 0.3105 - acc: 0.8654 - val_loss: 0.3568 - val_acc: 0.8480\n",
      "Epoch 20/100\n",
      "25000/25000 [==============================] - 44s 2ms/step - loss: 0.3068 - acc: 0.8669 - val_loss: 0.3508 - val_acc: 0.8490\n",
      "Epoch 21/100\n",
      "25000/25000 [==============================] - 44s 2ms/step - loss: 0.3081 - acc: 0.8665 - val_loss: 0.3750 - val_acc: 0.8367\n",
      "Epoch 22/100\n",
      "25000/25000 [==============================] - 44s 2ms/step - loss: 0.3057 - acc: 0.8702 - val_loss: 0.3460 - val_acc: 0.8470\n",
      "Epoch 23/100\n",
      "25000/25000 [==============================] - 44s 2ms/step - loss: 0.3042 - acc: 0.8709 - val_loss: 0.3401 - val_acc: 0.8521\n",
      "Epoch 24/100\n",
      "25000/25000 [==============================] - 44s 2ms/step - loss: 0.3044 - acc: 0.8682 - val_loss: 0.3367 - val_acc: 0.8540\n",
      "Epoch 25/100\n",
      "25000/25000 [==============================] - 44s 2ms/step - loss: 0.3011 - acc: 0.8722 - val_loss: 0.3530 - val_acc: 0.8500\n",
      "Epoch 26/100\n",
      "25000/25000 [==============================] - 44s 2ms/step - loss: 0.3007 - acc: 0.8699 - val_loss: 0.3344 - val_acc: 0.8523\n",
      "Epoch 27/100\n",
      "25000/25000 [==============================] - 44s 2ms/step - loss: 0.3007 - acc: 0.8717 - val_loss: 0.3561 - val_acc: 0.8490\n",
      "Epoch 28/100\n",
      "25000/25000 [==============================] - 44s 2ms/step - loss: 0.2996 - acc: 0.8710 - val_loss: 0.3473 - val_acc: 0.8521\n",
      "Epoch 29/100\n",
      "25000/25000 [==============================] - 44s 2ms/step - loss: 0.2999 - acc: 0.8715 - val_loss: 0.3407 - val_acc: 0.8519\n",
      "Epoch 30/100\n",
      "25000/25000 [==============================] - 44s 2ms/step - loss: 0.2970 - acc: 0.8734 - val_loss: 0.3410 - val_acc: 0.8530\n",
      "Epoch 31/100\n",
      "25000/25000 [==============================] - 44s 2ms/step - loss: 0.2977 - acc: 0.8728 - val_loss: 0.3666 - val_acc: 0.8385\n",
      "Epoch 32/100\n",
      "25000/25000 [==============================] - 44s 2ms/step - loss: 0.2933 - acc: 0.8756 - val_loss: 0.3465 - val_acc: 0.8492\n",
      "Epoch 33/100\n",
      "25000/25000 [==============================] - 44s 2ms/step - loss: 0.2956 - acc: 0.8717 - val_loss: 0.3837 - val_acc: 0.8319\n",
      "Epoch 34/100\n",
      "25000/25000 [==============================] - 44s 2ms/step - loss: 0.2968 - acc: 0.8704 - val_loss: 0.3486 - val_acc: 0.8531\n",
      "Epoch 35/100\n",
      "25000/25000 [==============================] - 44s 2ms/step - loss: 0.2943 - acc: 0.8720 - val_loss: 0.3520 - val_acc: 0.8466\n",
      "Epoch 36/100\n",
      "25000/25000 [==============================] - 44s 2ms/step - loss: 0.2885 - acc: 0.8772 - val_loss: 0.3552 - val_acc: 0.8525\n",
      "Epoch 37/100\n",
      "25000/25000 [==============================] - 44s 2ms/step - loss: 0.2888 - acc: 0.8768 - val_loss: 0.3511 - val_acc: 0.8484\n",
      "Epoch 38/100\n",
      "25000/25000 [==============================] - 44s 2ms/step - loss: 0.2887 - acc: 0.8750 - val_loss: 0.3653 - val_acc: 0.8508\n",
      "Epoch 39/100\n",
      "25000/25000 [==============================] - 44s 2ms/step - loss: 0.2864 - acc: 0.8778 - val_loss: 0.3668 - val_acc: 0.8448\n",
      "Epoch 40/100\n",
      "25000/25000 [==============================] - 44s 2ms/step - loss: 0.2866 - acc: 0.8777 - val_loss: 0.3481 - val_acc: 0.8486\n",
      "Epoch 41/100\n",
      "25000/25000 [==============================] - 44s 2ms/step - loss: 0.2863 - acc: 0.8784 - val_loss: 0.3878 - val_acc: 0.8408\n",
      "Epoch 42/100\n",
      "25000/25000 [==============================] - 44s 2ms/step - loss: 0.2882 - acc: 0.8757 - val_loss: 0.3539 - val_acc: 0.8465\n",
      "Epoch 43/100\n",
      "25000/25000 [==============================] - 44s 2ms/step - loss: 0.2874 - acc: 0.8782 - val_loss: 0.3463 - val_acc: 0.8504\n",
      "Epoch 44/100\n",
      "25000/25000 [==============================] - 44s 2ms/step - loss: 0.2890 - acc: 0.8761 - val_loss: 0.3566 - val_acc: 0.8464\n",
      "Epoch 45/100\n",
      "25000/25000 [==============================] - 44s 2ms/step - loss: 0.2877 - acc: 0.8745 - val_loss: 0.3516 - val_acc: 0.8499\n",
      "Epoch 46/100\n",
      "25000/25000 [==============================] - 44s 2ms/step - loss: 0.2853 - acc: 0.8767 - val_loss: 0.3437 - val_acc: 0.8526\n",
      "Epoch 47/100\n",
      "25000/25000 [==============================] - 44s 2ms/step - loss: 0.2868 - acc: 0.8766 - val_loss: 0.3506 - val_acc: 0.8492\n",
      "Epoch 48/100\n",
      "25000/25000 [==============================] - 44s 2ms/step - loss: 0.2822 - acc: 0.8786 - val_loss: 0.3716 - val_acc: 0.8444\n",
      "Epoch 49/100\n",
      "25000/25000 [==============================] - 44s 2ms/step - loss: 0.2855 - acc: 0.8779 - val_loss: 0.3565 - val_acc: 0.8447\n",
      "Epoch 50/100\n",
      "25000/25000 [==============================] - 44s 2ms/step - loss: 0.2831 - acc: 0.8779 - val_loss: 0.3643 - val_acc: 0.8450\n",
      "Epoch 51/100\n",
      "25000/25000 [==============================] - 44s 2ms/step - loss: 0.2851 - acc: 0.8771 - val_loss: 0.3571 - val_acc: 0.8460\n",
      "Epoch 52/100\n",
      "25000/25000 [==============================] - 44s 2ms/step - loss: 0.2891 - acc: 0.8736 - val_loss: 0.3660 - val_acc: 0.8468\n",
      "Epoch 53/100\n",
      "25000/25000 [==============================] - 44s 2ms/step - loss: 0.2848 - acc: 0.8784 - val_loss: 0.3521 - val_acc: 0.8458\n",
      "Epoch 54/100\n",
      "25000/25000 [==============================] - 44s 2ms/step - loss: 0.2862 - acc: 0.8764 - val_loss: 0.3492 - val_acc: 0.8470\n",
      "Epoch 55/100\n",
      "25000/25000 [==============================] - 44s 2ms/step - loss: 0.2806 - acc: 0.8778 - val_loss: 0.3698 - val_acc: 0.8484\n",
      "Epoch 56/100\n",
      "25000/25000 [==============================] - 44s 2ms/step - loss: 0.2837 - acc: 0.8772 - val_loss: 0.3573 - val_acc: 0.8487\n",
      "Epoch 57/100\n",
      "25000/25000 [==============================] - 44s 2ms/step - loss: 0.2850 - acc: 0.8764 - val_loss: 0.3631 - val_acc: 0.8468\n",
      "Epoch 58/100\n",
      "25000/25000 [==============================] - 44s 2ms/step - loss: 0.2897 - acc: 0.8751 - val_loss: 0.3551 - val_acc: 0.8450\n",
      "Epoch 59/100\n",
      "25000/25000 [==============================] - 44s 2ms/step - loss: 0.2880 - acc: 0.8759 - val_loss: 0.3676 - val_acc: 0.8422\n",
      "Epoch 60/100\n",
      "25000/25000 [==============================] - 44s 2ms/step - loss: 0.2849 - acc: 0.8777 - val_loss: 0.3682 - val_acc: 0.8470\n",
      "Epoch 61/100\n",
      "25000/25000 [==============================] - 44s 2ms/step - loss: 0.2794 - acc: 0.8808 - val_loss: 0.3543 - val_acc: 0.8459\n",
      "Epoch 62/100\n",
      "25000/25000 [==============================] - 44s 2ms/step - loss: 0.2792 - acc: 0.8786 - val_loss: 0.3768 - val_acc: 0.8478\n",
      "Epoch 63/100\n",
      "25000/25000 [==============================] - 44s 2ms/step - loss: 0.2816 - acc: 0.8782 - val_loss: 0.3825 - val_acc: 0.8453\n",
      "Epoch 64/100\n",
      "25000/25000 [==============================] - 44s 2ms/step - loss: 0.2825 - acc: 0.8786 - val_loss: 0.3643 - val_acc: 0.8460\n",
      "Epoch 65/100\n",
      "25000/25000 [==============================] - 44s 2ms/step - loss: 0.2786 - acc: 0.8807 - val_loss: 0.3633 - val_acc: 0.8470\n",
      "Epoch 66/100\n",
      "25000/25000 [==============================] - 44s 2ms/step - loss: 0.2790 - acc: 0.8799 - val_loss: 0.3764 - val_acc: 0.8423\n",
      "Epoch 67/100\n",
      "25000/25000 [==============================] - 44s 2ms/step - loss: 0.2800 - acc: 0.8794 - val_loss: 0.3678 - val_acc: 0.8484\n",
      "Epoch 68/100\n",
      "25000/25000 [==============================] - 44s 2ms/step - loss: 0.2777 - acc: 0.8780 - val_loss: 0.3762 - val_acc: 0.8396\n",
      "Epoch 69/100\n",
      "25000/25000 [==============================] - 44s 2ms/step - loss: 0.2770 - acc: 0.8798 - val_loss: 0.3574 - val_acc: 0.8478\n",
      "Epoch 70/100\n",
      "25000/25000 [==============================] - 44s 2ms/step - loss: 0.2762 - acc: 0.8809 - val_loss: 0.3987 - val_acc: 0.8438\n",
      "Epoch 71/100\n",
      "25000/25000 [==============================] - 44s 2ms/step - loss: 0.2800 - acc: 0.8798 - val_loss: 0.3667 - val_acc: 0.8470\n",
      "Epoch 72/100\n",
      "25000/25000 [==============================] - 44s 2ms/step - loss: 0.2767 - acc: 0.8793 - val_loss: 0.3773 - val_acc: 0.8405\n",
      "Epoch 73/100\n",
      "25000/25000 [==============================] - 44s 2ms/step - loss: 0.2712 - acc: 0.8841 - val_loss: 0.3591 - val_acc: 0.8453\n",
      "Epoch 74/100\n",
      "25000/25000 [==============================] - 44s 2ms/step - loss: 0.2766 - acc: 0.8819 - val_loss: 0.3683 - val_acc: 0.8462\n",
      "Epoch 75/100\n",
      "25000/25000 [==============================] - 44s 2ms/step - loss: 0.2762 - acc: 0.8837 - val_loss: 0.3700 - val_acc: 0.8438\n",
      "Epoch 76/100\n",
      "25000/25000 [==============================] - 44s 2ms/step - loss: 0.2759 - acc: 0.8800 - val_loss: 0.3787 - val_acc: 0.8429\n",
      "Epoch 77/100\n",
      "25000/25000 [==============================] - 44s 2ms/step - loss: 0.2723 - acc: 0.8850 - val_loss: 0.3797 - val_acc: 0.8420\n",
      "Epoch 78/100\n",
      "25000/25000 [==============================] - 44s 2ms/step - loss: 0.2772 - acc: 0.8816 - val_loss: 0.3709 - val_acc: 0.8426\n",
      "Epoch 79/100\n",
      "25000/25000 [==============================] - 44s 2ms/step - loss: 0.2819 - acc: 0.8768 - val_loss: 0.3829 - val_acc: 0.8439\n",
      "Epoch 80/100\n",
      "25000/25000 [==============================] - 44s 2ms/step - loss: 0.2779 - acc: 0.8788 - val_loss: 0.3735 - val_acc: 0.8422\n",
      "Epoch 81/100\n",
      "25000/25000 [==============================] - 44s 2ms/step - loss: 0.2885 - acc: 0.8716 - val_loss: 0.3656 - val_acc: 0.8414\n",
      "Epoch 82/100\n",
      "25000/25000 [==============================] - 44s 2ms/step - loss: 0.2820 - acc: 0.8775 - val_loss: 0.3705 - val_acc: 0.8432\n",
      "Epoch 83/100\n",
      "25000/25000 [==============================] - 44s 2ms/step - loss: 0.2804 - acc: 0.8782 - val_loss: 0.3728 - val_acc: 0.8384\n",
      "Epoch 84/100\n",
      "25000/25000 [==============================] - 44s 2ms/step - loss: 0.2780 - acc: 0.8814 - val_loss: 0.3772 - val_acc: 0.8423\n",
      "Epoch 85/100\n",
      "25000/25000 [==============================] - 44s 2ms/step - loss: 0.2780 - acc: 0.8800 - val_loss: 0.3684 - val_acc: 0.8416\n",
      "Epoch 86/100\n",
      "25000/25000 [==============================] - 44s 2ms/step - loss: 0.2748 - acc: 0.8826 - val_loss: 0.3758 - val_acc: 0.8412\n",
      "Epoch 87/100\n",
      "25000/25000 [==============================] - 44s 2ms/step - loss: 0.2804 - acc: 0.8782 - val_loss: 0.3962 - val_acc: 0.8380\n",
      "Epoch 88/100\n",
      " 3904/25000 [===>..........................] - ETA: 28s - loss: 0.2840 - acc: 0.8719"
     ]
    }
   ],
   "source": [
    "tf.set_random_seed(1)\n",
    "np.random.seed(1)\n",
    "\n",
    "model = Sequential()\n",
    "model.add(Embedding(maxlen + 1, 10, input_length=maxlen))\n",
    "model.add(Dropout(0.2))\n",
    "model.add(Conv1D(64, 5, activation='tanh'))\n",
    "model.add(MaxPooling1D(pool_size=4))\n",
    "model.add(Conv1D(128, 3, activation='tanh'))\n",
    "model.add(MaxPooling1D(pool_size=4))\n",
    "model.add(LSTM(128))\n",
    "model.add(Dense(400, activation='tanh'))\n",
    "model.add(Dense(1, activation='sigmoid'))\n",
    "model.compile(loss='binary_crossentropy', optimizer='adam', metrics=['accuracy'])\n",
    "model.summary()\n",
    "model.fit(doc_terms_padded[is_training], y[is_training]\n",
    "          , validation_data=(doc_terms_padded[~is_training], y[~is_training])\n",
    "          , batch_size=64\n",
    "          , epochs=100)\n"
   ]
  },
  {
   "cell_type": "code",
   "execution_count": null,
   "metadata": {},
   "outputs": [],
   "source": []
  }
 ],
 "metadata": {
  "kernelspec": {
   "display_name": "Python 3",
   "language": "python",
   "name": "python3"
  },
  "language_info": {
   "codemirror_mode": {
    "name": "ipython",
    "version": 3
   },
   "file_extension": ".py",
   "mimetype": "text/x-python",
   "name": "python",
   "nbconvert_exporter": "python",
   "pygments_lexer": "ipython3",
   "version": "3.7.3"
  }
 },
 "nbformat": 4,
 "nbformat_minor": 2
}
